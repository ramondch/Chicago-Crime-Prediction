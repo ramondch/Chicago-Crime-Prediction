{
 "cells": [
  {
   "cell_type": "markdown",
   "metadata": {},
   "source": [
    "# ***PREDICCIÓN DE ACTOS DELICTIVOS - CHICAGO***\n",
    "\n",
    "## Alumnos:\n",
    "\n",
    "### `Noelia García`\n",
    "\n",
    "### `Carlos Astorga`\n",
    "\n",
    "### `Ramón Denia`"
   ]
  },
  {
   "cell_type": "markdown",
   "metadata": {},
   "source": [
    "# ***PREDICCIÓN***\n",
    "\n",
    "---"
   ]
  },
  {
   "cell_type": "markdown",
   "metadata": {},
   "source": [
    "Importación de las librerias necesarias para realizar la predicción y analisis de las variables. Estas librerias se han ido nutriendo segun avanzaba el codigo"
   ]
  },
  {
   "cell_type": "code",
   "execution_count": 97,
   "metadata": {},
   "outputs": [],
   "source": [
    "#pip install tensorflow"
   ]
  },
  {
   "cell_type": "code",
   "execution_count": 98,
   "metadata": {},
   "outputs": [],
   "source": [
    "#Librerias\n",
    "import warnings\n",
    "warnings.filterwarnings(\"ignore\")\n",
    "\n",
    "import numpy as np\n",
    "import pandas as pd\n",
    "import seaborn as sns\n",
    "import calendar\n",
    "\n",
    "\n",
    "import matplotlib.pyplot as plt\n",
    "from matplotlib import style\n",
    "style.use('ggplot')\n",
    "\n",
    "from datetime import datetime\n",
    "import time\n",
    "from time import sleep\n",
    "%matplotlib inline\n",
    "plt.style.use('seaborn')\n",
    "\n",
    "from numpy import arange\n",
    "from matplotlib import pyplot\n",
    "from pandas import set_option\n",
    "from pandas.plotting import scatter_matrix\n",
    "\n",
    "from sklearn.preprocessing import StandardScaler\n",
    "from sklearn.preprocessing import LabelBinarizer\n",
    "from sklearn.preprocessing import OneHotEncoder\n",
    "from sklearn.preprocessing import MinMaxScaler\n",
    "\n",
    "from sklearn.model_selection import train_test_split\n",
    "from sklearn.model_selection import KFold\n",
    "from sklearn.model_selection import cross_val_score\n",
    "from sklearn.model_selection import GridSearchCV\n",
    "\n",
    "from sklearn.linear_model import LinearRegression\n",
    "from sklearn.linear_model import Lasso\n",
    "from sklearn.linear_model import ElasticNet\n",
    "\n",
    "from sklearn.tree import DecisionTreeRegressor\n",
    "from sklearn.tree import DecisionTreeClassifier\n",
    "from sklearn.neighbors import KNeighborsRegressor\n",
    "from sklearn.svm import SVR\n",
    "from sklearn.pipeline import Pipeline\n",
    "from sklearn.dummy import DummyClassifier\n",
    "from sklearn.naive_bayes import GaussianNB\n",
    "\n",
    "from sklearn.cluster import AgglomerativeClustering as AC\n",
    "from sklearn.feature_selection import RFECV\n",
    "\n",
    "from sklearn.ensemble import RandomForestRegressor\n",
    "from sklearn.ensemble import GradientBoostingRegressor\n",
    "from sklearn.ensemble import GradientBoostingClassifier\n",
    "from sklearn.ensemble import ExtraTreesRegressor\n",
    "from sklearn.ensemble import AdaBoostRegressor\n",
    "from sklearn.ensemble import RandomForestClassifier\n",
    "from sklearn.ensemble import AdaBoostClassifier\n",
    "\n",
    "\n",
    "from sklearn.metrics import accuracy_score, precision_score, recall_score, f1_score, confusion_matrix\n",
    "from sklearn.metrics import roc_curve, roc_auc_score\n",
    "from sklearn.metrics import mean_squared_error"
   ]
  },
  {
   "cell_type": "markdown",
   "metadata": {},
   "source": [
    "Cargar los datos con los que se cuenta y crear la variable \"dataset\" que engloba todos los datos."
   ]
  },
  {
   "cell_type": "code",
   "execution_count": 99,
   "metadata": {},
   "outputs": [],
   "source": [
    "dataset = pd.read_csv ('DATASET CHICAGO.csv', low_memory = False, encoding=\"ISO-8859-1\")\n",
    "#Hemos hecho un low_memory=False, porque nos daba problemas a la hora de interpretar el tipo de datos de algunas filas"
   ]
  },
  {
   "cell_type": "markdown",
   "metadata": {},
   "source": [
    "Eliminamos los valores nulos de nuestro dataset"
   ]
  },
  {
   "cell_type": "code",
   "execution_count": 100,
   "metadata": {},
   "outputs": [],
   "source": [
    "# Se eliminan los valores nulos\n",
    "dataset.dropna(axis=0,inplace=True)"
   ]
  },
  {
   "cell_type": "markdown",
   "metadata": {},
   "source": [
    "Agrupamos las variables del dataset tal y como hemos hecho en el **Notebook_Análisis**"
   ]
  },
  {
   "cell_type": "code",
   "execution_count": 101,
   "metadata": {},
   "outputs": [],
   "source": [
    "dataset[\"Primary Type\"] = dataset[\"Primary Type\"].replace({\n",
    "     \"THEFT\": \"THEFT & ROBBERY\", \"BURGLARY\": \"THEFT & ROBBERY\", \"MOTOR VEHICLE THEFT\": \"THEFT & ROBBERY\",\n",
    "     \"ROBBERY\": \"THEFT & ROBBERY\", \"BATTERY\": \"ASSAULT\", \"CRIM SEXUAL ASSAULT\": \"ASSAULT\", \"PROSTITUTION\": \"SEX CRIMES\",\n",
    "     \"SEX OFFENSE\": \"SEX CRIMES\", \"CRIMINAL TRESPASS\": \"CRIMINAL DAMAGE\", \"ARSON\": \"CRIMINAL DAMAGE\", \"OTHER OFFENSE\":\n",
    "     \"OTHER OFFENSES\", \"DECEPTIVE PRACTICE\": \"OTHER OFFENSES\", \"WEAPONS VIOLATION\": \"OTHER OFFENSES\", \"GAMBLING\":\n",
    "     \"OTHER OFFENSES\", \"STALKING\": \"OTHER OFFENSES\", \"KIDNAPPING\": \"OTHER OFFENSES\", \"OBSCENITY\": \"OTHER OFFENSES\",\n",
    "     \"INTIMIDATION\": \"OTHER OFFENSES\", \"RITUALISM\": \"OTHER OFFENSES\", \"HUMAN TRAFFICKING\": \"OTHER OFFENSES\",\n",
    "     \"CONCEALED CARRY LICENSE VIOLATION\": \"OTHER OFFENSES\", \"NON-CRIMINAL (SUBJECT SPECIFIED)\": \"OTHER OFFENSES\",\n",
    "     \"NON-CRIMINAL\": \"OTHER OFFENSES\", \"PUBLIC PEACE VIOLATION\": \"OTHER OFFENSES\", \"OFFENSE INVOLVING CHILDREN\":\n",
    "     \"OTHER OFFENSES\", \"INTERFERENCE WITH PUBLIC OFFICER\": \"OTHER OFFENSES\", \"LIQUOR LAW VIOLATION\": \"OTHER OFFENSES\",\n",
    "     \"NON - CRIMINAL\": \"OTHER OFFENSES\", \"OTHER NARCOTIC VIOLATION\": \"NARCOTICS\", \"PUBLIC INDECENCY\": \"OTHER OFFENSES\",\n",
    "     \"HOMICIDE\": \"ASSAULT\" })"
   ]
  },
  {
   "cell_type": "code",
   "execution_count": 102,
   "metadata": {},
   "outputs": [],
   "source": [
    "dataset[\"Location Description\"] = dataset['Location Description'].replace({\"SIDEWALK\":\"STREET\", \"ALLEY\":\"STREET\",\n",
    "            \"APARTMENT\":\"RESIDENCE\",\"RESIDENCE-GARAGE\":\"RESIDENCE\",\"RESIDENCE PORCH/HALLWAY\": \n",
    "            \"RESIDENCE\", \"RESIDENTIAL YARD (FRONT/BACK)\":\"RESIDENCE\",\"CHA APARTMENT\": \"RESIDENCE\",\n",
    "            \"CHA HALLWAY/STAIRWELL/ELEVATOR\": \"RESIDENCE\",\"SMALL RETAIL STORE\":\"RETAIL OUTLET\",\"DRUG STORE\":\n",
    "            \"RETAIL OUTLET\",\"GAS STATION\":\"RETAIL OUTLET\",\"DEPARTMENT STORE\":\"RETAIL OUTLET\",\"RETAIL STORES\":\n",
    "            \"RETAIL OUTLET\",\"RESTAURANT\":\"BUSINESS\",\"BAR OR TAVERN\":\"BUSINESS\",\"RESTAURANT\":\"BUSINESS\",\"BANK\":\n",
    "            \"BUSINESS\",\"HOTEL/MOTEL\":\"BUSINESS\",\"VEHICLE NON-COMMERCIAL\":\"VEHICLE\",\"PARKING LOT\":\"PUBLIC BUILDING/GROUNDS\",\n",
    "            \"SCHOOL, PUBLIC, BUILDING\":\"SCHOOL\",\"PARK PROPERTY\":\"PUBLIC BUILDING/GROUNDS\",\"CTA PLATFORM\":\n",
    "            \"PUBLIC BUILDING/GROUNDS\",\"CHA PARKING LOT/GROUNDS\":\"PUBLIC BUILDING/GROUNDS\",\"SCHOOL, PUBLIC, GROUNDS\":\n",
    "            \"SCHOOL\", \"CTA TRAIN\":\"PUBLIC BUILDING/GROUNDS\",\"VACANT LOT/LAND\":\"PUBLIC BUILDING/GROUNDS\",\n",
    "            \"GROCERY FOOD STORE\":\"RETAIL OUTLET\",\"PUBLIC HIGH SCHOOL\":\"SCHOOL\",'CTA \"L\" TRAIN':\n",
    "            \"PUBLIC BUILDING/GROUNDS\",\"PARKING LOT/GARAGE(NON.RESID.)\":\"PUBLIC BUILDING/GROUNDS\",\"CTA BUS\":\"VEHICLE\",\n",
    "            \"TAVERN/LIQUOR STORE\":\"RETAIL OUTLET\",\"HOSPITAL BUILDING/GROUNDS\":\"HOSPITAL\",\n",
    "            \"POLICE FACILITY/VEH PARKING LOT\":\"POLICE BUILDING\",\"CONVENIENCE STORE\":\n",
    "            \"RETAIL OUTLET\",\"CHURCH/SYNAGOGUE/PLACE OF WORSHIP\":\"CHURCH\",\"GOVERNMENT BUILDING/PROPERTY\":\n",
    "            \"FEDERAL BUILDING\",\"SCHOOL, PRIVATE, BUILDING\":\"SCHOOL\",\"GOVERNMENT BUILDING\":\n",
    "            \"FEDERAL BUILDING\",\"CONSTRUCTION SITE\":\"BUSINESS\",\"WAREHOUSE\":\"BUSINESS\",\"AIRCRAFT\":\"AIRPORT\",\n",
    "            \"ABANDONED BUILDING\":\"OTHER\",\"CTA GARAGE / OTHER PROPERTY\":\"PUBLIC BUILDING/GROUNDS\",\"TAXICAB\":\"VEHICLE\",\n",
    "            \"CTA BUS STOP\":\"PUBLIC BUILDING/GROUNDS\",\"BARBERSHOP\":\"BUSINESS\",\"CURRENCY EXCHANGE\":\"BUSINESS\",\"LIBRARY\":\n",
    "            \"PUBLIC BUILDING/GROUNDS\",\"ATHLETIC CLUB\":\"PUBLIC BUILDING/GROUNDS\",\"MEDICAL/DENTAL OFFICE\":\"BUSINESS\",\n",
    "            \"FACTORY/MANUFACTURING BUILDING\":\"BUSINESS\",\"COMMERCIAL / BUSINESS OFFICE\":\"BUSINESS\",\"SCHOOL, PRIVATE, GROUNDS\":\n",
    "            \"SCHOOL\",\"CLEANING STORE\":\"RETAIL OUTLET\",\"VEHICLE-COMMERCIAL\":\"VEHICLE\",\"COLLEGE/UNIVERSITY GROUNDS\":\"SCHOOL\",\n",
    "            \"DRIVEWAY - RESIDENTIAL\":\"RESIDENCE\",\"SPORTS ARENA/STADIUM\":\"PUBLIC BUILDING/GROUNDS\",\"CTA STATION\":\n",
    "            \"PUBLIC BUILDING/GROUNDS\",\"ATM (AUTOMATIC TELLER MACHINE)\":\"BUSINESS\",\"DAY CARE CENTER\":\"SCHOOL\",\"BUSINESS\":\n",
    "            \"BUSINESS\",\"CAR WASH\":\"BUSINESS\",\"AUTO\":\"VEHICLE\",\"COLLEGE/UNIVERSITY RESIDENCE HALL\":\"SCHOOL\",\"MOVIE HOUSE/THEATER\":\n",
    "            \"RETAIL OUTLET\", \"APPLIANCE STORE\":\"RETAIL OUTLET\",\"HIGHWAY/EXPRESSWAY\":\"STREET\",\"LAKEFRONT/WATERFRONT/RIVERBANK\":\n",
    "            \"OTHER\",\"AIRPORT TERMINAL UPPER LEVEL - SECURE AREA\":\"AIRPORT\",\"AIRPORT TERMINAL LOWER LEVEL - NON-SECURE AREA\":\n",
    "            \"AIRPORT\",\"AIRPORT BUILDING NON-TERMINAL - NON-SECURE AREA\":\"AIRPORT\",\"AIRPORT VENDING ESTABLISHMENT\":\"AIRPORT\",\n",
    "            \"AIRPORT TERMINAL LOWER LEVEL - SECURE AREA\":\"AIRPORT\",\"AIRPORT BUILDING NON-TERMINAL - SECURE AREA\":\"AIRPORT\",\n",
    "            \"DELIVERY TRUCK\":\"VEHICLE\",\"ANIMAL HOSPITAL\":\"HOSPITAL\",\"AIRPORT TERMINAL UPPER LEVEL - NON-SECURE AREA\":\"AIRPORT\",\n",
    "            \"AIRPORT PARKING LOT\":\"AIRPORT\",\"OTHER COMMERCIAL TRANSPORTATION\":\"VEHICLE\",\"VEHICLE - OTHER RIDE SERVICE\":\"VEHICLE\",\n",
    "            \"CREDIT UNION\":\"BUSINESS\",\"AIRPORT EXTERIOR - NON-SECURE AREA\":\"AIRPORT\",\"HOUSE\":\"RESIDENCE\",\"AIRPORT EXTERIOR - SECURE AREA\":\n",
    "            \"AIRPORT\", \"POOL ROOM\":\"OTHER\",\"COIN OPERATED MACHINE\":\"OTHER\",\"PAWN SHOP\":\"OTHER\",\"YARD\":\"OTHER\",\"BOWLING ALLEY\":\"OTHER\",\n",
    "            \"BOAT/WATERCRAFT\":\"OTHER\",\"BRIDGE\":\"STREET\",\"CEMETERY\":\"PUBLIC BUILDING/GROUNDS\",\"FOREST PRESERVE\":\n",
    "            \"OTHER\",\"SAVINGS AND LOAN\":\"BUSINESS\",\"VACANT LOT\":\"OTHER\",\"GANGWAY\":\"AIRPORT\",\"PUBLIC BUILDING/GROUND\":\"PUBLIC BUILDING/GROUNDS\",\n",
    "            \"VEHICLE - OTHER RIDE SHARE SERVICE (E.G., UBER, LYFT)\":\"VEHICLE\",\"PORCH\":\"RESIDENCE\",\"NEWSSTAND\":\"STREET\",\"RETAIL STORE\":\"RETAIL OUTLET\",\n",
    "            \"AIRPORT TERMINAL MEZZANINE - NON-SECURE AREA\":\"AIRPORT\",\"AIRPORT TRANSPORTATION SYSTEM (ATS)\":\"AIRPORT\",\"HALLWAY\":\"OTHER\",\n",
    "            \"VEHICLE - DELIVERY TRUCK\":\"VEHICLE\",\"AUTO / BOAT / RV DEALERSHIP\":\"BUSINESS\",\"CEMETARY\":\"PUBLIC BUILDING/GROUNDS\",\"GARAGE\":\"OTHER\",\n",
    "            \"CTA TRACKS - RIGHT OF WAY\":\"OTHER\",\"CHA PARKING LOT\":\"PUBLIC BUILDING/GROUNDS\",\"GAS STATION DRIVE/PROP.\":\"RETAIL OUTLET\",\n",
    "            \"CHA GROUNDS\":\"PUBLIC BUILDING/GROUNDS\",\"TAVERN\":\"BUSINESS\",\"BASEMENT\":\"RESIDENCE\",\"CHA HALLWAY\":\"RESIDENCE\",\"OFFICE\":\"BUSINESS\",\n",
    "            \"DRIVEWAY\":\"RESIDENCE\",\"VESTIBULE\":\"OTHER\",\"STAIRWELL\":\"OTHER\",\"HOTEL\":\"BUSINESS\",\"CLUB\":\"BUSINESS\",\"OFFICE\":\"BUSINESS\",\"BARBER SHOP/BEAUTY SALON\":\n",
    "            \"BUSINESS\",\"SCHOOL YARD\":\"SCHOOL\",\"RAILROAD PROPERTY\":\"PUBLIC BUILDING/GROUNDS\",\"PUBLIC GRAMMAR SCHOOL\":\"SCHOOL\",\"TRUCK\":\"VEHICLE\",\"TAXI CAB\":\n",
    "            \"VEHICLE\",\"DUMPSTER\":\"VEHICLE\",\"MOTEL\":\"BUSINESS\",\"CHA LOBBY\":\"PUBLIC BUILDING/GROUNDS\",\"CHA STAIRWELL\":\"PUBLIC BUILDING/GROUNDS\",\n",
    "            \"GARAGE/AUTO REPAIR\":\"BUSINESS\",\"LIQUOR STORE\":\"RETAIL OUTLET\",\"NURSING HOME\":\"HOSPITAL\",\"CTA PROPERTY\":\"PUBLIC BUILDING/GROUNDS\",\"TRAILER\":\"OTHER\",\n",
    "            \"YMCA\":\"OTHER\",\"LAKE\":\"OTHER\",\"VEHICLE-COMMERCIAL - TROLLEY BUS\":\"VEHICLE\",\"VEHICLE-COMMERCIAL - ENTERTAINMENT/PARTY BUS\":\"VEHICLE\",\"RIVER\":\"OTHER\",\n",
    "            \"KENNEL\":\"OTHER\",\"FUNERAL PARLOR\":\"BUSINESS\",\"BANQUET HALL\":\"OTHER\",\"ROOMING HOUSE\":\"OTHER\",\"LIVERY STAND OFFICE\":\"BUSINESS\",\n",
    "            \"LAUNDRY ROOM\":\"OTHER\",\"PRAIRIE\":\"OTHER\",\"RIVER BANK\":\"OTHER\",\"COACH HOUSE\":\"OTHER\",\"SEWER\":\"OTHER\",\"LAGOON\":\"OTHER\",\"CLEANERS/LAUNDROMAT\":\"BUSINESS\",\n",
    "            \"HORSE STABLE\":\"OTHER\",\"FACTORY\":\"BUSINESS\",\"CHA BREEZEWAY\":\"OTHER\",\"CHA ELEVATOR\":\"PUBLIC BUILDING/GROUNDS\",\"FARM\":\"OTHER\",\"ELEVATOR\":\"OTHER\",\n",
    "            \"POOLROOM\":\"OTHER\",\"WOODED AREA\":\"OTHER\",\"LOADING DOCK\":\"OTHER\",\"TRUCKING TERMINAL\":\"OTHER\",\"LIVERY AUTO\":\"BUSINESS\",\"CHURCH PROPERTY\":\"CHURCH\",\n",
    "            \"EXPRESSWAY EMBANKMENT\":\"STREET\",\"CHA PLAY LOT\":\"PUBLIC BUILDING/GROUNDS\",'CTA \"L\" PLATFORM':\"PUBLIC BUILDING/GROUNDS\",\"JUNK YARD/GARBAGE DUMP\":\n",
    "            \"OTHER\",\"COUNTY JAIL\":\"POLICE/FIRE STATION\",\"JAIL / LOCK-UP FACILITY\":\"POLICE/FIRE STATION\",\"POLICE BUILDING\":\"POLICE/FIRE STATION\",\n",
    "            \"NURSING HOME/RETIREMENT HOME\":\"HOSPITAL\", \"FIRE STATION\":\"POLICE/FIRE STATION\",\"OTHER RAILROAD PROP / TRAIN DEPOT\":\"PUBLIC BUILDING/GROUNDS\",\"AIPORT/AIRCRAFT\":\n",
    "            \"AIRPORT/AIRCRAFT\",\"AIRPORT\": \"AIRPORT/AIRCRAFT\",\"HOSPITAL\":\"PUBLIC BUILDING/GROUNDS\",\"CHURCH\":\"OTHER\",\"FEDERAL BUILDING\":\"PUBLIC BUILDING/GROUNDS\",\n",
    "            \"POLICE/FIRE STATION\":\"PUBLIC BUILDING/GROUNDS\",\"AIRPORT/AIRCRAFT\":\"PUBLIC BUILDING/GROUNDS\",\"PUBLIC BUILDING/GROUNDS\":\"PUBLIC BLDG\"                                        \n",
    "            })"
   ]
  },
  {
   "cell_type": "code",
   "execution_count": 103,
   "metadata": {},
   "outputs": [],
   "source": [
    "dataset['Date'] = pd.to_datetime(dataset['Date'], infer_datetime_format=True)"
   ]
  },
  {
   "cell_type": "code",
   "execution_count": 104,
   "metadata": {},
   "outputs": [],
   "source": [
    "dataset[\"date\"] = dataset[\"Date\"].dt.date\n",
    "dataset[\"year\"] = dataset[\"Date\"].dt.year\n",
    "dataset[\"month\"] = dataset[\"Date\"].dt.month\n",
    "dataset[\"day\"] = dataset[\"Date\"].dt.day\n",
    "dataset[\"time\"] = dataset[\"Date\"].dt.time"
   ]
  },
  {
   "cell_type": "code",
   "execution_count": 105,
   "metadata": {},
   "outputs": [
    {
     "data": {
      "text/plain": [
       "218836975"
      ]
     },
     "execution_count": 105,
     "metadata": {},
     "output_type": "execute_result"
    }
   ],
   "source": [
    "dataset.size"
   ]
  },
  {
   "cell_type": "code",
   "execution_count": 106,
   "metadata": {},
   "outputs": [
    {
     "data": {
      "text/plain": [
       "array([277.,  17., 134., 247., 266., 529.,  33., 331., 712., 686.,  61.,\n",
       "       231., 144., 703.,  31., 532., 495., 300., 285., 428., 404., 530.,\n",
       "       286., 304., 383., 643., 267., 555., 764., 506., 172., 437., 557.,\n",
       "       623., 449., 325., 167., 333., 202.,  81., 367., 512., 715., 368.,\n",
       "       498., 429., 118., 156., 357., 609., 433., 340.,  38., 676., 229.,\n",
       "       714., 675., 226., 546., 642., 194., 525., 671., 649., 696., 150.,\n",
       "         1., 456., 177., 486.,  97., 592., 332., 481., 465., 122., 716.,\n",
       "        71., 457., 396., 121., 253., 617., 507.,  50.,  25., 786.,  91.,\n",
       "       492., 204., 225., 765., 588., 473., 791., 489., 594., 737., 240.,\n",
       "       200., 254., 672., 509., 534.,  98., 478., 321., 166., 565., 652.,\n",
       "       567., 497., 209., 322., 419., 416., 377., 244., 515., 400., 125.,\n",
       "        85., 120., 513.,   7., 255., 777., 556., 756.,  29., 420., 452.,\n",
       "       761., 626., 580., 496., 572., 448.,  69., 518.,  70., 736., 112.,\n",
       "       138.,  77., 238., 135., 119., 171., 732., 491., 358., 774., 575.,\n",
       "        14.,   2., 792., 397., 192., 800.,  51., 361., 704., 108., 159.,\n",
       "       587., 584., 708., 130.,  13., 479.,  92., 709., 439.,  18., 260.,\n",
       "       601., 279., 207.,  34., 100., 629., 632., 487., 252., 772., 669.,\n",
       "       710., 640., 378., 214., 305., 694., 627., 665., 195., 370.,   9.,\n",
       "       562.,  63., 728.,  55., 729., 318.,  42.,  96., 738., 164., 342.,\n",
       "       539., 658., 461., 521., 581.,  94., 176., 104., 569., 435., 355.,\n",
       "       161., 401., 392., 766.,  80., 276., 620., 328., 568., 257., 585.,\n",
       "        66., 349., 596., 511.,  24., 165., 663., 502.,  12., 157., 190.,\n",
       "       668., 789., 717., 382., 284., 451., 664., 524., 183.,  90.,  72.,\n",
       "       379., 628., 582., 454., 697., 637., 726., 203., 213.,   3., 573.,\n",
       "       751., 191., 743., 362., 763.,  49.,  68., 541., 140., 408., 598.,\n",
       "       550., 232.,  76., 770., 579.,  60., 727., 369., 450., 677., 111.,\n",
       "       441., 583., 133., 699., 776., 224., 759., 488., 417., 246., 430.,\n",
       "       561., 184., 281., 577., 731.,  47., 787., 455., 403., 301., 393.,\n",
       "       241., 526., 445.,  59., 784., 593., 324., 148., 262., 341.,  56.,\n",
       "        62., 126., 274., 570.,  57.,  74., 294.,  41.,  27., 753., 312.,\n",
       "       365., 141., 493., 730., 718., 670., 574., 801., 707.,  99., 711.,\n",
       "        65., 211., 347., 250.,  15., 261., 292., 443.,  20., 638., 136.,\n",
       "        10., 242., 187., 201., 519.,  87., 739., 152., 426., 505., 475.,\n",
       "        37.,  95., 494., 537., 740., 624., 298., 398.,  78., 173., 599.,\n",
       "       508., 251., 472., 188., 410., 760., 634., 499., 132.,   8., 271.,\n",
       "       315.,  36., 151., 536., 129., 326.,   4., 175., 476.,  82., 794.,\n",
       "         6., 193., 210., 685., 344., 319., 660., 283., 220., 684., 309.,\n",
       "        83., 522., 683., 463.,  53., 514., 547., 798., 302., 139., 695.,\n",
       "       402., 360., 460., 438., 234., 174., 101., 158., 218., 123., 482.,\n",
       "       597.,  43., 611., 186., 531., 374., 780., 386., 591., 656., 155.,\n",
       "       691.,  54., 320., 163., 432., 483.,  48., 233., 542.,  40., 564.,\n",
       "       560., 291., 248., 595.,  58., 327., 287., 724., 788., 297., 768.,\n",
       "       380., 641.,  28., 633., 469., 117.,  16., 323., 425., 692., 236.,\n",
       "       608., 549., 769., 352., 243., 636., 205., 603.,  30., 504., 436.,\n",
       "       757., 245., 746., 137., 754., 385.,  44.,  67., 237., 405.,  35.,\n",
       "       605., 533.,  86., 464., 411.,   5., 589., 659., 107., 618., 222.,\n",
       "       667., 590.,  19., 719., 600., 258., 434., 259., 681., 215., 306.,\n",
       "       336., 142., 431.,  39., 421., 783., 345., 453., 263., 466., 674.,\n",
       "       317., 548., 744., 673., 348., 106., 778., 282., 480., 366., 752.,\n",
       "       131., 381., 310.,  21., 607., 296., 346., 289., 545., 631., 544.,\n",
       "       395., 554., 551., 602., 409., 523., 418., 485., 474., 748., 657.,\n",
       "       470., 471., 771.,  89., 604., 230., 540., 613., 290., 212., 182.,\n",
       "       394.,  75., 682., 265., 705., 280., 630., 702., 706., 688., 619.,\n",
       "       767., 790., 115., 527., 745.,  22., 293., 303., 440., 558., 372.,\n",
       "       406., 127., 571., 178., 269., 698., 376., 423., 666., 199., 552.,\n",
       "       335., 197., 654., 113., 795., 720., 116., 755., 501.,  11., 467.,\n",
       "       690., 543.,  26., 308., 447., 278., 407., 354., 799., 414., 329.,\n",
       "       747., 680., 725., 351., 169., 128., 109., 124., 168., 779., 610.,\n",
       "       616., 272., 762., 462., 391., 154.,  79., 773., 268., 343., 105.,\n",
       "       149., 606.,  52., 337., 388., 700., 553., 412., 446., 733., 775.,\n",
       "       264., 612., 359., 566., 235., 339., 185., 444., 468., 146., 625.,\n",
       "       364., 160., 110., 490., 307., 189., 206., 273., 216., 227., 741.,\n",
       "        84., 316., 373., 517., 785., 635., 538., 528., 114., 458., 389.,\n",
       "       679., 735., 576.,  64., 427., 179., 721., 520.,  73., 578.,  88.,\n",
       "       535., 793., 484., 644., 422., 221., 639., 295., 586., 256., 722.,\n",
       "       563., 288., 648., 330., 399., 356., 299., 147., 162., 742., 223.,\n",
       "       384., 311., 239., 390., 442., 249., 653., 375., 217., 687., 510.,\n",
       "       102., 749., 353., 198., 153., 196., 477., 797., 750., 145., 338.,\n",
       "       650., 387., 655., 500., 103., 758., 723., 275., 781., 350., 662.,\n",
       "       701., 413.,  93., 693., 678., 713., 228.,  46., 782., 796., 503.,\n",
       "       219., 371., 645.,  32., 651.,  45., 314., 363., 647., 180., 208.,\n",
       "       516., 689.,  23., 734., 621., 143., 270., 459., 646., 559., 661.,\n",
       "       615., 415., 614., 424., 622., 334., 181., 170., 313.])"
      ]
     },
     "execution_count": 106,
     "metadata": {},
     "output_type": "execute_result"
    }
   ],
   "source": [
    "dataset[\"Census Tracts\"].unique()\n"
   ]
  },
  {
   "cell_type": "code",
   "execution_count": 107,
   "metadata": {},
   "outputs": [
    {
     "name": "stdout",
     "output_type": "stream",
     "text": [
      "La variable ID tiene lo siguientes valores únicos\n",
      "6252485\n",
      "La variable Case Number tiene lo siguientes valores únicos\n",
      "6252084\n",
      "La variable Date tiene lo siguientes valores únicos\n",
      "2525607\n",
      "La variable Block tiene lo siguientes valores únicos\n",
      "35385\n",
      "La variable IUCR tiene lo siguientes valores únicos\n",
      "400\n",
      "La variable Primary Type tiene lo siguientes valores únicos\n",
      "6\n",
      "La variable Description tiene lo siguientes valores únicos\n",
      "378\n",
      "La variable Location Description tiene lo siguientes valores únicos\n",
      "14\n",
      "La variable Arrest tiene lo siguientes valores únicos\n",
      "2\n",
      "La variable Domestic tiene lo siguientes valores únicos\n",
      "2\n",
      "La variable Beat tiene lo siguientes valores únicos\n",
      "303\n",
      "La variable District tiene lo siguientes valores únicos\n",
      "24\n",
      "La variable Ward tiene lo siguientes valores únicos\n",
      "50\n",
      "La variable Community Area tiene lo siguientes valores únicos\n",
      "78\n",
      "La variable FBI Code tiene lo siguientes valores únicos\n",
      "26\n",
      "La variable X Coordinate tiene lo siguientes valores únicos\n",
      "74519\n",
      "La variable Y Coordinate tiene lo siguientes valores únicos\n",
      "124818\n",
      "La variable Year tiene lo siguientes valores únicos\n",
      "19\n",
      "La variable Updated On tiene lo siguientes valores únicos\n",
      "2009\n",
      "La variable Latitude tiene lo siguientes valores únicos\n",
      "644379\n",
      "La variable Longitude tiene lo siguientes valores únicos\n",
      "644012\n",
      "La variable Location tiene lo siguientes valores únicos\n",
      "645005\n",
      "La variable Historical Wards 2003-2015 tiene lo siguientes valores únicos\n",
      "50\n",
      "La variable Zip Codes tiene lo siguientes valores únicos\n",
      "78\n",
      "La variable Community Areas tiene lo siguientes valores únicos\n",
      "77\n",
      "La variable Census Tracts tiene lo siguientes valores únicos\n",
      "801\n",
      "La variable Wards tiene lo siguientes valores únicos\n",
      "50\n",
      "La variable Boundaries - ZIP Codes tiene lo siguientes valores únicos\n",
      "61\n",
      "La variable Police Districts tiene lo siguientes valores únicos\n",
      "22\n",
      "La variable Police Beats tiene lo siguientes valores únicos\n",
      "274\n",
      "La variable date tiene lo siguientes valores únicos\n",
      "6808\n",
      "La variable year tiene lo siguientes valores únicos\n",
      "19\n",
      "La variable month tiene lo siguientes valores únicos\n",
      "12\n",
      "La variable day tiene lo siguientes valores únicos\n",
      "31\n",
      "La variable time tiene lo siguientes valores únicos\n",
      "84220\n"
     ]
    }
   ],
   "source": [
    "for i in dataset.columns:\n",
    "    print(\"La variable %s tiene lo siguientes valores únicos\" %i)\n",
    "    print(len(dataset[i].unique()))"
   ]
  },
  {
   "cell_type": "code",
   "execution_count": 108,
   "metadata": {},
   "outputs": [
    {
     "data": {
      "text/plain": [
       "Index(['ID', 'Case Number', 'Date', 'Block', 'IUCR', 'Primary Type',\n",
       "       'Description', 'Location Description', 'Arrest', 'Domestic', 'Beat',\n",
       "       'District', 'Ward', 'Community Area', 'FBI Code', 'X Coordinate',\n",
       "       'Y Coordinate', 'Year', 'Updated On', 'Latitude', 'Longitude',\n",
       "       'Location', 'Historical Wards 2003-2015', 'Zip Codes',\n",
       "       'Community Areas', 'Census Tracts', 'Wards', 'Boundaries - ZIP Codes',\n",
       "       'Police Districts', 'Police Beats', 'date', 'year', 'month', 'day',\n",
       "       'time'],\n",
       "      dtype='object')"
      ]
     },
     "execution_count": 108,
     "metadata": {},
     "output_type": "execute_result"
    }
   ],
   "source": [
    "dataset.columns"
   ]
  },
  {
   "cell_type": "markdown",
   "metadata": {},
   "source": [
    "### Selección de variables"
   ]
  },
  {
   "cell_type": "markdown",
   "metadata": {},
   "source": [
    "Para seleccionar las variables optimas sera agruparlas en variables numericas y categoricas. Las variables categoricas son las que mas adelante se trasformaran"
   ]
  },
  {
   "cell_type": "code",
   "execution_count": 109,
   "metadata": {},
   "outputs": [],
   "source": [
    "# Seleccion de variables categoricas y numericas\n",
    "NUM_FEATURES = [\"year\"] \n",
    "CAT_FEATURES = [\"Primary Type\", \"Location Description\", \"Arrest\",\"District\"]"
   ]
  },
  {
   "cell_type": "code",
   "execution_count": 110,
   "metadata": {},
   "outputs": [
    {
     "data": {
      "text/plain": [
       "year    int64\n",
       "dtype: object"
      ]
     },
     "execution_count": 110,
     "metadata": {},
     "output_type": "execute_result"
    }
   ],
   "source": [
    "dataset[NUM_FEATURES].dtypes\n",
    "\n",
    "# Tipos de datos de las variables numericas"
   ]
  },
  {
   "cell_type": "code",
   "execution_count": 111,
   "metadata": {},
   "outputs": [
    {
     "data": {
      "text/plain": [
       "Primary Type             object\n",
       "Location Description     object\n",
       "Arrest                     bool\n",
       "District                float64\n",
       "dtype: object"
      ]
     },
     "execution_count": 111,
     "metadata": {},
     "output_type": "execute_result"
    }
   ],
   "source": [
    "dataset[CAT_FEATURES].dtypes\n",
    "\n",
    "#Tipos de datos de las variables categoricas"
   ]
  },
  {
   "cell_type": "code",
   "execution_count": 112,
   "metadata": {
    "scrolled": false
   },
   "outputs": [
    {
     "data": {
      "text/html": [
       "<div>\n",
       "<style scoped>\n",
       "    .dataframe tbody tr th:only-of-type {\n",
       "        vertical-align: middle;\n",
       "    }\n",
       "\n",
       "    .dataframe tbody tr th {\n",
       "        vertical-align: top;\n",
       "    }\n",
       "\n",
       "    .dataframe thead th {\n",
       "        text-align: right;\n",
       "    }\n",
       "</style>\n",
       "<table border=\"1\" class=\"dataframe\">\n",
       "  <thead>\n",
       "    <tr style=\"text-align: right;\">\n",
       "      <th></th>\n",
       "      <th>year</th>\n",
       "      <th>Primary Type</th>\n",
       "      <th>Location Description</th>\n",
       "      <th>Arrest</th>\n",
       "      <th>District</th>\n",
       "    </tr>\n",
       "  </thead>\n",
       "  <tbody>\n",
       "    <tr>\n",
       "      <th>0</th>\n",
       "      <td>2019</td>\n",
       "      <td>ASSAULT</td>\n",
       "      <td>RESIDENCE</td>\n",
       "      <td>True</td>\n",
       "      <td>7.0</td>\n",
       "    </tr>\n",
       "    <tr>\n",
       "      <th>1</th>\n",
       "      <td>2019</td>\n",
       "      <td>ASSAULT</td>\n",
       "      <td>RESIDENCE</td>\n",
       "      <td>True</td>\n",
       "      <td>18.0</td>\n",
       "    </tr>\n",
       "    <tr>\n",
       "      <th>2</th>\n",
       "      <td>2019</td>\n",
       "      <td>OTHER OFFENSES</td>\n",
       "      <td>PUBLIC BUILDING/GROUNDS</td>\n",
       "      <td>True</td>\n",
       "      <td>3.0</td>\n",
       "    </tr>\n",
       "    <tr>\n",
       "      <th>3</th>\n",
       "      <td>2019</td>\n",
       "      <td>CRIMINAL DAMAGE</td>\n",
       "      <td>RESIDENCE</td>\n",
       "      <td>False</td>\n",
       "      <td>6.0</td>\n",
       "    </tr>\n",
       "    <tr>\n",
       "      <th>4</th>\n",
       "      <td>2019</td>\n",
       "      <td>ASSAULT</td>\n",
       "      <td>RESIDENCE</td>\n",
       "      <td>False</td>\n",
       "      <td>8.0</td>\n",
       "    </tr>\n",
       "  </tbody>\n",
       "</table>\n",
       "</div>"
      ],
      "text/plain": [
       "   year     Primary Type     Location Description  Arrest  District\n",
       "0  2019          ASSAULT                RESIDENCE    True       7.0\n",
       "1  2019          ASSAULT                RESIDENCE    True      18.0\n",
       "2  2019   OTHER OFFENSES  PUBLIC BUILDING/GROUNDS    True       3.0\n",
       "3  2019  CRIMINAL DAMAGE                RESIDENCE   False       6.0\n",
       "4  2019          ASSAULT                RESIDENCE   False       8.0"
      ]
     },
     "execution_count": 112,
     "metadata": {},
     "output_type": "execute_result"
    }
   ],
   "source": [
    "#Visualizan datos\n",
    "dataset_num=dataset.loc[:, NUM_FEATURES]\n",
    "dataset_cat=dataset.loc[:, CAT_FEATURES]\n",
    "dataset_crimen = pd.concat([dataset_num, dataset_cat], axis=1)\n",
    "dataset_crimen.head()"
   ]
  },
  {
   "cell_type": "markdown",
   "metadata": {},
   "source": [
    "Trasformación de variables"
   ]
  },
  {
   "cell_type": "markdown",
   "metadata": {},
   "source": [
    "Vamos a pasar a numérico las variables categóricas que tenemos: `CAT_FEATURES = [\"Primary Type\", \"Location Description\", \"Arrest\",\"District\"]`\n",
    "\n",
    "La forma más utilizada para la transformación de variables categóricas a numéricas es utilizar one-hot-encoding. Esta transformación asigna únicamente 0 y 1 a las variables con diferentes registros, indicando 1 si la muestra se corresponde con el nivel y 0 en caso contrario. Utilizamos el comando: `get_dummies`. \n",
    "\n",
    "Es buena práctica, utilizar el comando `drop_first=True` porque de esta manera, eliminamos la primera columna de datos, que se da por evidente y evitamos de nuevo, aumentar la dimensionalidad del dataset.\n",
    "\n",
    "Pero en ciertos casos, cuando consideramos que una variable es muy importante para nuestro estudio, pero nos aumenta la dimensionalidad de nuestro modelo en exceso, ralentizando y empeorando la eficacia del modelo, evitamos hacer esta transofrmacion. En este caso para las dos primeras variables categóricas, hemos decidido darle un valor correspondiente al número de veces que se repite dicho valor. Es decir, si en la variable categórica `Primary Type` aparece el valor *THEFT & ROBBERY* 2 millones de veces repetido sobre un total de 6,5 millones de datos que tenemos, le daremos su valor porcentual "
   ]
  },
  {
   "cell_type": "code",
   "execution_count": 113,
   "metadata": {},
   "outputs": [
    {
     "data": {
      "text/plain": [
       "THEFT & ROBBERY    2203600\n",
       "ASSAULT            1570973\n",
       "CRIMINAL DAMAGE     905138\n",
       "OTHER OFFENSES      845195\n",
       "NARCOTICS           645058\n",
       "SEX CRIMES           82521\n",
       "Name: Primary Type, dtype: int64"
      ]
     },
     "execution_count": 113,
     "metadata": {},
     "output_type": "execute_result"
    }
   ],
   "source": [
    "# Comprobamos de nuevo la cantidad de valores que tiene el atributo Primary Type\n",
    "\n",
    "dataset_crimen['Primary Type'].value_counts()"
   ]
  },
  {
   "cell_type": "code",
   "execution_count": 114,
   "metadata": {},
   "outputs": [
    {
     "data": {
      "text/plain": [
       "array([ 7., 18.,  3.,  6.,  8., 10., 19.,  9., 11., 16., 20., 24., 14.,\n",
       "       25.,  5.,  4.,  2., 17.,  1., 22., 12., 15., 31., 21.])"
      ]
     },
     "execution_count": 114,
     "metadata": {},
     "output_type": "execute_result"
    }
   ],
   "source": [
    "dataset_crimen['District'].unique()"
   ]
  },
  {
   "cell_type": "code",
   "execution_count": 115,
   "metadata": {},
   "outputs": [],
   "source": [
    "dataset_crimen[\"District\"]=dataset_crimen[\"District\"].replace({7.:\"A\", \n",
    "                                                               18.:\"B\",  \n",
    "                                                               3.:\"C\",  \n",
    "                                                               6.:\"D\",  \n",
    "                                                               8.:\"E\", \n",
    "                                                               10.:\"F\", \n",
    "                                                               19.:\"G\",  \n",
    "                                                               9.:\"H\", \n",
    "                                                               11.:\"I\", \n",
    "                                                               16.:\"J\", \n",
    "                                                               20.:\"K\", \n",
    "                                                               24.:\"L\", \n",
    "                                                               14.:\"M\",\n",
    "                                                               25.:\"N\",  \n",
    "                                                               5.:\"O\",  \n",
    "                                                               4.:\"P\",  \n",
    "                                                               2.:\"Q\", \n",
    "                                                               17.:\"R\",  \n",
    "                                                               1.:\"S\", \n",
    "                                                               22.:\"T\", \n",
    "                                                               12.:\"U\", \n",
    "                                                               15.:\"V\", \n",
    "                                                               31.:\"X\", \n",
    "                                                               21.:\"Y\"})"
   ]
  },
  {
   "cell_type": "code",
   "execution_count": 116,
   "metadata": {},
   "outputs": [
    {
     "data": {
      "text/plain": [
       "(6252485, 5)"
      ]
     },
     "execution_count": 116,
     "metadata": {},
     "output_type": "execute_result"
    }
   ],
   "source": [
    "# Comprobamos cuantos datos totales tenemos\n",
    "\n",
    "dataset_crimen.shape"
   ]
  },
  {
   "cell_type": "code",
   "execution_count": 117,
   "metadata": {},
   "outputs": [],
   "source": [
    "# Realizamos la transformación de los datos\n",
    "\n",
    "# dataset_crimen[\"Primary Type\"]=dataset_crimen[\"Primary Type\"].replace({\"THEFT & ROBBERY\":35.24, \"ASSAULT\":25.13, \"CRIMINAL DAMAGE\":14.48, \"OTHER OFFENSES\":13.52, \"NARCOTICS\":10.32, \"SEX CRIMES\":1.32})"
   ]
  },
  {
   "cell_type": "code",
   "execution_count": 118,
   "metadata": {},
   "outputs": [
    {
     "data": {
      "text/plain": [
       "STREET                     2391741\n",
       "RESIDENCE                  2090360\n",
       "PUBLIC BUILDING/GROUNDS     408717\n",
       "RETAIL OUTLET               407859\n",
       "BUSINESS                    290704\n",
       "OTHER                       249178\n",
       "SCHOOL                      181988\n",
       "VEHICLE                     142755\n",
       "HOSPITAL                     32395\n",
       "POLICE BUILDING              16378\n",
       "CHURCH                       13910\n",
       "FEDERAL BUILDING             12691\n",
       "AIRPORT                      11815\n",
       "POLICE/FIRE STATION           1994\n",
       "Name: Location Description, dtype: int64"
      ]
     },
     "execution_count": 118,
     "metadata": {},
     "output_type": "execute_result"
    }
   ],
   "source": [
    "dataset_crimen[\"Location Description\"].value_counts()"
   ]
  },
  {
   "cell_type": "code",
   "execution_count": 119,
   "metadata": {},
   "outputs": [],
   "source": [
    "dataset_crimen[\"Location Description\"]=dataset_crimen[\"Location Description\"].replace({\"PUBLIC BUILDING/GROUNDS\":\"RESIDENCE\",                  \n",
    "\"RETAIL OUTLET\":\"BUSINESS\",\n",
    "\"SCHOOL\" :\"RESIDENCE\",                                           \n",
    "\"HOSPITAL\" :\"RESIDENCE\" ,                                  \n",
    "\"CHURCH\":\"RESIDENCE\",                      \n",
    "\"FEDERAL BUILDING\":\"RESIDENCE\" ,            \n",
    "\"AIRPORT\" : \"OTHER\",\n",
    "\"POLICE/FIRE STATION\" : \"RESIDENCE\",\n",
    "\"POLICE BUILDING\":\"RESIDENCE\"})"
   ]
  },
  {
   "cell_type": "code",
   "execution_count": 120,
   "metadata": {},
   "outputs": [
    {
     "data": {
      "text/plain": [
       "RESIDENCE    2758433\n",
       "STREET       2391741\n",
       "BUSINESS      698563\n",
       "OTHER         260993\n",
       "VEHICLE       142755\n",
       "Name: Location Description, dtype: int64"
      ]
     },
     "execution_count": 120,
     "metadata": {},
     "output_type": "execute_result"
    }
   ],
   "source": [
    "dataset_crimen[\"Location Description\"].value_counts()"
   ]
  },
  {
   "cell_type": "code",
   "execution_count": 121,
   "metadata": {},
   "outputs": [],
   "source": [
    "# Realizamos la transformación de los datos\n",
    "\n",
    "# dataset_crimen[\"Location Description\"]=dataset_crimen[\"Location Description\"].replace({\"STREET\":38.25, \"RESIDENCE\":33.43, \"PUBLIC BUILDING/GROUNDS\":6.54, \"RETAIL OUTLET\":6.52, \"BUSINESS\":4.65, \"OTHER\":3.99, \"SCHOOL\":2.91, \"VEHICLE\":2.28, \"HOSPITAL\":0.52, \"POLICE BUILDING\":0.26, \"CHURCH\":0.22, \"FEDERAL BUILDING\":0.20, \"AIRPORT\":0.19, \"POLICE/FIRE STATION\":0.03})"
   ]
  },
  {
   "cell_type": "code",
   "execution_count": 122,
   "metadata": {},
   "outputs": [],
   "source": [
    "# Vamos a guardar el atributo Arrest como variable para ejecutar el comando get_dummies\n",
    "\n",
    "CAT_FEATURES_Encoded = [\"Arrest\",\"Location Description\", \"Primary Type\",\"District\"]"
   ]
  },
  {
   "cell_type": "code",
   "execution_count": 123,
   "metadata": {},
   "outputs": [
    {
     "data": {
      "text/html": [
       "<div>\n",
       "<style scoped>\n",
       "    .dataframe tbody tr th:only-of-type {\n",
       "        vertical-align: middle;\n",
       "    }\n",
       "\n",
       "    .dataframe tbody tr th {\n",
       "        vertical-align: top;\n",
       "    }\n",
       "\n",
       "    .dataframe thead th {\n",
       "        text-align: right;\n",
       "    }\n",
       "</style>\n",
       "<table border=\"1\" class=\"dataframe\">\n",
       "  <thead>\n",
       "    <tr style=\"text-align: right;\">\n",
       "      <th></th>\n",
       "      <th>year</th>\n",
       "      <th>Arrest_True</th>\n",
       "      <th>Location Description_OTHER</th>\n",
       "      <th>Location Description_RESIDENCE</th>\n",
       "      <th>Location Description_STREET</th>\n",
       "      <th>Location Description_VEHICLE</th>\n",
       "      <th>Primary Type_CRIMINAL DAMAGE</th>\n",
       "      <th>Primary Type_NARCOTICS</th>\n",
       "      <th>Primary Type_OTHER OFFENSES</th>\n",
       "      <th>Primary Type_SEX CRIMES</th>\n",
       "      <th>...</th>\n",
       "      <th>District_O</th>\n",
       "      <th>District_P</th>\n",
       "      <th>District_Q</th>\n",
       "      <th>District_R</th>\n",
       "      <th>District_S</th>\n",
       "      <th>District_T</th>\n",
       "      <th>District_U</th>\n",
       "      <th>District_V</th>\n",
       "      <th>District_X</th>\n",
       "      <th>District_Y</th>\n",
       "    </tr>\n",
       "  </thead>\n",
       "  <tbody>\n",
       "    <tr>\n",
       "      <th>0</th>\n",
       "      <td>2019</td>\n",
       "      <td>1</td>\n",
       "      <td>0</td>\n",
       "      <td>1</td>\n",
       "      <td>0</td>\n",
       "      <td>0</td>\n",
       "      <td>0</td>\n",
       "      <td>0</td>\n",
       "      <td>0</td>\n",
       "      <td>0</td>\n",
       "      <td>...</td>\n",
       "      <td>0</td>\n",
       "      <td>0</td>\n",
       "      <td>0</td>\n",
       "      <td>0</td>\n",
       "      <td>0</td>\n",
       "      <td>0</td>\n",
       "      <td>0</td>\n",
       "      <td>0</td>\n",
       "      <td>0</td>\n",
       "      <td>0</td>\n",
       "    </tr>\n",
       "    <tr>\n",
       "      <th>1</th>\n",
       "      <td>2019</td>\n",
       "      <td>1</td>\n",
       "      <td>0</td>\n",
       "      <td>1</td>\n",
       "      <td>0</td>\n",
       "      <td>0</td>\n",
       "      <td>0</td>\n",
       "      <td>0</td>\n",
       "      <td>0</td>\n",
       "      <td>0</td>\n",
       "      <td>...</td>\n",
       "      <td>0</td>\n",
       "      <td>0</td>\n",
       "      <td>0</td>\n",
       "      <td>0</td>\n",
       "      <td>0</td>\n",
       "      <td>0</td>\n",
       "      <td>0</td>\n",
       "      <td>0</td>\n",
       "      <td>0</td>\n",
       "      <td>0</td>\n",
       "    </tr>\n",
       "    <tr>\n",
       "      <th>2</th>\n",
       "      <td>2019</td>\n",
       "      <td>1</td>\n",
       "      <td>0</td>\n",
       "      <td>1</td>\n",
       "      <td>0</td>\n",
       "      <td>0</td>\n",
       "      <td>0</td>\n",
       "      <td>0</td>\n",
       "      <td>1</td>\n",
       "      <td>0</td>\n",
       "      <td>...</td>\n",
       "      <td>0</td>\n",
       "      <td>0</td>\n",
       "      <td>0</td>\n",
       "      <td>0</td>\n",
       "      <td>0</td>\n",
       "      <td>0</td>\n",
       "      <td>0</td>\n",
       "      <td>0</td>\n",
       "      <td>0</td>\n",
       "      <td>0</td>\n",
       "    </tr>\n",
       "    <tr>\n",
       "      <th>3</th>\n",
       "      <td>2019</td>\n",
       "      <td>0</td>\n",
       "      <td>0</td>\n",
       "      <td>1</td>\n",
       "      <td>0</td>\n",
       "      <td>0</td>\n",
       "      <td>1</td>\n",
       "      <td>0</td>\n",
       "      <td>0</td>\n",
       "      <td>0</td>\n",
       "      <td>...</td>\n",
       "      <td>0</td>\n",
       "      <td>0</td>\n",
       "      <td>0</td>\n",
       "      <td>0</td>\n",
       "      <td>0</td>\n",
       "      <td>0</td>\n",
       "      <td>0</td>\n",
       "      <td>0</td>\n",
       "      <td>0</td>\n",
       "      <td>0</td>\n",
       "    </tr>\n",
       "    <tr>\n",
       "      <th>4</th>\n",
       "      <td>2019</td>\n",
       "      <td>0</td>\n",
       "      <td>0</td>\n",
       "      <td>1</td>\n",
       "      <td>0</td>\n",
       "      <td>0</td>\n",
       "      <td>0</td>\n",
       "      <td>0</td>\n",
       "      <td>0</td>\n",
       "      <td>0</td>\n",
       "      <td>...</td>\n",
       "      <td>0</td>\n",
       "      <td>0</td>\n",
       "      <td>0</td>\n",
       "      <td>0</td>\n",
       "      <td>0</td>\n",
       "      <td>0</td>\n",
       "      <td>0</td>\n",
       "      <td>0</td>\n",
       "      <td>0</td>\n",
       "      <td>0</td>\n",
       "    </tr>\n",
       "  </tbody>\n",
       "</table>\n",
       "<p>5 rows × 34 columns</p>\n",
       "</div>"
      ],
      "text/plain": [
       "   year  Arrest_True  Location Description_OTHER  \\\n",
       "0  2019            1                           0   \n",
       "1  2019            1                           0   \n",
       "2  2019            1                           0   \n",
       "3  2019            0                           0   \n",
       "4  2019            0                           0   \n",
       "\n",
       "   Location Description_RESIDENCE  Location Description_STREET  \\\n",
       "0                               1                            0   \n",
       "1                               1                            0   \n",
       "2                               1                            0   \n",
       "3                               1                            0   \n",
       "4                               1                            0   \n",
       "\n",
       "   Location Description_VEHICLE  Primary Type_CRIMINAL DAMAGE  \\\n",
       "0                             0                             0   \n",
       "1                             0                             0   \n",
       "2                             0                             0   \n",
       "3                             0                             1   \n",
       "4                             0                             0   \n",
       "\n",
       "   Primary Type_NARCOTICS  Primary Type_OTHER OFFENSES  \\\n",
       "0                       0                            0   \n",
       "1                       0                            0   \n",
       "2                       0                            1   \n",
       "3                       0                            0   \n",
       "4                       0                            0   \n",
       "\n",
       "   Primary Type_SEX CRIMES  ...  District_O  District_P  District_Q  \\\n",
       "0                        0  ...           0           0           0   \n",
       "1                        0  ...           0           0           0   \n",
       "2                        0  ...           0           0           0   \n",
       "3                        0  ...           0           0           0   \n",
       "4                        0  ...           0           0           0   \n",
       "\n",
       "   District_R  District_S  District_T  District_U  District_V  District_X  \\\n",
       "0           0           0           0           0           0           0   \n",
       "1           0           0           0           0           0           0   \n",
       "2           0           0           0           0           0           0   \n",
       "3           0           0           0           0           0           0   \n",
       "4           0           0           0           0           0           0   \n",
       "\n",
       "   District_Y  \n",
       "0           0  \n",
       "1           0  \n",
       "2           0  \n",
       "3           0  \n",
       "4           0  \n",
       "\n",
       "[5 rows x 34 columns]"
      ]
     },
     "execution_count": 123,
     "metadata": {},
     "output_type": "execute_result"
    }
   ],
   "source": [
    "# Se trasforman las variables categoricas a numericas mediante el \"dummies\"\n",
    "\n",
    "crimen_df = pd.get_dummies(dataset_crimen, columns = CAT_FEATURES_Encoded, drop_first=True)\n",
    "crimen_df.head()"
   ]
  },
  {
   "cell_type": "code",
   "execution_count": 124,
   "metadata": {},
   "outputs": [
    {
     "data": {
      "text/plain": [
       "Index(['year', 'Arrest_True', 'Location Description_OTHER',\n",
       "       'Location Description_RESIDENCE', 'Location Description_STREET',\n",
       "       'Location Description_VEHICLE', 'Primary Type_CRIMINAL DAMAGE',\n",
       "       'Primary Type_NARCOTICS', 'Primary Type_OTHER OFFENSES',\n",
       "       'Primary Type_SEX CRIMES', 'Primary Type_THEFT & ROBBERY', 'District_B',\n",
       "       'District_C', 'District_D', 'District_E', 'District_F', 'District_G',\n",
       "       'District_H', 'District_I', 'District_J', 'District_K', 'District_L',\n",
       "       'District_M', 'District_N', 'District_O', 'District_P', 'District_Q',\n",
       "       'District_R', 'District_S', 'District_T', 'District_U', 'District_V',\n",
       "       'District_X', 'District_Y'],\n",
       "      dtype='object')"
      ]
     },
     "execution_count": 124,
     "metadata": {},
     "output_type": "execute_result"
    }
   ],
   "source": [
    "crimen_df.columns \n",
    "\n",
    "# Muestra las columnas con las que cuenta el dataset un vez trasformados los datos"
   ]
  },
  {
   "cell_type": "code",
   "execution_count": 125,
   "metadata": {},
   "outputs": [
    {
     "data": {
      "text/plain": [
       "year                              0.0\n",
       "Arrest_True                       0.0\n",
       "Location Description_OTHER        0.0\n",
       "Location Description_RESIDENCE    0.0\n",
       "Location Description_STREET       0.0\n",
       "Location Description_VEHICLE      0.0\n",
       "Primary Type_CRIMINAL DAMAGE      0.0\n",
       "Primary Type_NARCOTICS            0.0\n",
       "Primary Type_OTHER OFFENSES       0.0\n",
       "Primary Type_SEX CRIMES           0.0\n",
       "Primary Type_THEFT & ROBBERY      0.0\n",
       "District_B                        0.0\n",
       "District_C                        0.0\n",
       "District_D                        0.0\n",
       "District_E                        0.0\n",
       "District_F                        0.0\n",
       "District_G                        0.0\n",
       "District_H                        0.0\n",
       "District_I                        0.0\n",
       "District_J                        0.0\n",
       "District_K                        0.0\n",
       "District_L                        0.0\n",
       "District_M                        0.0\n",
       "District_N                        0.0\n",
       "District_O                        0.0\n",
       "District_P                        0.0\n",
       "District_Q                        0.0\n",
       "District_R                        0.0\n",
       "District_S                        0.0\n",
       "District_T                        0.0\n",
       "District_U                        0.0\n",
       "District_V                        0.0\n",
       "District_X                        0.0\n",
       "District_Y                        0.0\n",
       "dtype: float64"
      ]
     },
     "execution_count": 125,
     "metadata": {},
     "output_type": "execute_result"
    }
   ],
   "source": [
    "# Comprobamos que hemos eliminado las filas con valores nulos en la limpieza de variables\n",
    "\n",
    "np.round((crimen_df.isnull().sum()/crimen_df.shape[0])*100, 2)"
   ]
  },
  {
   "cell_type": "code",
   "execution_count": 126,
   "metadata": {},
   "outputs": [
    {
     "data": {
      "text/plain": [
       "0          2019\n",
       "1          2019\n",
       "2          2019\n",
       "3          2019\n",
       "4          2019\n",
       "           ... \n",
       "6954938    2001\n",
       "6954940    2001\n",
       "6954942    2001\n",
       "6954944    2001\n",
       "6954946    2001\n",
       "Name: year, Length: 6252485, dtype: int64"
      ]
     },
     "execution_count": 126,
     "metadata": {},
     "output_type": "execute_result"
    }
   ],
   "source": [
    "crimen_df[\"year\"]"
   ]
  },
  {
   "cell_type": "code",
   "execution_count": 127,
   "metadata": {},
   "outputs": [],
   "source": [
    "# Vamos a usar un scaler para ajustar los valores numericos a las variables que hemos codificado en 0 y 1\n",
    "# Usaremos RobustScaler dado que es el mejor escalador para este tipo de casos\n",
    "\n",
    "from sklearn.preprocessing import RobustScaler\n",
    "\n",
    "scaler = RobustScaler()\n",
    "\n",
    "crimen_df[[\"year\"]] = scaler.fit_transform(crimen_df[[\"year\"]])"
   ]
  },
  {
   "cell_type": "code",
   "execution_count": 128,
   "metadata": {},
   "outputs": [
    {
     "data": {
      "text/html": [
       "<div>\n",
       "<style scoped>\n",
       "    .dataframe tbody tr th:only-of-type {\n",
       "        vertical-align: middle;\n",
       "    }\n",
       "\n",
       "    .dataframe tbody tr th {\n",
       "        vertical-align: top;\n",
       "    }\n",
       "\n",
       "    .dataframe thead th {\n",
       "        text-align: right;\n",
       "    }\n",
       "</style>\n",
       "<table border=\"1\" class=\"dataframe\">\n",
       "  <thead>\n",
       "    <tr style=\"text-align: right;\">\n",
       "      <th></th>\n",
       "      <th>year</th>\n",
       "      <th>Arrest_True</th>\n",
       "      <th>Location Description_OTHER</th>\n",
       "      <th>Location Description_RESIDENCE</th>\n",
       "      <th>Location Description_STREET</th>\n",
       "      <th>Location Description_VEHICLE</th>\n",
       "      <th>Primary Type_CRIMINAL DAMAGE</th>\n",
       "      <th>Primary Type_NARCOTICS</th>\n",
       "      <th>Primary Type_OTHER OFFENSES</th>\n",
       "      <th>Primary Type_SEX CRIMES</th>\n",
       "      <th>...</th>\n",
       "      <th>District_O</th>\n",
       "      <th>District_P</th>\n",
       "      <th>District_Q</th>\n",
       "      <th>District_R</th>\n",
       "      <th>District_S</th>\n",
       "      <th>District_T</th>\n",
       "      <th>District_U</th>\n",
       "      <th>District_V</th>\n",
       "      <th>District_X</th>\n",
       "      <th>District_Y</th>\n",
       "    </tr>\n",
       "  </thead>\n",
       "  <tbody>\n",
       "    <tr>\n",
       "      <th>0</th>\n",
       "      <td>1.25</td>\n",
       "      <td>1</td>\n",
       "      <td>0</td>\n",
       "      <td>1</td>\n",
       "      <td>0</td>\n",
       "      <td>0</td>\n",
       "      <td>0</td>\n",
       "      <td>0</td>\n",
       "      <td>0</td>\n",
       "      <td>0</td>\n",
       "      <td>...</td>\n",
       "      <td>0</td>\n",
       "      <td>0</td>\n",
       "      <td>0</td>\n",
       "      <td>0</td>\n",
       "      <td>0</td>\n",
       "      <td>0</td>\n",
       "      <td>0</td>\n",
       "      <td>0</td>\n",
       "      <td>0</td>\n",
       "      <td>0</td>\n",
       "    </tr>\n",
       "    <tr>\n",
       "      <th>1</th>\n",
       "      <td>1.25</td>\n",
       "      <td>1</td>\n",
       "      <td>0</td>\n",
       "      <td>1</td>\n",
       "      <td>0</td>\n",
       "      <td>0</td>\n",
       "      <td>0</td>\n",
       "      <td>0</td>\n",
       "      <td>0</td>\n",
       "      <td>0</td>\n",
       "      <td>...</td>\n",
       "      <td>0</td>\n",
       "      <td>0</td>\n",
       "      <td>0</td>\n",
       "      <td>0</td>\n",
       "      <td>0</td>\n",
       "      <td>0</td>\n",
       "      <td>0</td>\n",
       "      <td>0</td>\n",
       "      <td>0</td>\n",
       "      <td>0</td>\n",
       "    </tr>\n",
       "    <tr>\n",
       "      <th>2</th>\n",
       "      <td>1.25</td>\n",
       "      <td>1</td>\n",
       "      <td>0</td>\n",
       "      <td>1</td>\n",
       "      <td>0</td>\n",
       "      <td>0</td>\n",
       "      <td>0</td>\n",
       "      <td>0</td>\n",
       "      <td>1</td>\n",
       "      <td>0</td>\n",
       "      <td>...</td>\n",
       "      <td>0</td>\n",
       "      <td>0</td>\n",
       "      <td>0</td>\n",
       "      <td>0</td>\n",
       "      <td>0</td>\n",
       "      <td>0</td>\n",
       "      <td>0</td>\n",
       "      <td>0</td>\n",
       "      <td>0</td>\n",
       "      <td>0</td>\n",
       "    </tr>\n",
       "    <tr>\n",
       "      <th>3</th>\n",
       "      <td>1.25</td>\n",
       "      <td>0</td>\n",
       "      <td>0</td>\n",
       "      <td>1</td>\n",
       "      <td>0</td>\n",
       "      <td>0</td>\n",
       "      <td>1</td>\n",
       "      <td>0</td>\n",
       "      <td>0</td>\n",
       "      <td>0</td>\n",
       "      <td>...</td>\n",
       "      <td>0</td>\n",
       "      <td>0</td>\n",
       "      <td>0</td>\n",
       "      <td>0</td>\n",
       "      <td>0</td>\n",
       "      <td>0</td>\n",
       "      <td>0</td>\n",
       "      <td>0</td>\n",
       "      <td>0</td>\n",
       "      <td>0</td>\n",
       "    </tr>\n",
       "    <tr>\n",
       "      <th>4</th>\n",
       "      <td>1.25</td>\n",
       "      <td>0</td>\n",
       "      <td>0</td>\n",
       "      <td>1</td>\n",
       "      <td>0</td>\n",
       "      <td>0</td>\n",
       "      <td>0</td>\n",
       "      <td>0</td>\n",
       "      <td>0</td>\n",
       "      <td>0</td>\n",
       "      <td>...</td>\n",
       "      <td>0</td>\n",
       "      <td>0</td>\n",
       "      <td>0</td>\n",
       "      <td>0</td>\n",
       "      <td>0</td>\n",
       "      <td>0</td>\n",
       "      <td>0</td>\n",
       "      <td>0</td>\n",
       "      <td>0</td>\n",
       "      <td>0</td>\n",
       "    </tr>\n",
       "  </tbody>\n",
       "</table>\n",
       "<p>5 rows × 34 columns</p>\n",
       "</div>"
      ],
      "text/plain": [
       "   year  Arrest_True  Location Description_OTHER  \\\n",
       "0  1.25            1                           0   \n",
       "1  1.25            1                           0   \n",
       "2  1.25            1                           0   \n",
       "3  1.25            0                           0   \n",
       "4  1.25            0                           0   \n",
       "\n",
       "   Location Description_RESIDENCE  Location Description_STREET  \\\n",
       "0                               1                            0   \n",
       "1                               1                            0   \n",
       "2                               1                            0   \n",
       "3                               1                            0   \n",
       "4                               1                            0   \n",
       "\n",
       "   Location Description_VEHICLE  Primary Type_CRIMINAL DAMAGE  \\\n",
       "0                             0                             0   \n",
       "1                             0                             0   \n",
       "2                             0                             0   \n",
       "3                             0                             1   \n",
       "4                             0                             0   \n",
       "\n",
       "   Primary Type_NARCOTICS  Primary Type_OTHER OFFENSES  \\\n",
       "0                       0                            0   \n",
       "1                       0                            0   \n",
       "2                       0                            1   \n",
       "3                       0                            0   \n",
       "4                       0                            0   \n",
       "\n",
       "   Primary Type_SEX CRIMES  ...  District_O  District_P  District_Q  \\\n",
       "0                        0  ...           0           0           0   \n",
       "1                        0  ...           0           0           0   \n",
       "2                        0  ...           0           0           0   \n",
       "3                        0  ...           0           0           0   \n",
       "4                        0  ...           0           0           0   \n",
       "\n",
       "   District_R  District_S  District_T  District_U  District_V  District_X  \\\n",
       "0           0           0           0           0           0           0   \n",
       "1           0           0           0           0           0           0   \n",
       "2           0           0           0           0           0           0   \n",
       "3           0           0           0           0           0           0   \n",
       "4           0           0           0           0           0           0   \n",
       "\n",
       "   District_Y  \n",
       "0           0  \n",
       "1           0  \n",
       "2           0  \n",
       "3           0  \n",
       "4           0  \n",
       "\n",
       "[5 rows x 34 columns]"
      ]
     },
     "execution_count": 128,
     "metadata": {},
     "output_type": "execute_result"
    }
   ],
   "source": [
    "crimen_df.head()"
   ]
  },
  {
   "cell_type": "markdown",
   "metadata": {},
   "source": [
    "***PARA LA REALIZACIÓN DE LOS MODELOS DE CLASIFICACIÓN, HEMOS TENIDO QUE COGER UNA MUESTRA DE NUESTRO DATASET, DEBIDO A QUE NOSOTROS CARECEMOS DE LOS RECURSOS NECESARIOS PARA UN TRATAMIENTO FLUIDO DE LOS DATOS Y SU POSTERIOR ANÁLISIS.***"
   ]
  },
  {
   "cell_type": "code",
   "execution_count": 129,
   "metadata": {},
   "outputs": [],
   "source": [
    "crimen_sample=crimen_df.sample(100000)"
   ]
  },
  {
   "cell_type": "code",
   "execution_count": 130,
   "metadata": {
    "scrolled": true
   },
   "outputs": [
    {
     "data": {
      "text/plain": [
       "(100000, 34)"
      ]
     },
     "execution_count": 130,
     "metadata": {},
     "output_type": "execute_result"
    }
   ],
   "source": [
    "crimen_sample.shape"
   ]
  },
  {
   "cell_type": "markdown",
   "metadata": {},
   "source": [
    "Dividiremos la muestra en un 75% entrenamiento y 25% test. "
   ]
  },
  {
   "cell_type": "code",
   "execution_count": 131,
   "metadata": {},
   "outputs": [],
   "source": [
    "X = crimen_sample.drop(\"Arrest_True\", axis = 1)\n",
    "variables = X.columns\n",
    "X = X.values\n",
    "\n",
    "y = crimen_sample[\"Arrest_True\"]\n",
    "\n",
    "X_train, X_test, y_train, y_test = train_test_split(\n",
    "    X, y, random_state=0, test_size=0.25, stratify=y)"
   ]
  },
  {
   "cell_type": "code",
   "execution_count": 132,
   "metadata": {},
   "outputs": [
    {
     "data": {
      "text/plain": [
       "(100000, 33)"
      ]
     },
     "execution_count": 132,
     "metadata": {},
     "output_type": "execute_result"
    }
   ],
   "source": [
    "X.shape"
   ]
  },
  {
   "cell_type": "code",
   "execution_count": 133,
   "metadata": {},
   "outputs": [
    {
     "data": {
      "text/plain": [
       "(100000,)"
      ]
     },
     "execution_count": 133,
     "metadata": {},
     "output_type": "execute_result"
    }
   ],
   "source": [
    "y.shape"
   ]
  },
  {
   "cell_type": "markdown",
   "metadata": {},
   "source": [
    "### Modelado | Gradient Boosting"
   ]
  },
  {
   "cell_type": "code",
   "execution_count": 134,
   "metadata": {},
   "outputs": [],
   "source": [
    "from sklearn.ensemble import GradientBoostingClassifier\n",
    "\n",
    "Xgb_train=X_train\n",
    "ygb_train=y_train\n",
    "Xgb_test=X_test\n",
    "ygb_test=y_test\n",
    "variables_gb = variables\n",
    "\n",
    "list_estimators = (10, 50, 100)\n",
    "\n",
    "for n_estimators in list_estimators:\n",
    "  gb = GradientBoostingClassifier(\n",
    "      n_estimators=n_estimators,\n",
    "      random_state = 0\n",
    "  )\n",
    "  gb.fit(Xgb_train, ygb_train)"
   ]
  },
  {
   "cell_type": "code",
   "execution_count": 135,
   "metadata": {
    "scrolled": false
   },
   "outputs": [
    {
     "name": "stdout",
     "output_type": "stream",
     "text": [
      "year: 0.00\n",
      "Location Description_OTHER: 0.00\n",
      "Location Description_RESIDENCE: 0.02\n",
      "Location Description_STREET: 0.04\n",
      "Location Description_VEHICLE: 0.00\n",
      "Primary Type_CRIMINAL DAMAGE: 0.01\n",
      "Primary Type_NARCOTICS: 0.73\n",
      "Primary Type_OTHER OFFENSES: 0.06\n",
      "Primary Type_SEX CRIMES: 0.06\n",
      "Primary Type_THEFT & ROBBERY: 0.06\n",
      "District_B: 0.00\n",
      "District_C: 0.00\n",
      "District_D: 0.00\n",
      "District_E: 0.00\n",
      "District_F: 0.00\n",
      "District_G: 0.00\n",
      "District_H: 0.00\n",
      "District_I: 0.00\n",
      "District_J: 0.00\n",
      "District_K: 0.00\n",
      "District_L: 0.00\n",
      "District_M: 0.00\n",
      "District_N: 0.00\n",
      "District_O: 0.00\n",
      "District_P: 0.00\n",
      "District_Q: 0.00\n",
      "District_R: 0.00\n",
      "District_S: 0.00\n",
      "District_T: 0.00\n",
      "District_U: 0.00\n",
      "District_V: 0.00\n",
      "District_X: 0.00\n",
      "District_Y: 0.00\n"
     ]
    }
   ],
   "source": [
    "for name, importance in zip(variables_gb, gb.feature_importances_):\n",
    "  print(f\"{name}: {importance:.2f}\")"
   ]
  },
  {
   "cell_type": "code",
   "execution_count": 136,
   "metadata": {},
   "outputs": [
    {
     "name": "stdout",
     "output_type": "stream",
     "text": [
      "Precisión Gradient Boosting train/test  0.847/0.843\n"
     ]
    }
   ],
   "source": [
    "print('Precisión Gradient Boosting train/test  {0:.3f}/{1:.3f}'\n",
    "      .format(gb.score(Xgb_train, ygb_train), gb.score(Xgb_test, ygb_test)))"
   ]
  },
  {
   "cell_type": "code",
   "execution_count": 137,
   "metadata": {},
   "outputs": [
    {
     "data": {
      "image/png": "[encoded data removed]",
      "text/plain": [
       "<Figure size 576x396 with 1 Axes>"
      ]
     },
     "metadata": {},
     "output_type": "display_data"
    }
   ],
   "source": [
    "# Mostramos la importancia de cada atributo\n",
    "n_atributos = 33\n",
    "plt.barh(range(n_atributos), gb.feature_importances_, align='center')\n",
    "plt.yticks(np.arange(n_atributos), variables_gb)\n",
    "plt.xlabel(\"Importancia de atributo\")\n",
    "plt.ylabel(\"Atributo\")\n",
    "plt.show();"
   ]
  },
  {
   "cell_type": "markdown",
   "metadata": {},
   "source": [
    "### Backward Elimination - Stepwise"
   ]
  },
  {
   "cell_type": "markdown",
   "metadata": {},
   "source": [
    "Stepwise es una familia de métodos para la selección de características de forma iterativa. Una vez que eliminamos las variables, se comprueba la calidad de los modelos y se selecciona el mejor, en caso de que sea el original, el proceso termina, en caso de que sea otro, el proceso vuelve a comenzar.\n",
    "\n",
    "- Backward elimination: lo que implica comenzar con todas las variables, comprobamos que pasa si eliminamos una característica utilizando un criterio para comparar el nuevo modelo con el anterior. \n",
    "\n",
    "Si al eliminar una variable en cada paso se mejora el modelo, se repetie este proceso hasta que al eliminar una variable no mejore el modelo."
   ]
  },
  {
   "cell_type": "code",
   "execution_count": 138,
   "metadata": {},
   "outputs": [],
   "source": [
    "from sklearn.linear_model import LogisticRegression\n",
    "from sklearn.feature_selection import RFECV\n",
    "\n",
    "rfe_feature_selector = RFECV(\n",
    "    LogisticRegression(solver=\"liblinear\"),\n",
    "    cv = 5,\n",
    "    scoring = \"neg_log_loss\", \n",
    "    n_jobs=-1,\n",
    ").fit(Xgb_train, ygb_train)"
   ]
  },
  {
   "cell_type": "code",
   "execution_count": 139,
   "metadata": {},
   "outputs": [
    {
     "data": {
      "image/png": "[encoded data removed]",
      "text/plain": [
       "<Figure size 720x432 with 1 Axes>"
      ]
     },
     "metadata": {},
     "output_type": "display_data"
    },
    {
     "name": "stdout",
     "output_type": "stream",
     "text": [
      "Variables a eliminar:\n",
      "\tDistrict_B\n",
      "\tDistrict_C\n",
      "\tDistrict_D\n",
      "\tDistrict_F\n",
      "\tDistrict_H\n",
      "\tDistrict_I\n",
      "\tDistrict_N\n",
      "\tDistrict_Q\n",
      "\tDistrict_U\n",
      "\tDistrict_V\n",
      "\tDistrict_X\n",
      "\tDistrict_Y\n"
     ]
    }
   ],
   "source": [
    "fig, ax = plt.subplots(figsize=(10, 6))\n",
    "ax.set_ylabel(\"neg_log_loss\")\n",
    "ax.set_xlabel(\"Nº de variables\")\n",
    "ax.plot(\n",
    "    [i + 1 for i in range(Xgb_train.shape[1])],\n",
    "    rfe_feature_selector.grid_scores_\n",
    ")\n",
    "plt.show()\n",
    "\n",
    "print(\"Variables a eliminar:\")\n",
    "for feature in variables_gb[~rfe_feature_selector.support_]:\n",
    "  print(f\"\\t{feature}\")"
   ]
  },
  {
   "cell_type": "code",
   "execution_count": 140,
   "metadata": {},
   "outputs": [],
   "source": [
    "Xgb_train = rfe_feature_selector.transform(Xgb_train)\n",
    "variables_gb = variables_gb[rfe_feature_selector.support_]"
   ]
  },
  {
   "cell_type": "markdown",
   "metadata": {},
   "source": [
    "## Optimización de hiperparámetros"
   ]
  },
  {
   "cell_type": "markdown",
   "metadata": {},
   "source": [
    "Importamos la funcion extract_results para ver los resultados estadísticos (media y varianza) de la muestra, tanto en el set de entrenamiento como en el set de test de la optimización con el modelo GridSearch. "
   ]
  },
  {
   "cell_type": "code",
   "execution_count": 141,
   "metadata": {},
   "outputs": [],
   "source": [
    "def extract_results(search_estimator):\n",
    "  \"\"\" Extrae los resultados de un optimizador de hiperparámetros.\n",
    "  Args:\n",
    "    search_estimator (object): GridSearchCV o RandomizedSearchCV ya entrenado.\n",
    "  Returns:\n",
    "    pd.DataFrame con los resultados sumarizados.\n",
    "  \"\"\"\n",
    "  models = pd.DataFrame(search_estimator.cv_results_['params'])\n",
    "  results = []\n",
    "  for i in range(search_estimator.cv):\n",
    "    partial = models.copy()\n",
    "    partial[\"split\"] = i\n",
    "    partial[\"train_score\"] = search_estimator.cv_results_[f'split{i}_train_score']\n",
    "    partial[\"test_score\"] = search_estimator.cv_results_[f'split{i}_test_score']\n",
    "    results.append(partial)\n",
    "  results = pd.concat(results, axis = 0)\n",
    "  return results.groupby(list(models.columns)).agg({\n",
    "      \"train_score\": [\"mean\", \"var\"], \"test_score\": [\"mean\", \"var\"]})"
   ]
  },
  {
   "cell_type": "code",
   "execution_count": 142,
   "metadata": {},
   "outputs": [
    {
     "name": "stdout",
     "output_type": "stream",
     "text": [
      "Fitting 5 folds for each of 27 candidates, totalling 135 fits\n"
     ]
    }
   ],
   "source": [
    "from sklearn.model_selection import GridSearchCV\n",
    "\n",
    "np.random.seed(0)\n",
    "\n",
    "param_grid = {\n",
    "    \"n_estimators\": [10, 20, 30],\n",
    "    \"min_samples_split\": [2, 30, 60],\n",
    "    \"subsample\": [1.0, 0.8, 0.6]\n",
    "}\n",
    "\n",
    "grid_search = GridSearchCV(\n",
    "    GradientBoostingClassifier(),\n",
    "    param_grid = param_grid,\n",
    "    cv = 5,\n",
    "    verbose = 1,\n",
    "    return_train_score = True,\n",
    "    scoring = \"neg_log_loss\",\n",
    "    n_jobs=-1\n",
    ").fit(Xgb_train, ygb_train)"
   ]
  },
  {
   "cell_type": "code",
   "execution_count": 143,
   "metadata": {},
   "outputs": [
    {
     "data": {
      "text/html": [
       "<div>\n",
       "<style scoped>\n",
       "    .dataframe tbody tr th:only-of-type {\n",
       "        vertical-align: middle;\n",
       "    }\n",
       "\n",
       "    .dataframe tbody tr th {\n",
       "        vertical-align: top;\n",
       "    }\n",
       "\n",
       "    .dataframe thead tr th {\n",
       "        text-align: left;\n",
       "    }\n",
       "\n",
       "    .dataframe thead tr:last-of-type th {\n",
       "        text-align: right;\n",
       "    }\n",
       "</style>\n",
       "<table border=\"1\" class=\"dataframe\">\n",
       "  <thead>\n",
       "    <tr>\n",
       "      <th></th>\n",
       "      <th></th>\n",
       "      <th></th>\n",
       "      <th colspan=\"2\" halign=\"left\">train_score</th>\n",
       "      <th colspan=\"2\" halign=\"left\">test_score</th>\n",
       "    </tr>\n",
       "    <tr>\n",
       "      <th></th>\n",
       "      <th></th>\n",
       "      <th></th>\n",
       "      <th>mean</th>\n",
       "      <th>var</th>\n",
       "      <th>mean</th>\n",
       "      <th>var</th>\n",
       "    </tr>\n",
       "    <tr>\n",
       "      <th>min_samples_split</th>\n",
       "      <th>n_estimators</th>\n",
       "      <th>subsample</th>\n",
       "      <th></th>\n",
       "      <th></th>\n",
       "      <th></th>\n",
       "      <th></th>\n",
       "    </tr>\n",
       "  </thead>\n",
       "  <tbody>\n",
       "    <tr>\n",
       "      <th rowspan=\"9\" valign=\"top\">2</th>\n",
       "      <th rowspan=\"3\" valign=\"top\">10</th>\n",
       "      <th>0.6</th>\n",
       "      <td>-0.447415</td>\n",
       "      <td>1.805052e-06</td>\n",
       "      <td>-0.447457</td>\n",
       "      <td>0.000007</td>\n",
       "    </tr>\n",
       "    <tr>\n",
       "      <th>0.8</th>\n",
       "      <td>-0.448095</td>\n",
       "      <td>6.106960e-07</td>\n",
       "      <td>-0.448132</td>\n",
       "      <td>0.000005</td>\n",
       "    </tr>\n",
       "    <tr>\n",
       "      <th>1.0</th>\n",
       "      <td>-0.447103</td>\n",
       "      <td>4.741786e-06</td>\n",
       "      <td>-0.447071</td>\n",
       "      <td>0.000006</td>\n",
       "    </tr>\n",
       "    <tr>\n",
       "      <th rowspan=\"3\" valign=\"top\">20</th>\n",
       "      <th>0.6</th>\n",
       "      <td>-0.414546</td>\n",
       "      <td>1.174950e-06</td>\n",
       "      <td>-0.414698</td>\n",
       "      <td>0.000017</td>\n",
       "    </tr>\n",
       "    <tr>\n",
       "      <th>0.8</th>\n",
       "      <td>-0.414594</td>\n",
       "      <td>2.702950e-06</td>\n",
       "      <td>-0.414791</td>\n",
       "      <td>0.000017</td>\n",
       "    </tr>\n",
       "    <tr>\n",
       "      <th>1.0</th>\n",
       "      <td>-0.414393</td>\n",
       "      <td>6.537040e-06</td>\n",
       "      <td>-0.414428</td>\n",
       "      <td>0.000015</td>\n",
       "    </tr>\n",
       "    <tr>\n",
       "      <th rowspan=\"3\" valign=\"top\">30</th>\n",
       "      <th>0.6</th>\n",
       "      <td>-0.400912</td>\n",
       "      <td>1.525806e-06</td>\n",
       "      <td>-0.401264</td>\n",
       "      <td>0.000015</td>\n",
       "    </tr>\n",
       "    <tr>\n",
       "      <th>0.8</th>\n",
       "      <td>-0.403478</td>\n",
       "      <td>3.464095e-06</td>\n",
       "      <td>-0.403610</td>\n",
       "      <td>0.000007</td>\n",
       "    </tr>\n",
       "    <tr>\n",
       "      <th>1.0</th>\n",
       "      <td>-0.402453</td>\n",
       "      <td>6.309456e-06</td>\n",
       "      <td>-0.402615</td>\n",
       "      <td>0.000016</td>\n",
       "    </tr>\n",
       "    <tr>\n",
       "      <th rowspan=\"9\" valign=\"top\">30</th>\n",
       "      <th rowspan=\"3\" valign=\"top\">10</th>\n",
       "      <th>0.6</th>\n",
       "      <td>-0.447468</td>\n",
       "      <td>2.706185e-06</td>\n",
       "      <td>-0.447422</td>\n",
       "      <td>0.000005</td>\n",
       "    </tr>\n",
       "    <tr>\n",
       "      <th>0.8</th>\n",
       "      <td>-0.448051</td>\n",
       "      <td>5.512164e-07</td>\n",
       "      <td>-0.448084</td>\n",
       "      <td>0.000005</td>\n",
       "    </tr>\n",
       "    <tr>\n",
       "      <th>1.0</th>\n",
       "      <td>-0.447103</td>\n",
       "      <td>4.741786e-06</td>\n",
       "      <td>-0.447071</td>\n",
       "      <td>0.000006</td>\n",
       "    </tr>\n",
       "    <tr>\n",
       "      <th rowspan=\"3\" valign=\"top\">20</th>\n",
       "      <th>0.6</th>\n",
       "      <td>-0.414498</td>\n",
       "      <td>5.497363e-06</td>\n",
       "      <td>-0.414537</td>\n",
       "      <td>0.000010</td>\n",
       "    </tr>\n",
       "    <tr>\n",
       "      <th>0.8</th>\n",
       "      <td>-0.414828</td>\n",
       "      <td>3.923067e-06</td>\n",
       "      <td>-0.415036</td>\n",
       "      <td>0.000013</td>\n",
       "    </tr>\n",
       "    <tr>\n",
       "      <th>1.0</th>\n",
       "      <td>-0.414393</td>\n",
       "      <td>6.537040e-06</td>\n",
       "      <td>-0.414428</td>\n",
       "      <td>0.000015</td>\n",
       "    </tr>\n",
       "    <tr>\n",
       "      <th rowspan=\"3\" valign=\"top\">30</th>\n",
       "      <th>0.6</th>\n",
       "      <td>-0.401922</td>\n",
       "      <td>7.453661e-06</td>\n",
       "      <td>-0.402172</td>\n",
       "      <td>0.000017</td>\n",
       "    </tr>\n",
       "    <tr>\n",
       "      <th>0.8</th>\n",
       "      <td>-0.401711</td>\n",
       "      <td>5.115016e-06</td>\n",
       "      <td>-0.401871</td>\n",
       "      <td>0.000011</td>\n",
       "    </tr>\n",
       "    <tr>\n",
       "      <th>1.0</th>\n",
       "      <td>-0.402453</td>\n",
       "      <td>6.309456e-06</td>\n",
       "      <td>-0.402615</td>\n",
       "      <td>0.000016</td>\n",
       "    </tr>\n",
       "    <tr>\n",
       "      <th rowspan=\"9\" valign=\"top\">60</th>\n",
       "      <th rowspan=\"3\" valign=\"top\">10</th>\n",
       "      <th>0.6</th>\n",
       "      <td>-0.447350</td>\n",
       "      <td>1.725419e-06</td>\n",
       "      <td>-0.447330</td>\n",
       "      <td>0.000007</td>\n",
       "    </tr>\n",
       "    <tr>\n",
       "      <th>0.8</th>\n",
       "      <td>-0.446879</td>\n",
       "      <td>4.099700e-06</td>\n",
       "      <td>-0.446853</td>\n",
       "      <td>0.000006</td>\n",
       "    </tr>\n",
       "    <tr>\n",
       "      <th>1.0</th>\n",
       "      <td>-0.447103</td>\n",
       "      <td>4.741786e-06</td>\n",
       "      <td>-0.447071</td>\n",
       "      <td>0.000006</td>\n",
       "    </tr>\n",
       "    <tr>\n",
       "      <th rowspan=\"3\" valign=\"top\">20</th>\n",
       "      <th>0.6</th>\n",
       "      <td>-0.415939</td>\n",
       "      <td>2.571379e-06</td>\n",
       "      <td>-0.416016</td>\n",
       "      <td>0.000007</td>\n",
       "    </tr>\n",
       "    <tr>\n",
       "      <th>0.8</th>\n",
       "      <td>-0.414254</td>\n",
       "      <td>3.563860e-06</td>\n",
       "      <td>-0.414324</td>\n",
       "      <td>0.000008</td>\n",
       "    </tr>\n",
       "    <tr>\n",
       "      <th>1.0</th>\n",
       "      <td>-0.414393</td>\n",
       "      <td>6.537040e-06</td>\n",
       "      <td>-0.414428</td>\n",
       "      <td>0.000015</td>\n",
       "    </tr>\n",
       "    <tr>\n",
       "      <th rowspan=\"3\" valign=\"top\">30</th>\n",
       "      <th>0.6</th>\n",
       "      <td>-0.403133</td>\n",
       "      <td>4.147631e-06</td>\n",
       "      <td>-0.403386</td>\n",
       "      <td>0.000028</td>\n",
       "    </tr>\n",
       "    <tr>\n",
       "      <th>0.8</th>\n",
       "      <td>-0.400918</td>\n",
       "      <td>2.759744e-06</td>\n",
       "      <td>-0.401161</td>\n",
       "      <td>0.000008</td>\n",
       "    </tr>\n",
       "    <tr>\n",
       "      <th>1.0</th>\n",
       "      <td>-0.402453</td>\n",
       "      <td>6.309456e-06</td>\n",
       "      <td>-0.402615</td>\n",
       "      <td>0.000016</td>\n",
       "    </tr>\n",
       "  </tbody>\n",
       "</table>\n",
       "</div>"
      ],
      "text/plain": [
       "                                         train_score               test_score  \\\n",
       "                                                mean           var       mean   \n",
       "min_samples_split n_estimators subsample                                        \n",
       "2                 10           0.6         -0.447415  1.805052e-06  -0.447457   \n",
       "                               0.8         -0.448095  6.106960e-07  -0.448132   \n",
       "                               1.0         -0.447103  4.741786e-06  -0.447071   \n",
       "                  20           0.6         -0.414546  1.174950e-06  -0.414698   \n",
       "                               0.8         -0.414594  2.702950e-06  -0.414791   \n",
       "                               1.0         -0.414393  6.537040e-06  -0.414428   \n",
       "                  30           0.6         -0.400912  1.525806e-06  -0.401264   \n",
       "                               0.8         -0.403478  3.464095e-06  -0.403610   \n",
       "                               1.0         -0.402453  6.309456e-06  -0.402615   \n",
       "30                10           0.6         -0.447468  2.706185e-06  -0.447422   \n",
       "                               0.8         -0.448051  5.512164e-07  -0.448084   \n",
       "                               1.0         -0.447103  4.741786e-06  -0.447071   \n",
       "                  20           0.6         -0.414498  5.497363e-06  -0.414537   \n",
       "                               0.8         -0.414828  3.923067e-06  -0.415036   \n",
       "                               1.0         -0.414393  6.537040e-06  -0.414428   \n",
       "                  30           0.6         -0.401922  7.453661e-06  -0.402172   \n",
       "                               0.8         -0.401711  5.115016e-06  -0.401871   \n",
       "                               1.0         -0.402453  6.309456e-06  -0.402615   \n",
       "60                10           0.6         -0.447350  1.725419e-06  -0.447330   \n",
       "                               0.8         -0.446879  4.099700e-06  -0.446853   \n",
       "                               1.0         -0.447103  4.741786e-06  -0.447071   \n",
       "                  20           0.6         -0.415939  2.571379e-06  -0.416016   \n",
       "                               0.8         -0.414254  3.563860e-06  -0.414324   \n",
       "                               1.0         -0.414393  6.537040e-06  -0.414428   \n",
       "                  30           0.6         -0.403133  4.147631e-06  -0.403386   \n",
       "                               0.8         -0.400918  2.759744e-06  -0.401161   \n",
       "                               1.0         -0.402453  6.309456e-06  -0.402615   \n",
       "\n",
       "                                                    \n",
       "                                               var  \n",
       "min_samples_split n_estimators subsample            \n",
       "2                 10           0.6        0.000007  \n",
       "                               0.8        0.000005  \n",
       "                               1.0        0.000006  \n",
       "                  20           0.6        0.000017  \n",
       "                               0.8        0.000017  \n",
       "                               1.0        0.000015  \n",
       "                  30           0.6        0.000015  \n",
       "                               0.8        0.000007  \n",
       "                               1.0        0.000016  \n",
       "30                10           0.6        0.000005  \n",
       "                               0.8        0.000005  \n",
       "                               1.0        0.000006  \n",
       "                  20           0.6        0.000010  \n",
       "                               0.8        0.000013  \n",
       "                               1.0        0.000015  \n",
       "                  30           0.6        0.000017  \n",
       "                               0.8        0.000011  \n",
       "                               1.0        0.000016  \n",
       "60                10           0.6        0.000007  \n",
       "                               0.8        0.000006  \n",
       "                               1.0        0.000006  \n",
       "                  20           0.6        0.000007  \n",
       "                               0.8        0.000008  \n",
       "                               1.0        0.000015  \n",
       "                  30           0.6        0.000028  \n",
       "                               0.8        0.000008  \n",
       "                               1.0        0.000016  "
      ]
     },
     "execution_count": 143,
     "metadata": {},
     "output_type": "execute_result"
    }
   ],
   "source": [
    "extract_results(grid_search)"
   ]
  },
  {
   "cell_type": "code",
   "execution_count": 144,
   "metadata": {},
   "outputs": [
    {
     "name": "stdout",
     "output_type": "stream",
     "text": [
      "Mejores parámetros: {'min_samples_split': 60, 'n_estimators': 30, 'subsample': 0.8}\n",
      "Mejor resultado: -0.401\n"
     ]
    }
   ],
   "source": [
    "print(f\"Mejores parámetros: {grid_search.best_params_}\")\n",
    "print(f\"Mejor resultado: {grid_search.best_score_:.3f}\")"
   ]
  },
  {
   "cell_type": "markdown",
   "metadata": {},
   "source": [
    "## Evaluación final del Gradient Boosting"
   ]
  },
  {
   "cell_type": "code",
   "execution_count": 145,
   "metadata": {},
   "outputs": [],
   "source": [
    "from sklearn.pipeline import Pipeline\n",
    "from sklearn.metrics import log_loss\n",
    "\n",
    "pipeline = Pipeline([\n",
    "  (\"rfe\", rfe_feature_selector),\n",
    "  (\"estimator\", grid_search)                      \n",
    "])"
   ]
  },
  {
   "cell_type": "code",
   "execution_count": 146,
   "metadata": {},
   "outputs": [
    {
     "name": "stdout",
     "output_type": "stream",
     "text": [
      "Log loss test: 0.406\n"
     ]
    }
   ],
   "source": [
    "ygb_test_pred = pipeline.predict_proba(Xgb_test)\n",
    "print(f\"Log loss test: {log_loss(ygb_test, ygb_test_pred):.3f}\")"
   ]
  },
  {
   "cell_type": "code",
   "execution_count": 147,
   "metadata": {},
   "outputs": [
    {
     "data": {
      "text/plain": [
       "2983905    1\n",
       "2117523    0\n",
       "3489948    0\n",
       "13079      0\n",
       "5486474    0\n",
       "          ..\n",
       "3688134    0\n",
       "3158067    0\n",
       "1078107    0\n",
       "31963      0\n",
       "2993857    1\n",
       "Name: Arrest_True, Length: 25000, dtype: uint8"
      ]
     },
     "execution_count": 147,
     "metadata": {},
     "output_type": "execute_result"
    }
   ],
   "source": [
    "ygb_test"
   ]
  },
  {
   "cell_type": "code",
   "execution_count": 148,
   "metadata": {},
   "outputs": [
    {
     "data": {
      "text/plain": [
       "array([[0.04048523, 0.95951477],\n",
       "       [0.7802483 , 0.2197517 ],\n",
       "       [0.90879224, 0.09120776],\n",
       "       ...,\n",
       "       [0.78868461, 0.21131539],\n",
       "       [0.7895877 , 0.2104123 ],\n",
       "       [0.0412646 , 0.9587354 ]])"
      ]
     },
     "execution_count": 148,
     "metadata": {},
     "output_type": "execute_result"
    }
   ],
   "source": [
    "ygb_test_pred"
   ]
  },
  {
   "cell_type": "markdown",
   "metadata": {},
   "source": [
    "# Random Forest"
   ]
  },
  {
   "cell_type": "code",
   "execution_count": 174,
   "metadata": {},
   "outputs": [],
   "source": [
    "X = crimen_sample.drop([\"Arrest_True\",\"District_B\", \"District_C\",\"District_D\", \n",
    "                        \"District_F\",\"District_H\",\"District_I\",\"District_N\",\n",
    "                        \"District_Q\",\"District_U\",\"District_V\",\"District_X\",\"District_Y\" ], axis = 1)\n",
    "variables = X.columns\n",
    "X = X.values\n",
    "\n",
    "y = crimen_sample[\"Arrest_True\"]\n",
    "\n",
    "Xrf_train, Xrf_test, yrf_train, yrf_test = train_test_split(\n",
    "    X, y, random_state=0, test_size=0.25, stratify=y)"
   ]
  },
  {
   "cell_type": "code",
   "execution_count": 175,
   "metadata": {},
   "outputs": [],
   "source": [
    "variables_rf = variables\n",
    "\n",
    "list_estimators = (1, 50, 100)\n",
    "\n",
    "for n_estimators in list_estimators:\n",
    "  rf = RandomForestClassifier(\n",
    "      n_estimators=n_estimators,\n",
    "      max_depth=50,\n",
    "      random_state = 0\n",
    "  )\n",
    "  rf.fit(Xrf_train, yrf_train)"
   ]
  },
  {
   "cell_type": "code",
   "execution_count": 176,
   "metadata": {
    "scrolled": true
   },
   "outputs": [
    {
     "name": "stdout",
     "output_type": "stream",
     "text": [
      "year: 0.10\n",
      "Location Description_OTHER: 0.01\n",
      "Location Description_RESIDENCE: 0.03\n",
      "Location Description_STREET: 0.06\n",
      "Location Description_VEHICLE: 0.01\n",
      "Primary Type_CRIMINAL DAMAGE: 0.02\n",
      "Primary Type_NARCOTICS: 0.52\n",
      "Primary Type_OTHER OFFENSES: 0.04\n",
      "Primary Type_SEX CRIMES: 0.05\n",
      "Primary Type_THEFT & ROBBERY: 0.12\n",
      "District_E: 0.00\n",
      "District_G: 0.00\n",
      "District_J: 0.00\n",
      "District_K: 0.00\n",
      "District_L: 0.00\n",
      "District_M: 0.00\n",
      "District_O: 0.00\n",
      "District_P: 0.00\n",
      "District_R: 0.00\n",
      "District_S: 0.01\n",
      "District_T: 0.00\n"
     ]
    }
   ],
   "source": [
    "for name, importance in zip(variables_rf, rf.feature_importances_):\n",
    "  print(f\"{name}: {importance:.2f}\")"
   ]
  },
  {
   "cell_type": "code",
   "execution_count": 177,
   "metadata": {},
   "outputs": [
    {
     "name": "stdout",
     "output_type": "stream",
     "text": [
      "Precisión Random Forest train/test  0.856/0.839\n"
     ]
    }
   ],
   "source": [
    "print('Precisión Random Forest train/test  {0:.3f}/{1:.3f}'\n",
    "      .format(rf.score(Xrf_train, yrf_train), rf.score(Xrf_test, yrf_test)))"
   ]
  },
  {
   "cell_type": "code",
   "execution_count": 179,
   "metadata": {},
   "outputs": [
    {
     "data": {
      "image/png": "[encoded data removed]",
      "text/plain": [
       "<Figure size 576x396 with 1 Axes>"
      ]
     },
     "metadata": {},
     "output_type": "display_data"
    }
   ],
   "source": [
    "# Mostramos la importancia de cada atributo\n",
    "n_atributos = len(variables_rf)\n",
    "plt.barh(range(n_atributos), rf.feature_importances_, align='center')\n",
    "plt.yticks(np.arange(n_atributos), variables_rf)\n",
    "plt.xlabel(\"Importancia de atributo\")\n",
    "plt.ylabel(\"Atributo\")\n",
    "plt.show();"
   ]
  },
  {
   "cell_type": "markdown",
   "metadata": {},
   "source": [
    "## Backward Elimination - Stepwise"
   ]
  },
  {
   "cell_type": "code",
   "execution_count": 180,
   "metadata": {},
   "outputs": [],
   "source": [
    "rfe_feature_selector = RFECV(\n",
    "    LogisticRegression(solver=\"liblinear\"),\n",
    "    cv = 5,\n",
    "    scoring = \"neg_log_loss\", \n",
    "    n_jobs=-1,\n",
    ").fit(Xrf_train, yrf_train)"
   ]
  },
  {
   "cell_type": "code",
   "execution_count": 181,
   "metadata": {},
   "outputs": [
    {
     "data": {
      "image/png": "[encoded data removed]",
      "text/plain": [
       "<Figure size 720x432 with 1 Axes>"
      ]
     },
     "metadata": {},
     "output_type": "display_data"
    },
    {
     "name": "stdout",
     "output_type": "stream",
     "text": [
      "Variables a eliminar:\n"
     ]
    }
   ],
   "source": [
    "fig, ax = plt.subplots(figsize=(10, 6))\n",
    "ax.set_ylabel(\"neg_log_loss\")\n",
    "ax.set_xlabel(\"Nº de variables\")\n",
    "ax.plot(\n",
    "    [i + 1 for i in range(Xrf_train.shape[1])],\n",
    "    rfe_feature_selector.grid_scores_\n",
    ")\n",
    "plt.show()\n",
    "\n",
    "print(\"Variables a eliminar:\")\n",
    "for feature in variables[~rfe_feature_selector.support_]:\n",
    "  print(f\"\\t{feature}\")"
   ]
  },
  {
   "cell_type": "markdown",
   "metadata": {},
   "source": [
    "**En este modelo, queremos utilizar también, los métodos de selección de variables para modelos no supervisados.**\n",
    "\n",
    "- **Queremos darle al estudio un análisis sin tener en cuenta la variable objetivo, viendo que variable depende de ella misma y no de la relación con las demás.**"
   ]
  },
  {
   "cell_type": "markdown",
   "metadata": {},
   "source": [
    "### Variance Threshold"
   ]
  },
  {
   "cell_type": "code",
   "execution_count": 182,
   "metadata": {},
   "outputs": [
    {
     "data": {
      "image/png": "[encoded data removed]",
      "text/plain": [
       "<Figure size 576x576 with 1 Axes>"
      ]
     },
     "metadata": {},
     "output_type": "display_data"
    }
   ],
   "source": [
    "from sklearn.feature_selection import VarianceThreshold\n",
    "\n",
    "vt_feature_selector = VarianceThreshold(threshold=0.0)\n",
    "vt_feature_selector.fit(Xrf_train)\n",
    "fig, ax = plt.subplots(figsize = (8, 8))\n",
    "ax.barh(variables_rf, vt_feature_selector.variances_)\n",
    "plt.show()"
   ]
  },
  {
   "cell_type": "markdown",
   "metadata": {},
   "source": [
    "### Matriz de correlación"
   ]
  },
  {
   "cell_type": "code",
   "execution_count": 183,
   "metadata": {},
   "outputs": [
    {
     "data": {
      "image/png": "[encoded data removed]",
      "text/plain": [
       "<Figure size 720x720 with 2 Axes>"
      ]
     },
     "metadata": {},
     "output_type": "display_data"
    }
   ],
   "source": [
    "fig, ax = plt.subplots(figsize = (10, 10))\n",
    "cr_matrix = pd.DataFrame(columns = variables_rf, data = Xrf_train).corr()\n",
    "im = ax.imshow(cr_matrix)\n",
    "ax.figure.colorbar(im)\n",
    "plt.xticks(range(len(variables_rf)), variables_rf, fontsize=10, rotation=90)\n",
    "plt.yticks(range(len(variables_rf)), variables_rf, fontsize=10, rotation=0)\n",
    "plt.show()"
   ]
  },
  {
   "cell_type": "code",
   "execution_count": 184,
   "metadata": {},
   "outputs": [],
   "source": [
    "from scipy.stats import pearsonr\n",
    "\n",
    "class ColinearityFeatureSelector(object):\n",
    "  \"\"\" Implementa una transformación con el estilo de scikit-learn.\n",
    "  \"\"\"\n",
    "\n",
    "  def __init__(self, threshold = 1.0):\n",
    "    \"\"\" Constructor del objeto.\n",
    "    Args:\n",
    "      threshold (float): Umbral que decide si dos variables son colineares. Es\n",
    "        el coeficiente de correlacion de pearson elevado al cuadrado.\n",
    "    \"\"\"\n",
    "    self.threshold = threshold\n",
    "\n",
    "  def fit(self, X):\n",
    "    \"\"\" Entrenamiento del transformador.\n",
    "    Args:\n",
    "      X(np.Array): Matriz de atributos bidimensional.\n",
    "    Returns:\n",
    "      Referencia a sí mismo.\n",
    "    \"\"\"\n",
    "    to_remove = []\n",
    "    for i in range(X.shape[1]):\n",
    "      for j in range(i + 1, X.shape[1]):\n",
    "        r, _ = pearsonr(X[:, i], X[:, j])\n",
    "        if r**2 >= self.threshold: \n",
    "          to_remove.append(j)\n",
    "    self.support_ = np.array([i not in to_remove for i in range(X.shape[1])])\n",
    "    return self\n",
    "\n",
    "  def transform(self, X):\n",
    "    \"\"\" Elimina las variables que se han marcado como colineares.\n",
    "    Args:\n",
    "      X(np.Array): Matriz de atributos bidimensional.\n",
    "    Returns:\n",
    "      X transformada.\n",
    "    \"\"\"\n",
    "    return X[:, self.support_]\n",
    "\n",
    "  def fit_transform(self, X):\n",
    "    \"\"\" Entrena, y luego transforma la matriz X.\n",
    "    Args:\n",
    "      X(np.Array): Matriz de atributos bidimensional.\n",
    "    Returns:\n",
    "      X transformada.\n",
    "    \"\"\"\n",
    "    return self.fit(X).transform(X)"
   ]
  },
  {
   "cell_type": "code",
   "execution_count": 185,
   "metadata": {},
   "outputs": [
    {
     "name": "stdout",
     "output_type": "stream",
     "text": [
      "Variables a eliminar:\n"
     ]
    }
   ],
   "source": [
    "cl_feature_selector = ColinearityFeatureSelector(threshold = 0.9)\n",
    "cl_feature_selector.fit(Xrf_train)\n",
    "print(\"Variables a eliminar:\")\n",
    "for feature in variables_rf[~cl_feature_selector.support_]:\n",
    "  print(f\"\\t{feature}\")"
   ]
  },
  {
   "cell_type": "markdown",
   "metadata": {},
   "source": [
    "### Optimización de hiperparámetros"
   ]
  },
  {
   "cell_type": "code",
   "execution_count": 186,
   "metadata": {},
   "outputs": [
    {
     "name": "stdout",
     "output_type": "stream",
     "text": [
      "Fitting 5 folds for each of 27 candidates, totalling 135 fits\n"
     ]
    }
   ],
   "source": [
    "from sklearn.model_selection import GridSearchCV\n",
    "\n",
    "np.random.seed(0)\n",
    "\n",
    "param_grid = {\n",
    "    \"n_estimators\": [1, 50, 100],\n",
    "    \"min_samples_split\": [2, 30, 60],\n",
    "    \"subsample\": [1.0, 0.8, 0.6]\n",
    "}\n",
    "\n",
    "grid_search_rf = GridSearchCV(\n",
    "    GradientBoostingClassifier(),\n",
    "    param_grid = param_grid,\n",
    "    cv = 5,\n",
    "    verbose = 1,\n",
    "    return_train_score = True,\n",
    "    scoring = \"neg_log_loss\",\n",
    "    n_jobs=-1\n",
    ").fit(Xrf_train, yrf_train)"
   ]
  },
  {
   "cell_type": "code",
   "execution_count": 187,
   "metadata": {},
   "outputs": [
    {
     "data": {
      "text/html": [
       "<div>\n",
       "<style scoped>\n",
       "    .dataframe tbody tr th:only-of-type {\n",
       "        vertical-align: middle;\n",
       "    }\n",
       "\n",
       "    .dataframe tbody tr th {\n",
       "        vertical-align: top;\n",
       "    }\n",
       "\n",
       "    .dataframe thead tr th {\n",
       "        text-align: left;\n",
       "    }\n",
       "\n",
       "    .dataframe thead tr:last-of-type th {\n",
       "        text-align: right;\n",
       "    }\n",
       "</style>\n",
       "<table border=\"1\" class=\"dataframe\">\n",
       "  <thead>\n",
       "    <tr>\n",
       "      <th></th>\n",
       "      <th></th>\n",
       "      <th></th>\n",
       "      <th colspan=\"2\" halign=\"left\">train_score</th>\n",
       "      <th colspan=\"2\" halign=\"left\">test_score</th>\n",
       "    </tr>\n",
       "    <tr>\n",
       "      <th></th>\n",
       "      <th></th>\n",
       "      <th></th>\n",
       "      <th>mean</th>\n",
       "      <th>var</th>\n",
       "      <th>mean</th>\n",
       "      <th>var</th>\n",
       "    </tr>\n",
       "    <tr>\n",
       "      <th>min_samples_split</th>\n",
       "      <th>n_estimators</th>\n",
       "      <th>subsample</th>\n",
       "      <th></th>\n",
       "      <th></th>\n",
       "      <th></th>\n",
       "      <th></th>\n",
       "    </tr>\n",
       "  </thead>\n",
       "  <tbody>\n",
       "    <tr>\n",
       "      <th rowspan=\"9\" valign=\"top\">2</th>\n",
       "      <th rowspan=\"3\" valign=\"top\">1</th>\n",
       "      <th>0.6</th>\n",
       "      <td>-0.555042</td>\n",
       "      <td>1.544608e-08</td>\n",
       "      <td>-0.555053</td>\n",
       "      <td>2.587628e-07</td>\n",
       "    </tr>\n",
       "    <tr>\n",
       "      <th>0.8</th>\n",
       "      <td>-0.555021</td>\n",
       "      <td>1.434760e-08</td>\n",
       "      <td>-0.555024</td>\n",
       "      <td>2.550815e-07</td>\n",
       "    </tr>\n",
       "    <tr>\n",
       "      <th>1.0</th>\n",
       "      <td>-0.555028</td>\n",
       "      <td>2.393608e-08</td>\n",
       "      <td>-0.555032</td>\n",
       "      <td>2.166176e-07</td>\n",
       "    </tr>\n",
       "    <tr>\n",
       "      <th rowspan=\"3\" valign=\"top\">50</th>\n",
       "      <th>0.6</th>\n",
       "      <td>-0.388686</td>\n",
       "      <td>8.306074e-07</td>\n",
       "      <td>-0.389359</td>\n",
       "      <td>1.122194e-05</td>\n",
       "    </tr>\n",
       "    <tr>\n",
       "      <th>0.8</th>\n",
       "      <td>-0.388177</td>\n",
       "      <td>1.281400e-06</td>\n",
       "      <td>-0.388627</td>\n",
       "      <td>2.154177e-05</td>\n",
       "    </tr>\n",
       "    <tr>\n",
       "      <th>1.0</th>\n",
       "      <td>-0.389176</td>\n",
       "      <td>2.287719e-06</td>\n",
       "      <td>-0.389580</td>\n",
       "      <td>1.207455e-05</td>\n",
       "    </tr>\n",
       "    <tr>\n",
       "      <th rowspan=\"3\" valign=\"top\">100</th>\n",
       "      <th>0.6</th>\n",
       "      <td>-0.377571</td>\n",
       "      <td>2.912625e-06</td>\n",
       "      <td>-0.378951</td>\n",
       "      <td>1.689408e-05</td>\n",
       "    </tr>\n",
       "    <tr>\n",
       "      <th>0.8</th>\n",
       "      <td>-0.377479</td>\n",
       "      <td>8.738857e-07</td>\n",
       "      <td>-0.378910</td>\n",
       "      <td>1.005364e-05</td>\n",
       "    </tr>\n",
       "    <tr>\n",
       "      <th>1.0</th>\n",
       "      <td>-0.378675</td>\n",
       "      <td>2.394848e-06</td>\n",
       "      <td>-0.379947</td>\n",
       "      <td>9.608195e-06</td>\n",
       "    </tr>\n",
       "    <tr>\n",
       "      <th rowspan=\"9\" valign=\"top\">30</th>\n",
       "      <th rowspan=\"3\" valign=\"top\">1</th>\n",
       "      <th>0.6</th>\n",
       "      <td>-0.555034</td>\n",
       "      <td>4.777510e-08</td>\n",
       "      <td>-0.555043</td>\n",
       "      <td>1.873484e-07</td>\n",
       "    </tr>\n",
       "    <tr>\n",
       "      <th>0.8</th>\n",
       "      <td>-0.555034</td>\n",
       "      <td>2.208890e-08</td>\n",
       "      <td>-0.555048</td>\n",
       "      <td>2.921800e-07</td>\n",
       "    </tr>\n",
       "    <tr>\n",
       "      <th>1.0</th>\n",
       "      <td>-0.555028</td>\n",
       "      <td>2.393608e-08</td>\n",
       "      <td>-0.555032</td>\n",
       "      <td>2.166176e-07</td>\n",
       "    </tr>\n",
       "    <tr>\n",
       "      <th rowspan=\"3\" valign=\"top\">50</th>\n",
       "      <th>0.6</th>\n",
       "      <td>-0.388385</td>\n",
       "      <td>5.525300e-06</td>\n",
       "      <td>-0.389133</td>\n",
       "      <td>1.619539e-05</td>\n",
       "    </tr>\n",
       "    <tr>\n",
       "      <th>0.8</th>\n",
       "      <td>-0.388900</td>\n",
       "      <td>7.804864e-07</td>\n",
       "      <td>-0.389430</td>\n",
       "      <td>1.241805e-05</td>\n",
       "    </tr>\n",
       "    <tr>\n",
       "      <th>1.0</th>\n",
       "      <td>-0.389176</td>\n",
       "      <td>2.287719e-06</td>\n",
       "      <td>-0.389580</td>\n",
       "      <td>1.207455e-05</td>\n",
       "    </tr>\n",
       "    <tr>\n",
       "      <th rowspan=\"3\" valign=\"top\">100</th>\n",
       "      <th>0.6</th>\n",
       "      <td>-0.377056</td>\n",
       "      <td>2.269012e-06</td>\n",
       "      <td>-0.378603</td>\n",
       "      <td>1.025430e-05</td>\n",
       "    </tr>\n",
       "    <tr>\n",
       "      <th>0.8</th>\n",
       "      <td>-0.377527</td>\n",
       "      <td>3.927946e-07</td>\n",
       "      <td>-0.378928</td>\n",
       "      <td>1.297563e-05</td>\n",
       "    </tr>\n",
       "    <tr>\n",
       "      <th>1.0</th>\n",
       "      <td>-0.378706</td>\n",
       "      <td>2.430607e-06</td>\n",
       "      <td>-0.379964</td>\n",
       "      <td>9.537218e-06</td>\n",
       "    </tr>\n",
       "    <tr>\n",
       "      <th rowspan=\"9\" valign=\"top\">60</th>\n",
       "      <th rowspan=\"3\" valign=\"top\">1</th>\n",
       "      <th>0.6</th>\n",
       "      <td>-0.555011</td>\n",
       "      <td>2.083651e-08</td>\n",
       "      <td>-0.555005</td>\n",
       "      <td>2.578278e-07</td>\n",
       "    </tr>\n",
       "    <tr>\n",
       "      <th>0.8</th>\n",
       "      <td>-0.555047</td>\n",
       "      <td>2.696966e-08</td>\n",
       "      <td>-0.555050</td>\n",
       "      <td>2.179895e-07</td>\n",
       "    </tr>\n",
       "    <tr>\n",
       "      <th>1.0</th>\n",
       "      <td>-0.555028</td>\n",
       "      <td>2.393608e-08</td>\n",
       "      <td>-0.555032</td>\n",
       "      <td>2.166176e-07</td>\n",
       "    </tr>\n",
       "    <tr>\n",
       "      <th rowspan=\"3\" valign=\"top\">50</th>\n",
       "      <th>0.6</th>\n",
       "      <td>-0.387760</td>\n",
       "      <td>5.306982e-06</td>\n",
       "      <td>-0.388317</td>\n",
       "      <td>5.659076e-06</td>\n",
       "    </tr>\n",
       "    <tr>\n",
       "      <th>0.8</th>\n",
       "      <td>-0.388849</td>\n",
       "      <td>5.664443e-06</td>\n",
       "      <td>-0.389351</td>\n",
       "      <td>7.505515e-06</td>\n",
       "    </tr>\n",
       "    <tr>\n",
       "      <th>1.0</th>\n",
       "      <td>-0.389176</td>\n",
       "      <td>2.287719e-06</td>\n",
       "      <td>-0.389580</td>\n",
       "      <td>1.207455e-05</td>\n",
       "    </tr>\n",
       "    <tr>\n",
       "      <th rowspan=\"3\" valign=\"top\">100</th>\n",
       "      <th>0.6</th>\n",
       "      <td>-0.376814</td>\n",
       "      <td>1.716845e-06</td>\n",
       "      <td>-0.378297</td>\n",
       "      <td>9.706343e-06</td>\n",
       "    </tr>\n",
       "    <tr>\n",
       "      <th>0.8</th>\n",
       "      <td>-0.377739</td>\n",
       "      <td>4.849022e-07</td>\n",
       "      <td>-0.379192</td>\n",
       "      <td>1.263165e-05</td>\n",
       "    </tr>\n",
       "    <tr>\n",
       "      <th>1.0</th>\n",
       "      <td>-0.378706</td>\n",
       "      <td>2.430607e-06</td>\n",
       "      <td>-0.379964</td>\n",
       "      <td>9.537218e-06</td>\n",
       "    </tr>\n",
       "  </tbody>\n",
       "</table>\n",
       "</div>"
      ],
      "text/plain": [
       "                                         train_score               test_score  \\\n",
       "                                                mean           var       mean   \n",
       "min_samples_split n_estimators subsample                                        \n",
       "2                 1            0.6         -0.555042  1.544608e-08  -0.555053   \n",
       "                               0.8         -0.555021  1.434760e-08  -0.555024   \n",
       "                               1.0         -0.555028  2.393608e-08  -0.555032   \n",
       "                  50           0.6         -0.388686  8.306074e-07  -0.389359   \n",
       "                               0.8         -0.388177  1.281400e-06  -0.388627   \n",
       "                               1.0         -0.389176  2.287719e-06  -0.389580   \n",
       "                  100          0.6         -0.377571  2.912625e-06  -0.378951   \n",
       "                               0.8         -0.377479  8.738857e-07  -0.378910   \n",
       "                               1.0         -0.378675  2.394848e-06  -0.379947   \n",
       "30                1            0.6         -0.555034  4.777510e-08  -0.555043   \n",
       "                               0.8         -0.555034  2.208890e-08  -0.555048   \n",
       "                               1.0         -0.555028  2.393608e-08  -0.555032   \n",
       "                  50           0.6         -0.388385  5.525300e-06  -0.389133   \n",
       "                               0.8         -0.388900  7.804864e-07  -0.389430   \n",
       "                               1.0         -0.389176  2.287719e-06  -0.389580   \n",
       "                  100          0.6         -0.377056  2.269012e-06  -0.378603   \n",
       "                               0.8         -0.377527  3.927946e-07  -0.378928   \n",
       "                               1.0         -0.378706  2.430607e-06  -0.379964   \n",
       "60                1            0.6         -0.555011  2.083651e-08  -0.555005   \n",
       "                               0.8         -0.555047  2.696966e-08  -0.555050   \n",
       "                               1.0         -0.555028  2.393608e-08  -0.555032   \n",
       "                  50           0.6         -0.387760  5.306982e-06  -0.388317   \n",
       "                               0.8         -0.388849  5.664443e-06  -0.389351   \n",
       "                               1.0         -0.389176  2.287719e-06  -0.389580   \n",
       "                  100          0.6         -0.376814  1.716845e-06  -0.378297   \n",
       "                               0.8         -0.377739  4.849022e-07  -0.379192   \n",
       "                               1.0         -0.378706  2.430607e-06  -0.379964   \n",
       "\n",
       "                                                        \n",
       "                                                   var  \n",
       "min_samples_split n_estimators subsample                \n",
       "2                 1            0.6        2.587628e-07  \n",
       "                               0.8        2.550815e-07  \n",
       "                               1.0        2.166176e-07  \n",
       "                  50           0.6        1.122194e-05  \n",
       "                               0.8        2.154177e-05  \n",
       "                               1.0        1.207455e-05  \n",
       "                  100          0.6        1.689408e-05  \n",
       "                               0.8        1.005364e-05  \n",
       "                               1.0        9.608195e-06  \n",
       "30                1            0.6        1.873484e-07  \n",
       "                               0.8        2.921800e-07  \n",
       "                               1.0        2.166176e-07  \n",
       "                  50           0.6        1.619539e-05  \n",
       "                               0.8        1.241805e-05  \n",
       "                               1.0        1.207455e-05  \n",
       "                  100          0.6        1.025430e-05  \n",
       "                               0.8        1.297563e-05  \n",
       "                               1.0        9.537218e-06  \n",
       "60                1            0.6        2.578278e-07  \n",
       "                               0.8        2.179895e-07  \n",
       "                               1.0        2.166176e-07  \n",
       "                  50           0.6        5.659076e-06  \n",
       "                               0.8        7.505515e-06  \n",
       "                               1.0        1.207455e-05  \n",
       "                  100          0.6        9.706343e-06  \n",
       "                               0.8        1.263165e-05  \n",
       "                               1.0        9.537218e-06  "
      ]
     },
     "execution_count": 187,
     "metadata": {},
     "output_type": "execute_result"
    }
   ],
   "source": [
    "extract_results(grid_search_rf)"
   ]
  },
  {
   "cell_type": "code",
   "execution_count": 188,
   "metadata": {},
   "outputs": [
    {
     "name": "stdout",
     "output_type": "stream",
     "text": [
      "Mejores parámetros: {'min_samples_split': 60, 'n_estimators': 100, 'subsample': 0.6}\n",
      "Mejor resultado: -0.378\n"
     ]
    }
   ],
   "source": [
    "print(f\"Mejores parámetros: {grid_search_rf.best_params_}\")\n",
    "print(f\"Mejor resultado: {grid_search_rf.best_score_:.3f}\")"
   ]
  },
  {
   "cell_type": "markdown",
   "metadata": {},
   "source": [
    "## Evaluación final del Random Forest"
   ]
  },
  {
   "cell_type": "code",
   "execution_count": 189,
   "metadata": {},
   "outputs": [],
   "source": [
    "from sklearn.pipeline import Pipeline\n",
    "from sklearn.metrics import log_loss\n",
    "\n",
    "pipeline = Pipeline([\n",
    "    (\"variance\", vt_feature_selector),\n",
    "  (\"colinear\", cl_feature_selector),\n",
    "  (\"rfe\", rfe_feature_selector),\n",
    "  (\"estimator\", grid_search)                      \n",
    "])"
   ]
  },
  {
   "cell_type": "code",
   "execution_count": 191,
   "metadata": {},
   "outputs": [
    {
     "name": "stdout",
     "output_type": "stream",
     "text": [
      "Log loss test: 0.406\n"
     ]
    }
   ],
   "source": [
    "yrf_test_pred = pipeline.predict_proba(Xrf_test)\n",
    "print(f\"Log loss test: {log_loss(yrf_test, yrf_test_pred):.3f}\")"
   ]
  }
 ],
 "metadata": {
  "kernelspec": {
   "display_name": "Python 3",
   "language": "python",
   "name": "python3"
  },
  "language_info": {
   "codemirror_mode": {
    "name": "ipython",
    "version": 3
   },
   "file_extension": ".py",
   "mimetype": "text/x-python",
   "name": "python",
   "nbconvert_exporter": "python",
   "pygments_lexer": "ipython3",
   "version": "3.8.8"
  }
 },
 "nbformat": 4,
 "nbformat_minor": 2
}
