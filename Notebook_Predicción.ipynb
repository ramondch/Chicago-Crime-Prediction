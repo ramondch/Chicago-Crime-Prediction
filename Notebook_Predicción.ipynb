{
 "cells": [
  {
   "cell_type": "markdown",
   "metadata": {},
   "source": [
    "# ***PREDICCIÓN DE ACTOS DELICTIVOS - CHICAGO***\n",
    "\n",
    "## Alumnos:\n",
    "\n",
    "### `Noelia García`\n",
    "\n",
    "### `Carlos Astorga`\n",
    "\n",
    "### `Ramón Denia`"
   ]
  },
  {
   "cell_type": "markdown",
   "metadata": {},
   "source": [
    "# ***PREDICCIÓN***\n",
    "\n",
    "---"
   ]
  },
  {
   "cell_type": "markdown",
   "metadata": {},
   "source": [
    "Importación de las librerias necesarias para realizar la predicción y analisis de las variables. Estas librerias se han ido nutriendo segun avanzaba el codigo"
   ]
  },
  {
   "cell_type": "code",
   "execution_count": 2,
   "metadata": {},
   "outputs": [],
   "source": [
    "#pip install tensorflow"
   ]
  },
  {
   "cell_type": "code",
   "execution_count": 3,
   "metadata": {},
   "outputs": [],
   "source": [
    "#Librerias\n",
    "import warnings\n",
    "warnings.filterwarnings(\"ignore\")\n",
    "\n",
    "import numpy as np\n",
    "import pandas as pd\n",
    "import seaborn as sns\n",
    "import calendar\n",
    "\n",
    "\n",
    "import matplotlib.pyplot as plt\n",
    "from matplotlib import style\n",
    "style.use('ggplot')\n",
    "\n",
    "from datetime import datetime\n",
    "import time\n",
    "from time import sleep\n",
    "%matplotlib inline\n",
    "plt.style.use('seaborn')\n",
    "\n",
    "from numpy import arange\n",
    "from matplotlib import pyplot\n",
    "from pandas import set_option\n",
    "from pandas.plotting import scatter_matrix\n",
    "\n",
    "from sklearn.preprocessing import StandardScaler\n",
    "from sklearn.preprocessing import LabelBinarizer\n",
    "from sklearn.preprocessing import OneHotEncoder\n",
    "from sklearn.preprocessing import MinMaxScaler\n",
    "\n",
    "from sklearn.model_selection import train_test_split\n",
    "from sklearn.model_selection import KFold\n",
    "from sklearn.model_selection import cross_val_score\n",
    "from sklearn.model_selection import GridSearchCV\n",
    "\n",
    "from sklearn.linear_model import LinearRegression\n",
    "from sklearn.linear_model import Lasso\n",
    "from sklearn.linear_model import ElasticNet\n",
    "\n",
    "from sklearn.tree import DecisionTreeRegressor\n",
    "from sklearn.tree import DecisionTreeClassifier\n",
    "from sklearn.neighbors import KNeighborsRegressor\n",
    "from sklearn.svm import SVR\n",
    "from sklearn.pipeline import Pipeline\n",
    "from sklearn.dummy import DummyClassifier\n",
    "from sklearn.naive_bayes import GaussianNB\n",
    "\n",
    "from sklearn.cluster import AgglomerativeClustering as AC\n",
    "from sklearn.feature_selection import RFECV\n",
    "\n",
    "from sklearn.ensemble import RandomForestRegressor\n",
    "from sklearn.ensemble import GradientBoostingRegressor\n",
    "from sklearn.ensemble import GradientBoostingClassifier\n",
    "from sklearn.ensemble import ExtraTreesRegressor\n",
    "from sklearn.ensemble import AdaBoostRegressor\n",
    "from sklearn.ensemble import RandomForestClassifier\n",
    "from sklearn.ensemble import AdaBoostClassifier\n",
    "\n",
    "\n",
    "import tensorflow as tf\n",
    "from tensorflow import keras\n",
    "from tensorflow.keras import layers\n",
    "from tensorflow.keras.models import Sequential\n",
    "from tensorflow.keras.layers import Dense, Dropout\n",
    "\n",
    "from sklearn.metrics import accuracy_score, precision_score, recall_score, f1_score, confusion_matrix\n",
    "from sklearn.metrics import roc_curve, roc_auc_score\n",
    "from sklearn.metrics import mean_squared_error"
   ]
  },
  {
   "cell_type": "markdown",
   "metadata": {},
   "source": [
    "Cargar los datos con los que se cuenta y crear la variable \"dataset\" que engloba todos los datos."
   ]
  },
  {
   "cell_type": "code",
   "execution_count": 4,
   "metadata": {},
   "outputs": [],
   "source": [
    "dataset = pd.read_csv ('DATASET CHICAGO.csv', low_memory = False, encoding=\"ISO-8859-1\")\n",
    "#Hemos hecho un low_memory=False, porque nos daba problemas a la hora de interpretar el tipo de datos de algunas filas"
   ]
  },
  {
   "cell_type": "markdown",
   "metadata": {},
   "source": [
    "Eliminamos los valores nulos de nuestro dataset"
   ]
  },
  {
   "cell_type": "code",
   "execution_count": 5,
   "metadata": {},
   "outputs": [],
   "source": [
    "# Se eliminan los valores nulos\n",
    "dataset.dropna(axis=0,inplace=True)"
   ]
  },
  {
   "cell_type": "markdown",
   "metadata": {},
   "source": [
    "Agrupamos las variables del dataset tal y como hemos hecho en el **Notebook_Análisis**"
   ]
  },
  {
   "cell_type": "code",
   "execution_count": 6,
   "metadata": {},
   "outputs": [],
   "source": [
    "dataset[\"Primary Type\"] = dataset[\"Primary Type\"].replace({\n",
    "     \"THEFT\": \"THEFT & ROBBERY\", \"BURGLARY\": \"THEFT & ROBBERY\", \"MOTOR VEHICLE THEFT\": \"THEFT & ROBBERY\",\n",
    "     \"ROBBERY\": \"THEFT & ROBBERY\", \"BATTERY\": \"ASSAULT\", \"CRIM SEXUAL ASSAULT\": \"ASSAULT\", \"PROSTITUTION\": \"SEX CRIMES\",\n",
    "     \"SEX OFFENSE\": \"SEX CRIMES\", \"CRIMINAL TRESPASS\": \"CRIMINAL DAMAGE\", \"ARSON\": \"CRIMINAL DAMAGE\", \"OTHER OFFENSE\":\n",
    "     \"OTHER OFFENSES\", \"DECEPTIVE PRACTICE\": \"OTHER OFFENSES\", \"WEAPONS VIOLATION\": \"OTHER OFFENSES\", \"GAMBLING\":\n",
    "     \"OTHER OFFENSES\", \"STALKING\": \"OTHER OFFENSES\", \"KIDNAPPING\": \"OTHER OFFENSES\", \"OBSCENITY\": \"OTHER OFFENSES\",\n",
    "     \"INTIMIDATION\": \"OTHER OFFENSES\", \"RITUALISM\": \"OTHER OFFENSES\", \"HUMAN TRAFFICKING\": \"OTHER OFFENSES\",\n",
    "     \"CONCEALED CARRY LICENSE VIOLATION\": \"OTHER OFFENSES\", \"NON-CRIMINAL (SUBJECT SPECIFIED)\": \"OTHER OFFENSES\",\n",
    "     \"NON-CRIMINAL\": \"OTHER OFFENSES\", \"PUBLIC PEACE VIOLATION\": \"OTHER OFFENSES\", \"OFFENSE INVOLVING CHILDREN\":\n",
    "     \"OTHER OFFENSES\", \"INTERFERENCE WITH PUBLIC OFFICER\": \"OTHER OFFENSES\", \"LIQUOR LAW VIOLATION\": \"OTHER OFFENSES\",\n",
    "     \"NON - CRIMINAL\": \"OTHER OFFENSES\", \"OTHER NARCOTIC VIOLATION\": \"NARCOTICS\", \"PUBLIC INDECENCY\": \"OTHER OFFENSES\",\n",
    "     \"HOMICIDE\": \"ASSAULT\" })"
   ]
  },
  {
   "cell_type": "code",
   "execution_count": 7,
   "metadata": {},
   "outputs": [],
   "source": [
    "dataset[\"Location Description\"] = dataset['Location Description'].replace({\"SIDEWALK\":\"STREET\", \"ALLEY\":\"STREET\",\n",
    "            \"APARTMENT\":\"RESIDENCE\",\"RESIDENCE-GARAGE\":\"RESIDENCE\",\"RESIDENCE PORCH/HALLWAY\": \n",
    "            \"RESIDENCE\", \"RESIDENTIAL YARD (FRONT/BACK)\":\"RESIDENCE\",\"CHA APARTMENT\": \"RESIDENCE\",\n",
    "            \"CHA HALLWAY/STAIRWELL/ELEVATOR\": \"RESIDENCE\",\"SMALL RETAIL STORE\":\"RETAIL OUTLET\",\"DRUG STORE\":\n",
    "            \"RETAIL OUTLET\",\"GAS STATION\":\"RETAIL OUTLET\",\"DEPARTMENT STORE\":\"RETAIL OUTLET\",\"RETAIL STORES\":\n",
    "            \"RETAIL OUTLET\",\"RESTAURANT\":\"BUSINESS\",\"BAR OR TAVERN\":\"BUSINESS\",\"RESTAURANT\":\"BUSINESS\",\"BANK\":\n",
    "            \"BUSINESS\",\"HOTEL/MOTEL\":\"BUSINESS\",\"VEHICLE NON-COMMERCIAL\":\"VEHICLE\",\"PARKING LOT\":\"PUBLIC BUILDING/GROUNDS\",\n",
    "            \"SCHOOL, PUBLIC, BUILDING\":\"SCHOOL\",\"PARK PROPERTY\":\"PUBLIC BUILDING/GROUNDS\",\"CTA PLATFORM\":\n",
    "            \"PUBLIC BUILDING/GROUNDS\",\"CHA PARKING LOT/GROUNDS\":\"PUBLIC BUILDING/GROUNDS\",\"SCHOOL, PUBLIC, GROUNDS\":\n",
    "            \"SCHOOL\", \"CTA TRAIN\":\"PUBLIC BUILDING/GROUNDS\",\"VACANT LOT/LAND\":\"PUBLIC BUILDING/GROUNDS\",\n",
    "            \"GROCERY FOOD STORE\":\"RETAIL OUTLET\",\"PUBLIC HIGH SCHOOL\":\"SCHOOL\",'CTA \"L\" TRAIN':\n",
    "            \"PUBLIC BUILDING/GROUNDS\",\"PARKING LOT/GARAGE(NON.RESID.)\":\"PUBLIC BUILDING/GROUNDS\",\"CTA BUS\":\"VEHICLE\",\n",
    "            \"TAVERN/LIQUOR STORE\":\"RETAIL OUTLET\",\"HOSPITAL BUILDING/GROUNDS\":\"HOSPITAL\",\n",
    "            \"POLICE FACILITY/VEH PARKING LOT\":\"POLICE BUILDING\",\"CONVENIENCE STORE\":\n",
    "            \"RETAIL OUTLET\",\"CHURCH/SYNAGOGUE/PLACE OF WORSHIP\":\"CHURCH\",\"GOVERNMENT BUILDING/PROPERTY\":\n",
    "            \"FEDERAL BUILDING\",\"SCHOOL, PRIVATE, BUILDING\":\"SCHOOL\",\"GOVERNMENT BUILDING\":\n",
    "            \"FEDERAL BUILDING\",\"CONSTRUCTION SITE\":\"BUSINESS\",\"WAREHOUSE\":\"BUSINESS\",\"AIRCRAFT\":\"AIRPORT\",\n",
    "            \"ABANDONED BUILDING\":\"OTHER\",\"CTA GARAGE / OTHER PROPERTY\":\"PUBLIC BUILDING/GROUNDS\",\"TAXICAB\":\"VEHICLE\",\n",
    "            \"CTA BUS STOP\":\"PUBLIC BUILDING/GROUNDS\",\"BARBERSHOP\":\"BUSINESS\",\"CURRENCY EXCHANGE\":\"BUSINESS\",\"LIBRARY\":\n",
    "            \"PUBLIC BUILDING/GROUNDS\",\"ATHLETIC CLUB\":\"PUBLIC BUILDING/GROUNDS\",\"MEDICAL/DENTAL OFFICE\":\"BUSINESS\",\n",
    "            \"FACTORY/MANUFACTURING BUILDING\":\"BUSINESS\",\"COMMERCIAL / BUSINESS OFFICE\":\"BUSINESS\",\"SCHOOL, PRIVATE, GROUNDS\":\n",
    "            \"SCHOOL\",\"CLEANING STORE\":\"RETAIL OUTLET\",\"VEHICLE-COMMERCIAL\":\"VEHICLE\",\"COLLEGE/UNIVERSITY GROUNDS\":\"SCHOOL\",\n",
    "            \"DRIVEWAY - RESIDENTIAL\":\"RESIDENCE\",\"SPORTS ARENA/STADIUM\":\"PUBLIC BUILDING/GROUNDS\",\"CTA STATION\":\n",
    "            \"PUBLIC BUILDING/GROUNDS\",\"ATM (AUTOMATIC TELLER MACHINE)\":\"BUSINESS\",\"DAY CARE CENTER\":\"SCHOOL\",\"BUSINESS\":\n",
    "            \"BUSINESS\",\"CAR WASH\":\"BUSINESS\",\"AUTO\":\"VEHICLE\",\"COLLEGE/UNIVERSITY RESIDENCE HALL\":\"SCHOOL\",\"MOVIE HOUSE/THEATER\":\n",
    "            \"RETAIL OUTLET\", \"APPLIANCE STORE\":\"RETAIL OUTLET\",\"HIGHWAY/EXPRESSWAY\":\"STREET\",\"LAKEFRONT/WATERFRONT/RIVERBANK\":\n",
    "            \"OTHER\",\"AIRPORT TERMINAL UPPER LEVEL - SECURE AREA\":\"AIRPORT\",\"AIRPORT TERMINAL LOWER LEVEL - NON-SECURE AREA\":\n",
    "            \"AIRPORT\",\"AIRPORT BUILDING NON-TERMINAL - NON-SECURE AREA\":\"AIRPORT\",\"AIRPORT VENDING ESTABLISHMENT\":\"AIRPORT\",\n",
    "            \"AIRPORT TERMINAL LOWER LEVEL - SECURE AREA\":\"AIRPORT\",\"AIRPORT BUILDING NON-TERMINAL - SECURE AREA\":\"AIRPORT\",\n",
    "            \"DELIVERY TRUCK\":\"VEHICLE\",\"ANIMAL HOSPITAL\":\"HOSPITAL\",\"AIRPORT TERMINAL UPPER LEVEL - NON-SECURE AREA\":\"AIRPORT\",\n",
    "            \"AIRPORT PARKING LOT\":\"AIRPORT\",\"OTHER COMMERCIAL TRANSPORTATION\":\"VEHICLE\",\"VEHICLE - OTHER RIDE SERVICE\":\"VEHICLE\",\n",
    "            \"CREDIT UNION\":\"BUSINESS\",\"AIRPORT EXTERIOR - NON-SECURE AREA\":\"AIRPORT\",\"HOUSE\":\"RESIDENCE\",\"AIRPORT EXTERIOR - SECURE AREA\":\n",
    "            \"AIRPORT\", \"POOL ROOM\":\"OTHER\",\"COIN OPERATED MACHINE\":\"OTHER\",\"PAWN SHOP\":\"OTHER\",\"YARD\":\"OTHER\",\"BOWLING ALLEY\":\"OTHER\",\n",
    "            \"BOAT/WATERCRAFT\":\"OTHER\",\"BRIDGE\":\"STREET\",\"CEMETERY\":\"PUBLIC BUILDING/GROUNDS\",\"FOREST PRESERVE\":\n",
    "            \"OTHER\",\"SAVINGS AND LOAN\":\"BUSINESS\",\"VACANT LOT\":\"OTHER\",\"GANGWAY\":\"AIRPORT\",\"PUBLIC BUILDING/GROUND\":\"PUBLIC BUILDING/GROUNDS\",\n",
    "            \"VEHICLE - OTHER RIDE SHARE SERVICE (E.G., UBER, LYFT)\":\"VEHICLE\",\"PORCH\":\"RESIDENCE\",\"NEWSSTAND\":\"STREET\",\"RETAIL STORE\":\"RETAIL OUTLET\",\n",
    "            \"AIRPORT TERMINAL MEZZANINE - NON-SECURE AREA\":\"AIRPORT\",\"AIRPORT TRANSPORTATION SYSTEM (ATS)\":\"AIRPORT\",\"HALLWAY\":\"OTHER\",\n",
    "            \"VEHICLE - DELIVERY TRUCK\":\"VEHICLE\",\"AUTO / BOAT / RV DEALERSHIP\":\"BUSINESS\",\"CEMETARY\":\"PUBLIC BUILDING/GROUNDS\",\"GARAGE\":\"OTHER\",\n",
    "            \"CTA TRACKS - RIGHT OF WAY\":\"OTHER\",\"CHA PARKING LOT\":\"PUBLIC BUILDING/GROUNDS\",\"GAS STATION DRIVE/PROP.\":\"RETAIL OUTLET\",\n",
    "            \"CHA GROUNDS\":\"PUBLIC BUILDING/GROUNDS\",\"TAVERN\":\"BUSINESS\",\"BASEMENT\":\"RESIDENCE\",\"CHA HALLWAY\":\"RESIDENCE\",\"OFFICE\":\"BUSINESS\",\n",
    "            \"DRIVEWAY\":\"RESIDENCE\",\"VESTIBULE\":\"OTHER\",\"STAIRWELL\":\"OTHER\",\"HOTEL\":\"BUSINESS\",\"CLUB\":\"BUSINESS\",\"OFFICE\":\"BUSINESS\",\"BARBER SHOP/BEAUTY SALON\":\n",
    "            \"BUSINESS\",\"SCHOOL YARD\":\"SCHOOL\",\"RAILROAD PROPERTY\":\"PUBLIC BUILDING/GROUNDS\",\"PUBLIC GRAMMAR SCHOOL\":\"SCHOOL\",\"TRUCK\":\"VEHICLE\",\"TAXI CAB\":\n",
    "            \"VEHICLE\",\"DUMPSTER\":\"VEHICLE\",\"MOTEL\":\"BUSINESS\",\"CHA LOBBY\":\"PUBLIC BUILDING/GROUNDS\",\"CHA STAIRWELL\":\"PUBLIC BUILDING/GROUNDS\",\n",
    "            \"GARAGE/AUTO REPAIR\":\"BUSINESS\",\"LIQUOR STORE\":\"RETAIL OUTLET\",\"NURSING HOME\":\"HOSPITAL\",\"CTA PROPERTY\":\"PUBLIC BUILDING/GROUNDS\",\"TRAILER\":\"OTHER\",\n",
    "            \"YMCA\":\"OTHER\",\"LAKE\":\"OTHER\",\"VEHICLE-COMMERCIAL - TROLLEY BUS\":\"VEHICLE\",\"VEHICLE-COMMERCIAL - ENTERTAINMENT/PARTY BUS\":\"VEHICLE\",\"RIVER\":\"OTHER\",\n",
    "            \"KENNEL\":\"OTHER\",\"FUNERAL PARLOR\":\"BUSINESS\",\"BANQUET HALL\":\"OTHER\",\"ROOMING HOUSE\":\"OTHER\",\"LIVERY STAND OFFICE\":\"BUSINESS\",\n",
    "            \"LAUNDRY ROOM\":\"OTHER\",\"PRAIRIE\":\"OTHER\",\"RIVER BANK\":\"OTHER\",\"COACH HOUSE\":\"OTHER\",\"SEWER\":\"OTHER\",\"LAGOON\":\"OTHER\",\"CLEANERS/LAUNDROMAT\":\"BUSINESS\",\n",
    "            \"HORSE STABLE\":\"OTHER\",\"FACTORY\":\"BUSINESS\",\"CHA BREEZEWAY\":\"OTHER\",\"CHA ELEVATOR\":\"PUBLIC BUILDING/GROUNDS\",\"FARM\":\"OTHER\",\"ELEVATOR\":\"OTHER\",\n",
    "            \"POOLROOM\":\"OTHER\",\"WOODED AREA\":\"OTHER\",\"LOADING DOCK\":\"OTHER\",\"TRUCKING TERMINAL\":\"OTHER\",\"LIVERY AUTO\":\"BUSINESS\",\"CHURCH PROPERTY\":\"CHURCH\",\n",
    "            \"EXPRESSWAY EMBANKMENT\":\"STREET\",\"CHA PLAY LOT\":\"PUBLIC BUILDING/GROUNDS\",'CTA \"L\" PLATFORM':\"PUBLIC BUILDING/GROUNDS\",\"JUNK YARD/GARBAGE DUMP\":\n",
    "            \"OTHER\",\"COUNTY JAIL\":\"POLICE/FIRE STATION\",\"JAIL / LOCK-UP FACILITY\":\"POLICE/FIRE STATION\",\"POLICE BUILDING\":\"POLICE/FIRE STATION\",\n",
    "            \"NURSING HOME/RETIREMENT HOME\":\"HOSPITAL\", \"FIRE STATION\":\"POLICE/FIRE STATION\",\"OTHER RAILROAD PROP / TRAIN DEPOT\":\"PUBLIC BUILDING/GROUNDS\",\"AIPORT/AIRCRAFT\":\n",
    "            \"AIRPORT/AIRCRAFT\",\"AIRPORT\": \"AIRPORT/AIRCRAFT\",\"HOSPITAL\":\"PUBLIC BUILDING/GROUNDS\",\"CHURCH\":\"OTHER\",\"FEDERAL BUILDING\":\"PUBLIC BUILDING/GROUNDS\",\n",
    "            \"POLICE/FIRE STATION\":\"PUBLIC BUILDING/GROUNDS\",\"AIRPORT/AIRCRAFT\":\"PUBLIC BUILDING/GROUNDS\",\"PUBLIC BUILDING/GROUNDS\":\"PUBLIC BLDG\"                                        \n",
    "            })"
   ]
  },
  {
   "cell_type": "markdown",
   "metadata": {},
   "source": [
    "### Selección de variables"
   ]
  },
  {
   "cell_type": "markdown",
   "metadata": {},
   "source": [
    "Para seleccionar las variables optimas sera agruparlas en variables numericas y categoricas. Las variables categoricas son las que mas adelante se trasformaran"
   ]
  },
  {
   "cell_type": "code",
   "execution_count": 8,
   "metadata": {},
   "outputs": [],
   "source": [
    "# Seleccion de variables categoricas y numericas\n",
    "NUM_FEATURES = [\"District\", \"Ward\", \"Census Tracts\",\"Police Beats\"] \n",
    "CAT_FEATURES = [\"Primary Type\", \"Location Description\", \"Arrest\"]"
   ]
  },
  {
   "cell_type": "code",
   "execution_count": 9,
   "metadata": {},
   "outputs": [
    {
     "data": {
      "text/plain": [
       "District         float64\n",
       "Ward             float64\n",
       "Census Tracts    float64\n",
       "Police Beats     float64\n",
       "dtype: object"
      ]
     },
     "execution_count": 9,
     "metadata": {},
     "output_type": "execute_result"
    }
   ],
   "source": [
    "dataset[NUM_FEATURES].dtypes\n",
    "\n",
    "# Tipos de datos de las variables numericas"
   ]
  },
  {
   "cell_type": "code",
   "execution_count": 10,
   "metadata": {},
   "outputs": [
    {
     "data": {
      "text/plain": [
       "Primary Type            object\n",
       "Location Description    object\n",
       "Arrest                    bool\n",
       "dtype: object"
      ]
     },
     "execution_count": 10,
     "metadata": {},
     "output_type": "execute_result"
    }
   ],
   "source": [
    "dataset[CAT_FEATURES].dtypes\n",
    "\n",
    "#Tipos de datos de las variables categoricas"
   ]
  },
  {
   "cell_type": "code",
   "execution_count": 11,
   "metadata": {
    "scrolled": false
   },
   "outputs": [
    {
     "data": {
      "text/html": [
       "<div>\n",
       "<style scoped>\n",
       "    .dataframe tbody tr th:only-of-type {\n",
       "        vertical-align: middle;\n",
       "    }\n",
       "\n",
       "    .dataframe tbody tr th {\n",
       "        vertical-align: top;\n",
       "    }\n",
       "\n",
       "    .dataframe thead th {\n",
       "        text-align: right;\n",
       "    }\n",
       "</style>\n",
       "<table border=\"1\" class=\"dataframe\">\n",
       "  <thead>\n",
       "    <tr style=\"text-align: right;\">\n",
       "      <th></th>\n",
       "      <th>District</th>\n",
       "      <th>Ward</th>\n",
       "      <th>Census Tracts</th>\n",
       "      <th>Police Beats</th>\n",
       "      <th>Primary Type</th>\n",
       "      <th>Location Description</th>\n",
       "      <th>Arrest</th>\n",
       "    </tr>\n",
       "  </thead>\n",
       "  <tbody>\n",
       "    <tr>\n",
       "      <td>0</td>\n",
       "      <td>7.0</td>\n",
       "      <td>16.0</td>\n",
       "      <td>277.0</td>\n",
       "      <td>266.0</td>\n",
       "      <td>ASSAULT</td>\n",
       "      <td>RESIDENCE</td>\n",
       "      <td>True</td>\n",
       "    </tr>\n",
       "    <tr>\n",
       "      <td>1</td>\n",
       "      <td>18.0</td>\n",
       "      <td>2.0</td>\n",
       "      <td>17.0</td>\n",
       "      <td>198.0</td>\n",
       "      <td>ASSAULT</td>\n",
       "      <td>RESIDENCE</td>\n",
       "      <td>True</td>\n",
       "    </tr>\n",
       "    <tr>\n",
       "      <td>2</td>\n",
       "      <td>3.0</td>\n",
       "      <td>5.0</td>\n",
       "      <td>134.0</td>\n",
       "      <td>262.0</td>\n",
       "      <td>OTHER OFFENSES</td>\n",
       "      <td>PUBLIC BUILDING/GROUNDS</td>\n",
       "      <td>True</td>\n",
       "    </tr>\n",
       "    <tr>\n",
       "      <td>3</td>\n",
       "      <td>6.0</td>\n",
       "      <td>8.0</td>\n",
       "      <td>247.0</td>\n",
       "      <td>227.0</td>\n",
       "      <td>CRIMINAL DAMAGE</td>\n",
       "      <td>RESIDENCE</td>\n",
       "      <td>False</td>\n",
       "    </tr>\n",
       "    <tr>\n",
       "      <td>4</td>\n",
       "      <td>8.0</td>\n",
       "      <td>23.0</td>\n",
       "      <td>266.0</td>\n",
       "      <td>272.0</td>\n",
       "      <td>ASSAULT</td>\n",
       "      <td>RESIDENCE</td>\n",
       "      <td>False</td>\n",
       "    </tr>\n",
       "  </tbody>\n",
       "</table>\n",
       "</div>"
      ],
      "text/plain": [
       "   District  Ward  Census Tracts  Police Beats     Primary Type  \\\n",
       "0       7.0  16.0          277.0         266.0          ASSAULT   \n",
       "1      18.0   2.0           17.0         198.0          ASSAULT   \n",
       "2       3.0   5.0          134.0         262.0   OTHER OFFENSES   \n",
       "3       6.0   8.0          247.0         227.0  CRIMINAL DAMAGE   \n",
       "4       8.0  23.0          266.0         272.0          ASSAULT   \n",
       "\n",
       "      Location Description  Arrest  \n",
       "0                RESIDENCE    True  \n",
       "1                RESIDENCE    True  \n",
       "2  PUBLIC BUILDING/GROUNDS    True  \n",
       "3                RESIDENCE   False  \n",
       "4                RESIDENCE   False  "
      ]
     },
     "execution_count": 11,
     "metadata": {},
     "output_type": "execute_result"
    }
   ],
   "source": [
    "#Visualizan datos\n",
    "dataset_num=dataset.loc[:, NUM_FEATURES]\n",
    "dataset_cat=dataset.loc[:, CAT_FEATURES]\n",
    "dataset_crimen = pd.concat([dataset_num, dataset_cat], axis=1)\n",
    "dataset_crimen.head()"
   ]
  },
  {
   "cell_type": "markdown",
   "metadata": {},
   "source": [
    "Trasformación de variables"
   ]
  },
  {
   "cell_type": "markdown",
   "metadata": {},
   "source": [
    "Vamos a pasar a numérico las variables categóricas que tenemos: `CAT_FEATURES = [\"Primary Type\", \"Location Description\", \"Arrest\"]`\n",
    "\n",
    "La forma más utilizada para la transformación de variables categóricas a numéricas es utilizar one-hot-encoding. Esta transformación asigna únicamente 0 y 1 a las variables con diferentes registros, indicando 1 si la muestra se corresponde con el nivel y 0 en caso contrario. Utilizamos el comando: `get_dummies`. \n",
    "\n",
    "Es buena práctica, utilizar el comando `drop_first=True` porque de esta manera, eliminamos la primera columna de datos, que se da por evidente y evitamos de nuevo, aumentar la dimensionalidad del dataset.\n",
    "\n",
    "Pero en ciertos casos, cuando consideramos que una variable es muy importante para nuestro estudio, pero nos aumenta la dimensionalidad de nuestro modelo en exceso, ralentizando y empeorando la eficacia del modelo, evitamos hacer esta transofrmacion. En este caso para las dos primeras variables categóricas, hemos decidido darle un valor correspondiente al número de veces que se repite dicho valor. Es decir, si en la variable categórica `Primary Type` aparece el valor *THEFT & ROBBERY* 2 millones de veces repetido sobre un total de 6,5 millones de datos que tenemos, le daremos su valor porcentual "
   ]
  },
  {
   "cell_type": "code",
   "execution_count": 12,
   "metadata": {},
   "outputs": [
    {
     "data": {
      "text/plain": [
       "THEFT & ROBBERY    2203600\n",
       "ASSAULT            1570973\n",
       "CRIMINAL DAMAGE     905138\n",
       "OTHER OFFENSES      845195\n",
       "NARCOTICS           645058\n",
       "SEX CRIMES           82521\n",
       "Name: Primary Type, dtype: int64"
      ]
     },
     "execution_count": 12,
     "metadata": {},
     "output_type": "execute_result"
    }
   ],
   "source": [
    "# Comprobamos de nuevo la cantidad de valores que tiene el atributo Primary Type\n",
    "\n",
    "dataset_crimen['Primary Type'].value_counts()"
   ]
  },
  {
   "cell_type": "code",
   "execution_count": 13,
   "metadata": {},
   "outputs": [
    {
     "data": {
      "text/plain": [
       "(6252485, 7)"
      ]
     },
     "execution_count": 13,
     "metadata": {},
     "output_type": "execute_result"
    }
   ],
   "source": [
    "# Comprobamos cuantos datos totales tenemos\n",
    "\n",
    "dataset_crimen.shape"
   ]
  },
  {
   "cell_type": "code",
   "execution_count": 14,
   "metadata": {},
   "outputs": [],
   "source": [
    "# Realizamos la transformación de los datos\n",
    "\n",
    "dataset_crimen[\"Primary Type\"]=dataset_crimen[\"Primary Type\"].replace({\"THEFT & ROBBERY\":35.24, \"ASSAULT\":25.13, \"CRIMINAL DAMAGE\":14.48, \"OTHER OFFENSES\":13.52, \"NARCOTICS\":10.32, \"SEX CRIMES\":1.32})"
   ]
  },
  {
   "cell_type": "code",
   "execution_count": 15,
   "metadata": {},
   "outputs": [
    {
     "data": {
      "text/plain": [
       "STREET                     2391741\n",
       "RESIDENCE                  2090360\n",
       "PUBLIC BUILDING/GROUNDS     408717\n",
       "RETAIL OUTLET               407859\n",
       "BUSINESS                    290704\n",
       "OTHER                       249178\n",
       "SCHOOL                      181988\n",
       "VEHICLE                     142755\n",
       "HOSPITAL                     32395\n",
       "POLICE BUILDING              16378\n",
       "CHURCH                       13910\n",
       "FEDERAL BUILDING             12691\n",
       "AIRPORT                      11815\n",
       "POLICE/FIRE STATION           1994\n",
       "Name: Location Description, dtype: int64"
      ]
     },
     "execution_count": 15,
     "metadata": {},
     "output_type": "execute_result"
    }
   ],
   "source": [
    "dataset_crimen[\"Location Description\"].value_counts()"
   ]
  },
  {
   "cell_type": "code",
   "execution_count": 16,
   "metadata": {},
   "outputs": [],
   "source": [
    "# Realizamos la transformación de los datos\n",
    "\n",
    "dataset_crimen[\"Location Description\"]=dataset_crimen[\"Location Description\"].replace({\"STREET\":38.25, \"RESIDENCE\":33.43, \"PUBLIC BUILDING/GROUNDS\":6.54, \"RETAIL OUTLET\":6.52, \"BUSINESS\":4.65, \"OTHER\":3.99, \"SCHOOL\":2.91, \"VEHICLE\":2.28, \"HOSPITAL\":0.52, \"POLICE BUILDING\":0.26, \"CHURCH\":0.22, \"FEDERAL BUILDING\":0.20, \"AIRPORT\":0.19, \"POLICE/FIRE STATION\":0.03})"
   ]
  },
  {
   "cell_type": "code",
   "execution_count": 17,
   "metadata": {},
   "outputs": [],
   "source": [
    "# Vamos a guardar el atributo Arrest como variable para ejecutar el comando get_dummies\n",
    "\n",
    "CAT_FEATURES_Arrest = [\"Arrest\"]"
   ]
  },
  {
   "cell_type": "code",
   "execution_count": 18,
   "metadata": {},
   "outputs": [
    {
     "data": {
      "text/html": [
       "<div>\n",
       "<style scoped>\n",
       "    .dataframe tbody tr th:only-of-type {\n",
       "        vertical-align: middle;\n",
       "    }\n",
       "\n",
       "    .dataframe tbody tr th {\n",
       "        vertical-align: top;\n",
       "    }\n",
       "\n",
       "    .dataframe thead th {\n",
       "        text-align: right;\n",
       "    }\n",
       "</style>\n",
       "<table border=\"1\" class=\"dataframe\">\n",
       "  <thead>\n",
       "    <tr style=\"text-align: right;\">\n",
       "      <th></th>\n",
       "      <th>District</th>\n",
       "      <th>Ward</th>\n",
       "      <th>Census Tracts</th>\n",
       "      <th>Police Beats</th>\n",
       "      <th>Primary Type</th>\n",
       "      <th>Location Description</th>\n",
       "      <th>Arrest_True</th>\n",
       "    </tr>\n",
       "  </thead>\n",
       "  <tbody>\n",
       "    <tr>\n",
       "      <td>0</td>\n",
       "      <td>7.0</td>\n",
       "      <td>16.0</td>\n",
       "      <td>277.0</td>\n",
       "      <td>266.0</td>\n",
       "      <td>25.13</td>\n",
       "      <td>33.43</td>\n",
       "      <td>1</td>\n",
       "    </tr>\n",
       "    <tr>\n",
       "      <td>1</td>\n",
       "      <td>18.0</td>\n",
       "      <td>2.0</td>\n",
       "      <td>17.0</td>\n",
       "      <td>198.0</td>\n",
       "      <td>25.13</td>\n",
       "      <td>33.43</td>\n",
       "      <td>1</td>\n",
       "    </tr>\n",
       "    <tr>\n",
       "      <td>2</td>\n",
       "      <td>3.0</td>\n",
       "      <td>5.0</td>\n",
       "      <td>134.0</td>\n",
       "      <td>262.0</td>\n",
       "      <td>13.52</td>\n",
       "      <td>6.54</td>\n",
       "      <td>1</td>\n",
       "    </tr>\n",
       "    <tr>\n",
       "      <td>3</td>\n",
       "      <td>6.0</td>\n",
       "      <td>8.0</td>\n",
       "      <td>247.0</td>\n",
       "      <td>227.0</td>\n",
       "      <td>14.48</td>\n",
       "      <td>33.43</td>\n",
       "      <td>0</td>\n",
       "    </tr>\n",
       "    <tr>\n",
       "      <td>4</td>\n",
       "      <td>8.0</td>\n",
       "      <td>23.0</td>\n",
       "      <td>266.0</td>\n",
       "      <td>272.0</td>\n",
       "      <td>25.13</td>\n",
       "      <td>33.43</td>\n",
       "      <td>0</td>\n",
       "    </tr>\n",
       "  </tbody>\n",
       "</table>\n",
       "</div>"
      ],
      "text/plain": [
       "   District  Ward  Census Tracts  Police Beats  Primary Type  \\\n",
       "0       7.0  16.0          277.0         266.0         25.13   \n",
       "1      18.0   2.0           17.0         198.0         25.13   \n",
       "2       3.0   5.0          134.0         262.0         13.52   \n",
       "3       6.0   8.0          247.0         227.0         14.48   \n",
       "4       8.0  23.0          266.0         272.0         25.13   \n",
       "\n",
       "   Location Description  Arrest_True  \n",
       "0                 33.43            1  \n",
       "1                 33.43            1  \n",
       "2                  6.54            1  \n",
       "3                 33.43            0  \n",
       "4                 33.43            0  "
      ]
     },
     "execution_count": 18,
     "metadata": {},
     "output_type": "execute_result"
    }
   ],
   "source": [
    "# Se trasforman las variables categoricas a numericas mediante el \"dummies\"\n",
    "\n",
    "crimen_df = pd.get_dummies(dataset_crimen, columns = CAT_FEATURES_Arrest, drop_first=True)\n",
    "crimen_df.head()"
   ]
  },
  {
   "cell_type": "code",
   "execution_count": 19,
   "metadata": {},
   "outputs": [
    {
     "data": {
      "text/plain": [
       "Index(['District', 'Ward', 'Census Tracts', 'Police Beats', 'Primary Type',\n",
       "       'Location Description', 'Arrest_True'],\n",
       "      dtype='object')"
      ]
     },
     "execution_count": 19,
     "metadata": {},
     "output_type": "execute_result"
    }
   ],
   "source": [
    "crimen_df.columns \n",
    "\n",
    "# Muestra las columnas con las que cuenta el dataset un vez trasformados los datos"
   ]
  },
  {
   "cell_type": "code",
   "execution_count": 20,
   "metadata": {},
   "outputs": [
    {
     "data": {
      "text/plain": [
       "District                0.0\n",
       "Ward                    0.0\n",
       "Census Tracts           0.0\n",
       "Police Beats            0.0\n",
       "Primary Type            0.0\n",
       "Location Description    0.0\n",
       "Arrest_True             0.0\n",
       "dtype: float64"
      ]
     },
     "execution_count": 20,
     "metadata": {},
     "output_type": "execute_result"
    }
   ],
   "source": [
    "# Comprobamos que hemos eliminado las filas con valores nulos en la limpieza de variables\n",
    "\n",
    "np.round((crimen_df.isnull().sum()/crimen_df.shape[0])*100, 2)"
   ]
  },
  {
   "cell_type": "markdown",
   "metadata": {},
   "source": [
    "***PARA LA REALIZACIÓN DE LOS MODELOS DE CLASIFICACIÓN, HEMOS TENIDO QUE COGER UNA MUESTRA DE NUESTRO DATASET, DEBIDO A QUE NOSOTROS CARECEMOS DE LOS RECURSOS NECESARIOS PARA UN TRATAMIENTO FLUIDO DE LOS DATOS Y SU POSTERIOR ANÁLISIS.***"
   ]
  },
  {
   "cell_type": "code",
   "execution_count": 24,
   "metadata": {},
   "outputs": [],
   "source": [
    "crimen_sample=crimen_df.sample(100000)"
   ]
  },
  {
   "cell_type": "code",
   "execution_count": 25,
   "metadata": {
    "scrolled": true
   },
   "outputs": [
    {
     "data": {
      "text/plain": [
       "(100000, 7)"
      ]
     },
     "execution_count": 25,
     "metadata": {},
     "output_type": "execute_result"
    }
   ],
   "source": [
    "crimen_sample.shape"
   ]
  },
  {
   "cell_type": "markdown",
   "metadata": {},
   "source": [
    "Dividiremos la muestra en un 75% entrenamiento y 25% test. "
   ]
  },
  {
   "cell_type": "code",
   "execution_count": 26,
   "metadata": {},
   "outputs": [],
   "source": [
    "X = crimen_sample.drop(\"District\", axis = 1)\n",
    "variables = X.columns\n",
    "X = X.values\n",
    "\n",
    "y = crimen_sample[\"District\"]\n",
    "\n",
    "X_train, X_test, y_train, y_test = train_test_split(\n",
    "    X, y, random_state=0, test_size=0.25, stratify=y)"
   ]
  },
  {
   "cell_type": "code",
   "execution_count": 108,
   "metadata": {},
   "outputs": [
    {
     "data": {
      "text/plain": [
       "(100000, 6)"
      ]
     },
     "execution_count": 108,
     "metadata": {},
     "output_type": "execute_result"
    }
   ],
   "source": [
    "X.shape"
   ]
  },
  {
   "cell_type": "code",
   "execution_count": 109,
   "metadata": {},
   "outputs": [
    {
     "data": {
      "text/plain": [
       "(100000,)"
      ]
     },
     "execution_count": 109,
     "metadata": {},
     "output_type": "execute_result"
    }
   ],
   "source": [
    "y.shape"
   ]
  },
  {
   "cell_type": "markdown",
   "metadata": {},
   "source": [
    "## Regresión Lineal"
   ]
  },
  {
   "cell_type": "code",
   "execution_count": 110,
   "metadata": {},
   "outputs": [],
   "source": [
    "Xrl_train=X_train\n",
    "yrl_train=y_train\n",
    "Xrl_test=X_test\n",
    "yrl_test=y_test\n",
    "variables_rl = variables"
   ]
  },
  {
   "cell_type": "code",
   "execution_count": 111,
   "metadata": {},
   "outputs": [],
   "source": [
    "# Importamos el modelo de Regresión Lineal y las métricas que vamos a utilizar\n",
    "\n",
    "from sklearn.linear_model import LinearRegression\n",
    "from sklearn.metrics import mean_squared_error, mean_absolute_error, r2_score\n",
    "\n",
    "linear_regressor = LinearRegression(fit_intercept = True, normalize = False)"
   ]
  },
  {
   "cell_type": "code",
   "execution_count": 112,
   "metadata": {},
   "outputs": [],
   "source": [
    "# Entrenamos y obtenemos las predicciones del modelo:\n",
    "\n",
    "lr = LinearRegression(normalize = True)\n",
    "\n",
    "lr.fit(Xrl_train, yrl_train)\n",
    "\n",
    "y_hat_train = lr.predict(Xrl_train)\n",
    "\n",
    "y_hat_test = lr.predict(Xrl_test)"
   ]
  },
  {
   "cell_type": "code",
   "execution_count": 113,
   "metadata": {},
   "outputs": [
    {
     "name": "stdout",
     "output_type": "stream",
     "text": [
      "MSE train: 25.3297 test: 25.3156\n",
      "R2 train: 0.4736 test: 0.4740\n",
      "MAE train: 3.4401 test: 3.4420\n"
     ]
    }
   ],
   "source": [
    "# Calculamos las tres métricas para el set de entrenamiento y test y las mostramos en pantalla\n",
    "\n",
    "mse_train = mean_squared_error(yrl_train, y_hat_train)\n",
    "mse_test = mean_squared_error(yrl_test, y_hat_test)\n",
    "\n",
    "r2_train = r2_score(yrl_train, y_hat_train)\n",
    "r2_test = r2_score(yrl_test, y_hat_test)\n",
    "\n",
    "mae_train = mean_absolute_error(yrl_train, y_hat_train)\n",
    "mae_test = mean_absolute_error(yrl_test, y_hat_test)\n",
    "\n",
    "print(f\"MSE train: {mse_train:.4f} test: {mse_test:.4f}\")\n",
    "print(f\"R2 train: {r2_train:.4f} test: {r2_test:.4f}\")\n",
    "print(f\"MAE train: {mae_train:.4f} test: {mae_test:.4f}\")"
   ]
  },
  {
   "cell_type": "code",
   "execution_count": 160,
   "metadata": {
    "scrolled": true
   },
   "outputs": [
    {
     "data": {
      "image/png": "[encoded data removed]",
      "text/plain": [
       "<Figure size 1440x432 with 2 Axes>"
      ]
     },
     "metadata": {},
     "output_type": "display_data"
    }
   ],
   "source": [
    "# Generamos el gráfico de dispersión y veremos si el set de entrenamiento lo hace mejor que el set de test \n",
    "\n",
    "fig, (ax1, ax2) = plt.subplots(1, 2, figsize = (20, 6))\n",
    "\n",
    "ax1.set_title(\"Dataset entrenamiento\")\n",
    "ax2.set_title(\"Dataset validación\")\n",
    "for ax in (ax1, ax2):\n",
    "    ax.set_ylabel(\"Predicción\")\n",
    "    ax.set_xlabel(\"Distritos\")\n",
    "    ax.plot(np.linspace(0, 32), np.linspace(0, 50), \"r--\")\n",
    "\n",
    "ax1.scatter(y_train, y_hat_train)\n",
    "ax2.scatter(y_test, y_hat_test)\n",
    "\n",
    "plt.show()"
   ]
  },
  {
   "cell_type": "markdown",
   "metadata": {},
   "source": [
    "### Modelado | Gradient Boosting"
   ]
  },
  {
   "cell_type": "code",
   "execution_count": 116,
   "metadata": {},
   "outputs": [],
   "source": [
    "from sklearn.ensemble import GradientBoostingClassifier\n",
    "\n",
    "Xgb_train=X_train\n",
    "ygb_train=y_train\n",
    "Xgb_test=X_test\n",
    "ygb_test=y_test\n",
    "variables_gb = variables\n",
    "\n",
    "list_estimators = (10, 20, 30)\n",
    "\n",
    "for n_estimators in list_estimators:\n",
    "  gb = GradientBoostingClassifier(\n",
    "      n_estimators=n_estimators,\n",
    "      random_state = 0\n",
    "  )\n",
    "  gb.fit(Xgb_train, ygb_train)"
   ]
  },
  {
   "cell_type": "code",
   "execution_count": 117,
   "metadata": {
    "scrolled": true
   },
   "outputs": [
    {
     "name": "stdout",
     "output_type": "stream",
     "text": [
      "Ward: 0.46\n",
      "Census Tracts: 0.10\n",
      "Police Beats: 0.45\n",
      "Primary Type: 0.00\n",
      "Location Description: 0.00\n",
      "Arrest_True: 0.00\n"
     ]
    }
   ],
   "source": [
    "for name, importance in zip(variables_gb, gb.feature_importances_):\n",
    "  print(f\"{name}: {importance:.2f}\")"
   ]
  },
  {
   "cell_type": "code",
   "execution_count": 118,
   "metadata": {},
   "outputs": [
    {
     "name": "stdout",
     "output_type": "stream",
     "text": [
      "Precisión Gradient Boosting train/test  0.969/0.967\n"
     ]
    }
   ],
   "source": [
    "print('Precisión Gradient Boosting train/test  {0:.3f}/{1:.3f}'\n",
    "      .format(gb.score(Xgb_train, ygb_train), gb.score(Xgb_test, ygb_test)))"
   ]
  },
  {
   "cell_type": "code",
   "execution_count": 119,
   "metadata": {},
   "outputs": [
    {
     "data": {
      "image/png": "[encoded data removed]",
      "text/plain": [
       "<Figure size 576x396 with 1 Axes>"
      ]
     },
     "metadata": {},
     "output_type": "display_data"
    }
   ],
   "source": [
    "# Mostramos la importancia de cada atributo\n",
    "n_atributos = 6\n",
    "plt.barh(range(n_atributos), gb.feature_importances_, align='center')\n",
    "plt.yticks(np.arange(n_atributos), variables_gb)\n",
    "plt.xlabel(\"Importancia de atributo\")\n",
    "plt.ylabel(\"Atributo\")\n",
    "plt.show();"
   ]
  },
  {
   "cell_type": "markdown",
   "metadata": {},
   "source": [
    "### Backward Elimination - Stepwise"
   ]
  },
  {
   "cell_type": "markdown",
   "metadata": {},
   "source": [
    "Stepwise es una familia de métodos para la selección de características de forma iterativa. Una vez que eliminamos las variables, se comprueba la calidad de los modelos y se selecciona el mejor, en caso de que sea el original, el proceso termina, en caso de que sea otro, el proceso vuelve a comenzar.\n",
    "\n",
    "- Backward elimination: lo que implica comenzar con todas las variables, comprobamos que pasa si eliminamos una característica utilizando un criterio para comparar el nuevo modelo con el anterior. \n",
    "\n",
    "Si al eliminar una variable en cada paso se mejora el modelo, se repetie este proceso hasta que al eliminar una variable no mejore el modelo."
   ]
  },
  {
   "cell_type": "code",
   "execution_count": 120,
   "metadata": {},
   "outputs": [],
   "source": [
    "from sklearn.linear_model import LogisticRegression\n",
    "from sklearn.feature_selection import RFECV\n",
    "\n",
    "rfe_feature_selector = RFECV(\n",
    "    LogisticRegression(solver=\"liblinear\"),\n",
    "    cv = 5,\n",
    "    scoring = \"neg_log_loss\", \n",
    "    n_jobs=-1,\n",
    ").fit(Xgb_train, ygb_train)"
   ]
  },
  {
   "cell_type": "code",
   "execution_count": 121,
   "metadata": {},
   "outputs": [
    {
     "data": {
      "image/png": "[encoded data removed]",
      "text/plain": [
       "<Figure size 720x432 with 1 Axes>"
      ]
     },
     "metadata": {},
     "output_type": "display_data"
    },
    {
     "name": "stdout",
     "output_type": "stream",
     "text": [
      "Variables a eliminar:\n"
     ]
    }
   ],
   "source": [
    "fig, ax = plt.subplots(figsize=(10, 6))\n",
    "ax.set_ylabel(\"neg_log_loss\")\n",
    "ax.set_xlabel(\"Nº de variables\")\n",
    "ax.plot(\n",
    "    [i + 1 for i in range(Xgb_train.shape[1])],\n",
    "    rfe_feature_selector.grid_scores_\n",
    ")\n",
    "plt.show()\n",
    "\n",
    "print(\"Variables a eliminar:\")\n",
    "for feature in variables_gb[~rfe_feature_selector.support_]:\n",
    "  print(f\"\\t{feature}\")"
   ]
  },
  {
   "cell_type": "code",
   "execution_count": 122,
   "metadata": {},
   "outputs": [],
   "source": [
    "# En este caso, el modelo nos dice que no debemos eliminar ninguna variable\n",
    "# En caso de tener que eliminar alguna variable, utilizariamos el siguiente código\n",
    "\n",
    "# Xgb_train = rfe_feature_selector.transform(Xgb_train)\n",
    "# variables_gb = variables_gb[rfe_feature_selector.support_]"
   ]
  },
  {
   "cell_type": "markdown",
   "metadata": {},
   "source": [
    "## Optimización de hiperparámetros"
   ]
  },
  {
   "cell_type": "markdown",
   "metadata": {},
   "source": [
    "Importamos la funcion extract_results para ver los resultados estadísticos (media y varianza) de la muestra, tanto en el set de entrenamiento como en el set de test de la optimización con el modelo GridSearch. "
   ]
  },
  {
   "cell_type": "code",
   "execution_count": 123,
   "metadata": {},
   "outputs": [],
   "source": [
    "def extract_results(search_estimator):\n",
    "  \"\"\" Extrae los resultados de un optimizador de hiperparámetros.\n",
    "  Args:\n",
    "    search_estimator (object): GridSearchCV o RandomizedSearchCV ya entrenado.\n",
    "  Returns:\n",
    "    pd.DataFrame con los resultados sumarizados.\n",
    "  \"\"\"\n",
    "  models = pd.DataFrame(search_estimator.cv_results_['params'])\n",
    "  results = []\n",
    "  for i in range(search_estimator.cv):\n",
    "    partial = models.copy()\n",
    "    partial[\"split\"] = i\n",
    "    partial[\"train_score\"] = search_estimator.cv_results_[f'split{i}_train_score']\n",
    "    partial[\"test_score\"] = search_estimator.cv_results_[f'split{i}_test_score']\n",
    "    results.append(partial)\n",
    "  results = pd.concat(results, axis = 0)\n",
    "  return results.groupby(list(models.columns)).agg({\n",
    "      \"train_score\": [\"mean\", \"var\"], \"test_score\": [\"mean\", \"var\"]})"
   ]
  },
  {
   "cell_type": "code",
   "execution_count": 124,
   "metadata": {},
   "outputs": [
    {
     "name": "stdout",
     "output_type": "stream",
     "text": [
      "Fitting 5 folds for each of 27 candidates, totalling 135 fits\n"
     ]
    },
    {
     "name": "stderr",
     "output_type": "stream",
     "text": [
      "[Parallel(n_jobs=-1)]: Using backend LokyBackend with 8 concurrent workers.\n",
      "[Parallel(n_jobs=-1)]: Done  34 tasks      | elapsed:  8.7min\n",
      "[Parallel(n_jobs=-1)]: Done 135 out of 135 | elapsed: 32.6min finished\n"
     ]
    }
   ],
   "source": [
    "from sklearn.model_selection import GridSearchCV\n",
    "\n",
    "np.random.seed(0)\n",
    "\n",
    "param_grid = {\n",
    "    \"n_estimators\": [10, 20, 30],\n",
    "    \"min_samples_split\": [2, 30, 60],\n",
    "    \"subsample\": [1.0, 0.8, 0.6]\n",
    "}\n",
    "\n",
    "grid_search = GridSearchCV(\n",
    "    GradientBoostingClassifier(),\n",
    "    param_grid = param_grid,\n",
    "    cv = 5,\n",
    "    verbose = 1,\n",
    "    return_train_score = True,\n",
    "    scoring = \"neg_log_loss\",\n",
    "    n_jobs=-1\n",
    ").fit(Xgb_train, ygb_train)"
   ]
  },
  {
   "cell_type": "code",
   "execution_count": 125,
   "metadata": {},
   "outputs": [
    {
     "data": {
      "text/html": [
       "<div>\n",
       "<style scoped>\n",
       "    .dataframe tbody tr th:only-of-type {\n",
       "        vertical-align: middle;\n",
       "    }\n",
       "\n",
       "    .dataframe tbody tr th {\n",
       "        vertical-align: top;\n",
       "    }\n",
       "\n",
       "    .dataframe thead tr th {\n",
       "        text-align: left;\n",
       "    }\n",
       "\n",
       "    .dataframe thead tr:last-of-type th {\n",
       "        text-align: right;\n",
       "    }\n",
       "</style>\n",
       "<table border=\"1\" class=\"dataframe\">\n",
       "  <thead>\n",
       "    <tr>\n",
       "      <th></th>\n",
       "      <th></th>\n",
       "      <th></th>\n",
       "      <th colspan=\"2\" halign=\"left\">train_score</th>\n",
       "      <th colspan=\"2\" halign=\"left\">test_score</th>\n",
       "    </tr>\n",
       "    <tr>\n",
       "      <th></th>\n",
       "      <th></th>\n",
       "      <th></th>\n",
       "      <th>mean</th>\n",
       "      <th>var</th>\n",
       "      <th>mean</th>\n",
       "      <th>var</th>\n",
       "    </tr>\n",
       "    <tr>\n",
       "      <th>min_samples_split</th>\n",
       "      <th>n_estimators</th>\n",
       "      <th>subsample</th>\n",
       "      <th></th>\n",
       "      <th></th>\n",
       "      <th></th>\n",
       "      <th></th>\n",
       "    </tr>\n",
       "  </thead>\n",
       "  <tbody>\n",
       "    <tr>\n",
       "      <td rowspan=\"9\" valign=\"top\">2</td>\n",
       "      <td rowspan=\"3\" valign=\"top\">10</td>\n",
       "      <td>0.6</td>\n",
       "      <td>-0.772360</td>\n",
       "      <td>2.129152e-05</td>\n",
       "      <td>-0.774950</td>\n",
       "      <td>0.000049</td>\n",
       "    </tr>\n",
       "    <tr>\n",
       "      <td>0.8</td>\n",
       "      <td>-0.775900</td>\n",
       "      <td>5.411376e-05</td>\n",
       "      <td>-0.778356</td>\n",
       "      <td>0.000116</td>\n",
       "    </tr>\n",
       "    <tr>\n",
       "      <td>1.0</td>\n",
       "      <td>-0.774650</td>\n",
       "      <td>3.129466e-05</td>\n",
       "      <td>-0.777314</td>\n",
       "      <td>0.000080</td>\n",
       "    </tr>\n",
       "    <tr>\n",
       "      <td rowspan=\"3\" valign=\"top\">20</td>\n",
       "      <td>0.6</td>\n",
       "      <td>-0.386429</td>\n",
       "      <td>1.523551e-05</td>\n",
       "      <td>-0.388928</td>\n",
       "      <td>0.000053</td>\n",
       "    </tr>\n",
       "    <tr>\n",
       "      <td>0.8</td>\n",
       "      <td>-0.389512</td>\n",
       "      <td>1.399792e-05</td>\n",
       "      <td>-0.392656</td>\n",
       "      <td>0.000016</td>\n",
       "    </tr>\n",
       "    <tr>\n",
       "      <td>1.0</td>\n",
       "      <td>-0.387846</td>\n",
       "      <td>9.863214e-06</td>\n",
       "      <td>-0.390426</td>\n",
       "      <td>0.000045</td>\n",
       "    </tr>\n",
       "    <tr>\n",
       "      <td rowspan=\"3\" valign=\"top\">30</td>\n",
       "      <td>0.6</td>\n",
       "      <td>-0.235459</td>\n",
       "      <td>4.927588e-07</td>\n",
       "      <td>-0.237924</td>\n",
       "      <td>0.000032</td>\n",
       "    </tr>\n",
       "    <tr>\n",
       "      <td>0.8</td>\n",
       "      <td>-0.234921</td>\n",
       "      <td>8.609832e-06</td>\n",
       "      <td>-0.237788</td>\n",
       "      <td>0.000019</td>\n",
       "    </tr>\n",
       "    <tr>\n",
       "      <td>1.0</td>\n",
       "      <td>-0.234942</td>\n",
       "      <td>5.915417e-06</td>\n",
       "      <td>-0.237674</td>\n",
       "      <td>0.000007</td>\n",
       "    </tr>\n",
       "    <tr>\n",
       "      <td rowspan=\"9\" valign=\"top\">30</td>\n",
       "      <td rowspan=\"3\" valign=\"top\">10</td>\n",
       "      <td>0.6</td>\n",
       "      <td>-0.776555</td>\n",
       "      <td>5.591724e-05</td>\n",
       "      <td>-0.779671</td>\n",
       "      <td>0.000316</td>\n",
       "    </tr>\n",
       "    <tr>\n",
       "      <td>0.8</td>\n",
       "      <td>-0.773907</td>\n",
       "      <td>1.664504e-05</td>\n",
       "      <td>-0.775598</td>\n",
       "      <td>0.000090</td>\n",
       "    </tr>\n",
       "    <tr>\n",
       "      <td>1.0</td>\n",
       "      <td>-0.774653</td>\n",
       "      <td>3.124873e-05</td>\n",
       "      <td>-0.777316</td>\n",
       "      <td>0.000080</td>\n",
       "    </tr>\n",
       "    <tr>\n",
       "      <td rowspan=\"3\" valign=\"top\">20</td>\n",
       "      <td>0.6</td>\n",
       "      <td>-0.386278</td>\n",
       "      <td>1.073070e-05</td>\n",
       "      <td>-0.389521</td>\n",
       "      <td>0.000037</td>\n",
       "    </tr>\n",
       "    <tr>\n",
       "      <td>0.8</td>\n",
       "      <td>-0.387920</td>\n",
       "      <td>1.314582e-05</td>\n",
       "      <td>-0.390717</td>\n",
       "      <td>0.000042</td>\n",
       "    </tr>\n",
       "    <tr>\n",
       "      <td>1.0</td>\n",
       "      <td>-0.387867</td>\n",
       "      <td>9.872712e-06</td>\n",
       "      <td>-0.390461</td>\n",
       "      <td>0.000045</td>\n",
       "    </tr>\n",
       "    <tr>\n",
       "      <td rowspan=\"3\" valign=\"top\">30</td>\n",
       "      <td>0.6</td>\n",
       "      <td>-0.233449</td>\n",
       "      <td>7.024816e-06</td>\n",
       "      <td>-0.236491</td>\n",
       "      <td>0.000017</td>\n",
       "    </tr>\n",
       "    <tr>\n",
       "      <td>0.8</td>\n",
       "      <td>-0.232745</td>\n",
       "      <td>9.748165e-06</td>\n",
       "      <td>-0.235458</td>\n",
       "      <td>0.000005</td>\n",
       "    </tr>\n",
       "    <tr>\n",
       "      <td>1.0</td>\n",
       "      <td>-0.234665</td>\n",
       "      <td>3.311134e-06</td>\n",
       "      <td>-0.237385</td>\n",
       "      <td>0.000012</td>\n",
       "    </tr>\n",
       "    <tr>\n",
       "      <td rowspan=\"9\" valign=\"top\">60</td>\n",
       "      <td rowspan=\"3\" valign=\"top\">10</td>\n",
       "      <td>0.6</td>\n",
       "      <td>-0.774349</td>\n",
       "      <td>1.387322e-05</td>\n",
       "      <td>-0.777079</td>\n",
       "      <td>0.000172</td>\n",
       "    </tr>\n",
       "    <tr>\n",
       "      <td>0.8</td>\n",
       "      <td>-0.777528</td>\n",
       "      <td>7.521670e-05</td>\n",
       "      <td>-0.779979</td>\n",
       "      <td>0.000083</td>\n",
       "    </tr>\n",
       "    <tr>\n",
       "      <td>1.0</td>\n",
       "      <td>-0.774653</td>\n",
       "      <td>3.124873e-05</td>\n",
       "      <td>-0.777316</td>\n",
       "      <td>0.000080</td>\n",
       "    </tr>\n",
       "    <tr>\n",
       "      <td rowspan=\"3\" valign=\"top\">20</td>\n",
       "      <td>0.6</td>\n",
       "      <td>-0.386877</td>\n",
       "      <td>1.643288e-05</td>\n",
       "      <td>-0.389611</td>\n",
       "      <td>0.000124</td>\n",
       "    </tr>\n",
       "    <tr>\n",
       "      <td>0.8</td>\n",
       "      <td>-0.392893</td>\n",
       "      <td>1.152277e-05</td>\n",
       "      <td>-0.395765</td>\n",
       "      <td>0.000090</td>\n",
       "    </tr>\n",
       "    <tr>\n",
       "      <td>1.0</td>\n",
       "      <td>-0.387867</td>\n",
       "      <td>9.874445e-06</td>\n",
       "      <td>-0.390461</td>\n",
       "      <td>0.000045</td>\n",
       "    </tr>\n",
       "    <tr>\n",
       "      <td rowspan=\"3\" valign=\"top\">30</td>\n",
       "      <td>0.6</td>\n",
       "      <td>-0.234730</td>\n",
       "      <td>2.518064e-06</td>\n",
       "      <td>-0.237941</td>\n",
       "      <td>0.000019</td>\n",
       "    </tr>\n",
       "    <tr>\n",
       "      <td>0.8</td>\n",
       "      <td>-0.233251</td>\n",
       "      <td>3.647664e-06</td>\n",
       "      <td>-0.235821</td>\n",
       "      <td>0.000022</td>\n",
       "    </tr>\n",
       "    <tr>\n",
       "      <td>1.0</td>\n",
       "      <td>-0.234717</td>\n",
       "      <td>3.278500e-06</td>\n",
       "      <td>-0.237439</td>\n",
       "      <td>0.000012</td>\n",
       "    </tr>\n",
       "  </tbody>\n",
       "</table>\n",
       "</div>"
      ],
      "text/plain": [
       "                                         train_score               test_score  \\\n",
       "                                                mean           var       mean   \n",
       "min_samples_split n_estimators subsample                                        \n",
       "2                 10           0.6         -0.772360  2.129152e-05  -0.774950   \n",
       "                               0.8         -0.775900  5.411376e-05  -0.778356   \n",
       "                               1.0         -0.774650  3.129466e-05  -0.777314   \n",
       "                  20           0.6         -0.386429  1.523551e-05  -0.388928   \n",
       "                               0.8         -0.389512  1.399792e-05  -0.392656   \n",
       "                               1.0         -0.387846  9.863214e-06  -0.390426   \n",
       "                  30           0.6         -0.235459  4.927588e-07  -0.237924   \n",
       "                               0.8         -0.234921  8.609832e-06  -0.237788   \n",
       "                               1.0         -0.234942  5.915417e-06  -0.237674   \n",
       "30                10           0.6         -0.776555  5.591724e-05  -0.779671   \n",
       "                               0.8         -0.773907  1.664504e-05  -0.775598   \n",
       "                               1.0         -0.774653  3.124873e-05  -0.777316   \n",
       "                  20           0.6         -0.386278  1.073070e-05  -0.389521   \n",
       "                               0.8         -0.387920  1.314582e-05  -0.390717   \n",
       "                               1.0         -0.387867  9.872712e-06  -0.390461   \n",
       "                  30           0.6         -0.233449  7.024816e-06  -0.236491   \n",
       "                               0.8         -0.232745  9.748165e-06  -0.235458   \n",
       "                               1.0         -0.234665  3.311134e-06  -0.237385   \n",
       "60                10           0.6         -0.774349  1.387322e-05  -0.777079   \n",
       "                               0.8         -0.777528  7.521670e-05  -0.779979   \n",
       "                               1.0         -0.774653  3.124873e-05  -0.777316   \n",
       "                  20           0.6         -0.386877  1.643288e-05  -0.389611   \n",
       "                               0.8         -0.392893  1.152277e-05  -0.395765   \n",
       "                               1.0         -0.387867  9.874445e-06  -0.390461   \n",
       "                  30           0.6         -0.234730  2.518064e-06  -0.237941   \n",
       "                               0.8         -0.233251  3.647664e-06  -0.235821   \n",
       "                               1.0         -0.234717  3.278500e-06  -0.237439   \n",
       "\n",
       "                                                    \n",
       "                                               var  \n",
       "min_samples_split n_estimators subsample            \n",
       "2                 10           0.6        0.000049  \n",
       "                               0.8        0.000116  \n",
       "                               1.0        0.000080  \n",
       "                  20           0.6        0.000053  \n",
       "                               0.8        0.000016  \n",
       "                               1.0        0.000045  \n",
       "                  30           0.6        0.000032  \n",
       "                               0.8        0.000019  \n",
       "                               1.0        0.000007  \n",
       "30                10           0.6        0.000316  \n",
       "                               0.8        0.000090  \n",
       "                               1.0        0.000080  \n",
       "                  20           0.6        0.000037  \n",
       "                               0.8        0.000042  \n",
       "                               1.0        0.000045  \n",
       "                  30           0.6        0.000017  \n",
       "                               0.8        0.000005  \n",
       "                               1.0        0.000012  \n",
       "60                10           0.6        0.000172  \n",
       "                               0.8        0.000083  \n",
       "                               1.0        0.000080  \n",
       "                  20           0.6        0.000124  \n",
       "                               0.8        0.000090  \n",
       "                               1.0        0.000045  \n",
       "                  30           0.6        0.000019  \n",
       "                               0.8        0.000022  \n",
       "                               1.0        0.000012  "
      ]
     },
     "execution_count": 125,
     "metadata": {},
     "output_type": "execute_result"
    }
   ],
   "source": [
    "extract_results(grid_search)"
   ]
  },
  {
   "cell_type": "code",
   "execution_count": 126,
   "metadata": {},
   "outputs": [
    {
     "name": "stdout",
     "output_type": "stream",
     "text": [
      "Mejores parámetros: {'min_samples_split': 30, 'n_estimators': 30, 'subsample': 0.8}\n",
      "Mejor resultado: -0.235\n"
     ]
    }
   ],
   "source": [
    "print(f\"Mejores parámetros: {grid_search.best_params_}\")\n",
    "print(f\"Mejor resultado: {grid_search.best_score_:.3f}\")"
   ]
  },
  {
   "cell_type": "markdown",
   "metadata": {},
   "source": [
    "## Evaluación final del Gradient Boosting"
   ]
  },
  {
   "cell_type": "code",
   "execution_count": 127,
   "metadata": {},
   "outputs": [],
   "source": [
    "from sklearn.pipeline import Pipeline\n",
    "from sklearn.metrics import log_loss\n",
    "\n",
    "pipeline = Pipeline([\n",
    "  (\"rfe\", rfe_feature_selector),\n",
    "  (\"estimator\", grid_search)                      \n",
    "])"
   ]
  },
  {
   "cell_type": "code",
   "execution_count": 128,
   "metadata": {},
   "outputs": [
    {
     "name": "stdout",
     "output_type": "stream",
     "text": [
      "Log loss test: 0.239\n"
     ]
    }
   ],
   "source": [
    "ygb_test_pred = pipeline.predict_proba(Xgb_test)\n",
    "print(f\"Log loss test: {log_loss(ygb_test, ygb_test_pred):.3f}\")"
   ]
  },
  {
   "cell_type": "markdown",
   "metadata": {},
   "source": [
    "## Random Forest"
   ]
  },
  {
   "cell_type": "code",
   "execution_count": 27,
   "metadata": {},
   "outputs": [],
   "source": [
    "Xrf_train=X_train\n",
    "yrf_train=y_train\n",
    "Xrf_test=X_test\n",
    "yrf_test=y_test\n",
    "variables_rf = variables\n",
    "\n",
    "list_estimators = (1, 50, 100)\n",
    "\n",
    "for n_estimators in list_estimators:\n",
    "  rf = RandomForestClassifier(\n",
    "      n_estimators=n_estimators,\n",
    "      max_depth=50,\n",
    "      random_state = 0\n",
    "  )\n",
    "  rf.fit(Xrf_train, yrf_train)"
   ]
  },
  {
   "cell_type": "code",
   "execution_count": 28,
   "metadata": {
    "scrolled": true
   },
   "outputs": [
    {
     "name": "stdout",
     "output_type": "stream",
     "text": [
      "Ward: 0.34\n",
      "Census Tracts: 0.22\n",
      "Police Beats: 0.41\n",
      "Primary Type: 0.01\n",
      "Location Description: 0.01\n",
      "Arrest_True: 0.00\n"
     ]
    }
   ],
   "source": [
    "for name, importance in zip(variables_rf, rf.feature_importances_):\n",
    "  print(f\"{name}: {importance:.2f}\")"
   ]
  },
  {
   "cell_type": "code",
   "execution_count": 30,
   "metadata": {},
   "outputs": [
    {
     "name": "stdout",
     "output_type": "stream",
     "text": [
      "Precisión Random Forest train/test  0.994/0.983\n"
     ]
    }
   ],
   "source": [
    "print('Precisión Random Forest train/test  {0:.3f}/{1:.3f}'\n",
    "      .format(rf.score(Xrf_train, yrf_train), rf.score(Xrf_test, yrf_test)))"
   ]
  },
  {
   "cell_type": "code",
   "execution_count": 31,
   "metadata": {},
   "outputs": [
    {
     "data": {
      "image/png": "[encoded data removed]",
      "text/plain": [
       "<Figure size 432x288 with 1 Axes>"
      ]
     },
     "metadata": {
      "needs_background": "light"
     },
     "output_type": "display_data"
    }
   ],
   "source": [
    "# Mostramos la importancia de cada atributo\n",
    "n_atributos = 6\n",
    "plt.barh(range(n_atributos), rf.feature_importances_, align='center')\n",
    "plt.yticks(np.arange(n_atributos), variables_rf)\n",
    "plt.xlabel(\"Importancia de atributo\")\n",
    "plt.ylabel(\"Atributo\")\n",
    "plt.show();"
   ]
  },
  {
   "cell_type": "markdown",
   "metadata": {},
   "source": [
    "## Backward Elimination - Stepwise"
   ]
  },
  {
   "cell_type": "code",
   "execution_count": 148,
   "metadata": {},
   "outputs": [],
   "source": [
    "rfe_feature_selector = RFECV(\n",
    "    LogisticRegression(solver=\"liblinear\"),\n",
    "    cv = 5,\n",
    "    scoring = \"neg_log_loss\", \n",
    "    n_jobs=-1,\n",
    ").fit(Xrf_train, yrf_train)"
   ]
  },
  {
   "cell_type": "code",
   "execution_count": 149,
   "metadata": {},
   "outputs": [
    {
     "data": {
      "image/png": "[encoded data removed]",
      "text/plain": [
       "<Figure size 720x432 with 1 Axes>"
      ]
     },
     "metadata": {},
     "output_type": "display_data"
    },
    {
     "name": "stdout",
     "output_type": "stream",
     "text": [
      "Variables a eliminar:\n"
     ]
    }
   ],
   "source": [
    "fig, ax = plt.subplots(figsize=(10, 6))\n",
    "ax.set_ylabel(\"neg_log_loss\")\n",
    "ax.set_xlabel(\"Nº de variables\")\n",
    "ax.plot(\n",
    "    [i + 1 for i in range(X_train.shape[1])],\n",
    "    rfe_feature_selector.grid_scores_\n",
    ")\n",
    "plt.show()\n",
    "\n",
    "print(\"Variables a eliminar:\")\n",
    "for feature in variables[~rfe_feature_selector.support_]:\n",
    "  print(f\"\\t{feature}\")"
   ]
  },
  {
   "cell_type": "code",
   "execution_count": 150,
   "metadata": {},
   "outputs": [],
   "source": [
    "# Nos vuelve a ocurrir lo mismo que con el modelo Gradient Boosting\n",
    "# Xrf_train = rfe_feature_selector.transform(Xrf_train)\n",
    "# variables_rf = variables_rf[rfe_feature_selector.support_]"
   ]
  },
  {
   "cell_type": "markdown",
   "metadata": {},
   "source": [
    "**En este modelo, queremos utilizar también, los métodos de selección de variables para modelos no supervisados.**\n",
    "\n",
    "- **Queremos darle al estudio un análisis sin tener en cuenta la variable objetivo, viendo que variable depende de ella misma y no de la relación con las demás.**"
   ]
  },
  {
   "cell_type": "markdown",
   "metadata": {},
   "source": [
    "### Variance Threshold"
   ]
  },
  {
   "cell_type": "code",
   "execution_count": 151,
   "metadata": {},
   "outputs": [
    {
     "data": {
      "image/png": "[encoded data removed]",
      "text/plain": [
       "<Figure size 576x576 with 1 Axes>"
      ]
     },
     "metadata": {},
     "output_type": "display_data"
    }
   ],
   "source": [
    "from sklearn.feature_selection import VarianceThreshold\n",
    "\n",
    "vt_feature_selector = VarianceThreshold(threshold=0.0)\n",
    "vt_feature_selector.fit(Xrf_train)\n",
    "fig, ax = plt.subplots(figsize = (8, 8))\n",
    "ax.barh(variables_rf, vt_feature_selector.variances_)\n",
    "plt.show()"
   ]
  },
  {
   "cell_type": "markdown",
   "metadata": {},
   "source": [
    "En caso de que necesitasemos eliminar las variables que fuesen constantes, utilizaríamos el siguiente comando:"
   ]
  },
  {
   "cell_type": "code",
   "execution_count": 152,
   "metadata": {},
   "outputs": [],
   "source": [
    "# Xrf_train = vt_feature_selector.transform(Xrf_train)\n",
    "# variables_rf = variables_rf[vt_feature_selector.get_support()]"
   ]
  },
  {
   "cell_type": "markdown",
   "metadata": {},
   "source": [
    "### Matriz de correlación"
   ]
  },
  {
   "cell_type": "code",
   "execution_count": 153,
   "metadata": {},
   "outputs": [
    {
     "data": {
      "image/png": "[encoded data removed]",
      "text/plain": [
       "<Figure size 720x720 with 2 Axes>"
      ]
     },
     "metadata": {},
     "output_type": "display_data"
    }
   ],
   "source": [
    "fig, ax = plt.subplots(figsize = (10, 10))\n",
    "cr_matrix = pd.DataFrame(columns = variables, data = Xrf_train).corr()\n",
    "im = ax.imshow(cr_matrix)\n",
    "ax.figure.colorbar(im)\n",
    "plt.xticks(range(len(variables_rf)), variables_rf, fontsize=10, rotation=90)\n",
    "plt.yticks(range(len(variables_rf)), variables_rf, fontsize=10, rotation=0)\n",
    "plt.show()"
   ]
  },
  {
   "cell_type": "code",
   "execution_count": 154,
   "metadata": {},
   "outputs": [],
   "source": [
    "from scipy.stats import pearsonr\n",
    "\n",
    "class ColinearityFeatureSelector(object):\n",
    "  \"\"\" Implementa una transformación con el estilo de scikit-learn.\n",
    "  \"\"\"\n",
    "\n",
    "  def __init__(self, threshold = 1.0):\n",
    "    \"\"\" Constructor del objeto.\n",
    "    Args:\n",
    "      threshold (float): Umbral que decide si dos variables son colineares. Es\n",
    "        el coeficiente de correlacion de pearson elevado al cuadrado.\n",
    "    \"\"\"\n",
    "    self.threshold = threshold\n",
    "\n",
    "  def fit(self, X):\n",
    "    \"\"\" Entrenamiento del transformador.\n",
    "    Args:\n",
    "      X(np.Array): Matriz de atributos bidimensional.\n",
    "    Returns:\n",
    "      Referencia a sí mismo.\n",
    "    \"\"\"\n",
    "    to_remove = []\n",
    "    for i in range(X.shape[1]):\n",
    "      for j in range(i + 1, X.shape[1]):\n",
    "        r, _ = pearsonr(X[:, i], X[:, j])\n",
    "        if r**2 >= self.threshold: \n",
    "          to_remove.append(j)\n",
    "    self.support_ = np.array([i not in to_remove for i in range(X.shape[1])])\n",
    "    return self\n",
    "\n",
    "  def transform(self, X):\n",
    "    \"\"\" Elimina las variables que se han marcado como colineares.\n",
    "    Args:\n",
    "      X(np.Array): Matriz de atributos bidimensional.\n",
    "    Returns:\n",
    "      X transformada.\n",
    "    \"\"\"\n",
    "    return X[:, self.support_]\n",
    "\n",
    "  def fit_transform(self, X):\n",
    "    \"\"\" Entrena, y luego transforma la matriz X.\n",
    "    Args:\n",
    "      X(np.Array): Matriz de atributos bidimensional.\n",
    "    Returns:\n",
    "      X transformada.\n",
    "    \"\"\"\n",
    "    return self.fit(X).transform(X)"
   ]
  },
  {
   "cell_type": "code",
   "execution_count": 155,
   "metadata": {},
   "outputs": [
    {
     "name": "stdout",
     "output_type": "stream",
     "text": [
      "Variables a eliminar:\n"
     ]
    }
   ],
   "source": [
    "cl_feature_selector = ColinearityFeatureSelector(threshold = 0.9)\n",
    "cl_feature_selector.fit(Xrf_train)\n",
    "print(\"Variables a eliminar:\")\n",
    "for feature in variables_rf[~cl_feature_selector.support_]:\n",
    "  print(f\"\\t{feature}\")"
   ]
  },
  {
   "cell_type": "code",
   "execution_count": 156,
   "metadata": {},
   "outputs": [],
   "source": [
    "# De nuevo no tenemos variables a eliminar\n",
    "\n",
    "# Xrf_train = cl_feature_selector.transform(Xrf_train)\n",
    "# variables_rf = variables_rf[cl_feature_selector.support_]"
   ]
  },
  {
   "cell_type": "markdown",
   "metadata": {},
   "source": [
    "### Optimización de hiperparámetros"
   ]
  },
  {
   "cell_type": "code",
   "execution_count": 157,
   "metadata": {},
   "outputs": [
    {
     "name": "stdout",
     "output_type": "stream",
     "text": [
      "Fitting 5 folds for each of 27 candidates, totalling 135 fits\n"
     ]
    },
    {
     "name": "stderr",
     "output_type": "stream",
     "text": [
      "[Parallel(n_jobs=-1)]: Using backend LokyBackend with 8 concurrent workers.\n",
      "[Parallel(n_jobs=-1)]: Done  34 tasks      | elapsed: 19.5min\n",
      "[Parallel(n_jobs=-1)]: Done 135 out of 135 | elapsed: 81.4min finished\n"
     ]
    }
   ],
   "source": [
    "from sklearn.model_selection import GridSearchCV\n",
    "\n",
    "np.random.seed(0)\n",
    "\n",
    "param_grid = {\n",
    "    \"n_estimators\": [1, 50, 100],\n",
    "    \"min_samples_split\": [2, 30, 60],\n",
    "    \"subsample\": [1.0, 0.8, 0.6]\n",
    "}\n",
    "\n",
    "grid_search_rf = GridSearchCV(\n",
    "    GradientBoostingClassifier(),\n",
    "    param_grid = param_grid,\n",
    "    cv = 5,\n",
    "    verbose = 1,\n",
    "    return_train_score = True,\n",
    "    scoring = \"neg_log_loss\",\n",
    "    n_jobs=-1\n",
    ").fit(Xrf_train, yrf_train)"
   ]
  },
  {
   "cell_type": "code",
   "execution_count": 158,
   "metadata": {},
   "outputs": [
    {
     "data": {
      "text/html": [
       "<div>\n",
       "<style scoped>\n",
       "    .dataframe tbody tr th:only-of-type {\n",
       "        vertical-align: middle;\n",
       "    }\n",
       "\n",
       "    .dataframe tbody tr th {\n",
       "        vertical-align: top;\n",
       "    }\n",
       "\n",
       "    .dataframe thead tr th {\n",
       "        text-align: left;\n",
       "    }\n",
       "\n",
       "    .dataframe thead tr:last-of-type th {\n",
       "        text-align: right;\n",
       "    }\n",
       "</style>\n",
       "<table border=\"1\" class=\"dataframe\">\n",
       "  <thead>\n",
       "    <tr>\n",
       "      <th></th>\n",
       "      <th></th>\n",
       "      <th></th>\n",
       "      <th colspan=\"2\" halign=\"left\">train_score</th>\n",
       "      <th colspan=\"2\" halign=\"left\">test_score</th>\n",
       "    </tr>\n",
       "    <tr>\n",
       "      <th></th>\n",
       "      <th></th>\n",
       "      <th></th>\n",
       "      <th>mean</th>\n",
       "      <th>var</th>\n",
       "      <th>mean</th>\n",
       "      <th>var</th>\n",
       "    </tr>\n",
       "    <tr>\n",
       "      <th>min_samples_split</th>\n",
       "      <th>n_estimators</th>\n",
       "      <th>subsample</th>\n",
       "      <th></th>\n",
       "      <th></th>\n",
       "      <th></th>\n",
       "      <th></th>\n",
       "    </tr>\n",
       "  </thead>\n",
       "  <tbody>\n",
       "    <tr>\n",
       "      <td rowspan=\"9\" valign=\"top\">2</td>\n",
       "      <td rowspan=\"3\" valign=\"top\">1</td>\n",
       "      <td>0.6</td>\n",
       "      <td>-2.076816</td>\n",
       "      <td>1.660484e-05</td>\n",
       "      <td>-2.077233</td>\n",
       "      <td>0.000012</td>\n",
       "    </tr>\n",
       "    <tr>\n",
       "      <td>0.8</td>\n",
       "      <td>-2.073783</td>\n",
       "      <td>1.375726e-05</td>\n",
       "      <td>-2.075137</td>\n",
       "      <td>0.000046</td>\n",
       "    </tr>\n",
       "    <tr>\n",
       "      <td>1.0</td>\n",
       "      <td>-2.076489</td>\n",
       "      <td>3.592023e-06</td>\n",
       "      <td>-2.077917</td>\n",
       "      <td>0.000047</td>\n",
       "    </tr>\n",
       "    <tr>\n",
       "      <td rowspan=\"3\" valign=\"top\">50</td>\n",
       "      <td>0.6</td>\n",
       "      <td>-0.122954</td>\n",
       "      <td>3.296561e-06</td>\n",
       "      <td>-0.127552</td>\n",
       "      <td>0.000029</td>\n",
       "    </tr>\n",
       "    <tr>\n",
       "      <td>0.8</td>\n",
       "      <td>-0.123111</td>\n",
       "      <td>2.290099e-06</td>\n",
       "      <td>-0.126862</td>\n",
       "      <td>0.000008</td>\n",
       "    </tr>\n",
       "    <tr>\n",
       "      <td>1.0</td>\n",
       "      <td>-0.123747</td>\n",
       "      <td>2.966999e-06</td>\n",
       "      <td>-0.128159</td>\n",
       "      <td>0.000007</td>\n",
       "    </tr>\n",
       "    <tr>\n",
       "      <td rowspan=\"3\" valign=\"top\">100</td>\n",
       "      <td>0.6</td>\n",
       "      <td>-0.106263</td>\n",
       "      <td>2.766821e-03</td>\n",
       "      <td>-0.116058</td>\n",
       "      <td>0.003129</td>\n",
       "    </tr>\n",
       "    <tr>\n",
       "      <td>0.8</td>\n",
       "      <td>-0.068153</td>\n",
       "      <td>3.293751e-04</td>\n",
       "      <td>-0.079862</td>\n",
       "      <td>0.000591</td>\n",
       "    </tr>\n",
       "    <tr>\n",
       "      <td>1.0</td>\n",
       "      <td>-0.076356</td>\n",
       "      <td>4.355390e-04</td>\n",
       "      <td>-0.084876</td>\n",
       "      <td>0.000360</td>\n",
       "    </tr>\n",
       "    <tr>\n",
       "      <td rowspan=\"9\" valign=\"top\">30</td>\n",
       "      <td rowspan=\"3\" valign=\"top\">1</td>\n",
       "      <td>0.6</td>\n",
       "      <td>-2.076939</td>\n",
       "      <td>7.483359e-06</td>\n",
       "      <td>-2.078902</td>\n",
       "      <td>0.000035</td>\n",
       "    </tr>\n",
       "    <tr>\n",
       "      <td>0.8</td>\n",
       "      <td>-2.076072</td>\n",
       "      <td>1.597086e-05</td>\n",
       "      <td>-2.076213</td>\n",
       "      <td>0.000028</td>\n",
       "    </tr>\n",
       "    <tr>\n",
       "      <td>1.0</td>\n",
       "      <td>-2.076493</td>\n",
       "      <td>3.578650e-06</td>\n",
       "      <td>-2.077922</td>\n",
       "      <td>0.000047</td>\n",
       "    </tr>\n",
       "    <tr>\n",
       "      <td rowspan=\"3\" valign=\"top\">50</td>\n",
       "      <td>0.6</td>\n",
       "      <td>-0.123559</td>\n",
       "      <td>2.148885e-06</td>\n",
       "      <td>-0.127973</td>\n",
       "      <td>0.000009</td>\n",
       "    </tr>\n",
       "    <tr>\n",
       "      <td>0.8</td>\n",
       "      <td>-0.122979</td>\n",
       "      <td>3.619049e-07</td>\n",
       "      <td>-0.127576</td>\n",
       "      <td>0.000010</td>\n",
       "    </tr>\n",
       "    <tr>\n",
       "      <td>1.0</td>\n",
       "      <td>-0.123842</td>\n",
       "      <td>1.382580e-06</td>\n",
       "      <td>-0.127860</td>\n",
       "      <td>0.000010</td>\n",
       "    </tr>\n",
       "    <tr>\n",
       "      <td rowspan=\"3\" valign=\"top\">100</td>\n",
       "      <td>0.6</td>\n",
       "      <td>-0.111500</td>\n",
       "      <td>7.825002e-03</td>\n",
       "      <td>-0.114872</td>\n",
       "      <td>0.005397</td>\n",
       "    </tr>\n",
       "    <tr>\n",
       "      <td>0.8</td>\n",
       "      <td>-0.082953</td>\n",
       "      <td>5.150474e-04</td>\n",
       "      <td>-0.091204</td>\n",
       "      <td>0.000463</td>\n",
       "    </tr>\n",
       "    <tr>\n",
       "      <td>1.0</td>\n",
       "      <td>-0.071072</td>\n",
       "      <td>4.485656e-04</td>\n",
       "      <td>-0.079536</td>\n",
       "      <td>0.000180</td>\n",
       "    </tr>\n",
       "    <tr>\n",
       "      <td rowspan=\"9\" valign=\"top\">60</td>\n",
       "      <td rowspan=\"3\" valign=\"top\">1</td>\n",
       "      <td>0.6</td>\n",
       "      <td>-2.076354</td>\n",
       "      <td>3.874062e-05</td>\n",
       "      <td>-2.077885</td>\n",
       "      <td>0.000020</td>\n",
       "    </tr>\n",
       "    <tr>\n",
       "      <td>0.8</td>\n",
       "      <td>-2.075898</td>\n",
       "      <td>2.466080e-06</td>\n",
       "      <td>-2.077367</td>\n",
       "      <td>0.000048</td>\n",
       "    </tr>\n",
       "    <tr>\n",
       "      <td>1.0</td>\n",
       "      <td>-2.076493</td>\n",
       "      <td>3.578650e-06</td>\n",
       "      <td>-2.077922</td>\n",
       "      <td>0.000047</td>\n",
       "    </tr>\n",
       "    <tr>\n",
       "      <td rowspan=\"3\" valign=\"top\">50</td>\n",
       "      <td>0.6</td>\n",
       "      <td>-0.122631</td>\n",
       "      <td>2.196633e-06</td>\n",
       "      <td>-0.126528</td>\n",
       "      <td>0.000007</td>\n",
       "    </tr>\n",
       "    <tr>\n",
       "      <td>0.8</td>\n",
       "      <td>-0.123709</td>\n",
       "      <td>6.584940e-07</td>\n",
       "      <td>-0.127156</td>\n",
       "      <td>0.000018</td>\n",
       "    </tr>\n",
       "    <tr>\n",
       "      <td>1.0</td>\n",
       "      <td>-0.123851</td>\n",
       "      <td>9.618161e-07</td>\n",
       "      <td>-0.127768</td>\n",
       "      <td>0.000010</td>\n",
       "    </tr>\n",
       "    <tr>\n",
       "      <td rowspan=\"3\" valign=\"top\">100</td>\n",
       "      <td>0.6</td>\n",
       "      <td>-0.067735</td>\n",
       "      <td>9.393371e-05</td>\n",
       "      <td>-0.075906</td>\n",
       "      <td>0.000054</td>\n",
       "    </tr>\n",
       "    <tr>\n",
       "      <td>0.8</td>\n",
       "      <td>-0.074753</td>\n",
       "      <td>4.358500e-04</td>\n",
       "      <td>-0.081469</td>\n",
       "      <td>0.000281</td>\n",
       "    </tr>\n",
       "    <tr>\n",
       "      <td>1.0</td>\n",
       "      <td>-0.084792</td>\n",
       "      <td>5.160493e-04</td>\n",
       "      <td>-0.090401</td>\n",
       "      <td>0.000323</td>\n",
       "    </tr>\n",
       "  </tbody>\n",
       "</table>\n",
       "</div>"
      ],
      "text/plain": [
       "                                         train_score               test_score  \\\n",
       "                                                mean           var       mean   \n",
       "min_samples_split n_estimators subsample                                        \n",
       "2                 1            0.6         -2.076816  1.660484e-05  -2.077233   \n",
       "                               0.8         -2.073783  1.375726e-05  -2.075137   \n",
       "                               1.0         -2.076489  3.592023e-06  -2.077917   \n",
       "                  50           0.6         -0.122954  3.296561e-06  -0.127552   \n",
       "                               0.8         -0.123111  2.290099e-06  -0.126862   \n",
       "                               1.0         -0.123747  2.966999e-06  -0.128159   \n",
       "                  100          0.6         -0.106263  2.766821e-03  -0.116058   \n",
       "                               0.8         -0.068153  3.293751e-04  -0.079862   \n",
       "                               1.0         -0.076356  4.355390e-04  -0.084876   \n",
       "30                1            0.6         -2.076939  7.483359e-06  -2.078902   \n",
       "                               0.8         -2.076072  1.597086e-05  -2.076213   \n",
       "                               1.0         -2.076493  3.578650e-06  -2.077922   \n",
       "                  50           0.6         -0.123559  2.148885e-06  -0.127973   \n",
       "                               0.8         -0.122979  3.619049e-07  -0.127576   \n",
       "                               1.0         -0.123842  1.382580e-06  -0.127860   \n",
       "                  100          0.6         -0.111500  7.825002e-03  -0.114872   \n",
       "                               0.8         -0.082953  5.150474e-04  -0.091204   \n",
       "                               1.0         -0.071072  4.485656e-04  -0.079536   \n",
       "60                1            0.6         -2.076354  3.874062e-05  -2.077885   \n",
       "                               0.8         -2.075898  2.466080e-06  -2.077367   \n",
       "                               1.0         -2.076493  3.578650e-06  -2.077922   \n",
       "                  50           0.6         -0.122631  2.196633e-06  -0.126528   \n",
       "                               0.8         -0.123709  6.584940e-07  -0.127156   \n",
       "                               1.0         -0.123851  9.618161e-07  -0.127768   \n",
       "                  100          0.6         -0.067735  9.393371e-05  -0.075906   \n",
       "                               0.8         -0.074753  4.358500e-04  -0.081469   \n",
       "                               1.0         -0.084792  5.160493e-04  -0.090401   \n",
       "\n",
       "                                                    \n",
       "                                               var  \n",
       "min_samples_split n_estimators subsample            \n",
       "2                 1            0.6        0.000012  \n",
       "                               0.8        0.000046  \n",
       "                               1.0        0.000047  \n",
       "                  50           0.6        0.000029  \n",
       "                               0.8        0.000008  \n",
       "                               1.0        0.000007  \n",
       "                  100          0.6        0.003129  \n",
       "                               0.8        0.000591  \n",
       "                               1.0        0.000360  \n",
       "30                1            0.6        0.000035  \n",
       "                               0.8        0.000028  \n",
       "                               1.0        0.000047  \n",
       "                  50           0.6        0.000009  \n",
       "                               0.8        0.000010  \n",
       "                               1.0        0.000010  \n",
       "                  100          0.6        0.005397  \n",
       "                               0.8        0.000463  \n",
       "                               1.0        0.000180  \n",
       "60                1            0.6        0.000020  \n",
       "                               0.8        0.000048  \n",
       "                               1.0        0.000047  \n",
       "                  50           0.6        0.000007  \n",
       "                               0.8        0.000018  \n",
       "                               1.0        0.000010  \n",
       "                  100          0.6        0.000054  \n",
       "                               0.8        0.000281  \n",
       "                               1.0        0.000323  "
      ]
     },
     "execution_count": 158,
     "metadata": {},
     "output_type": "execute_result"
    }
   ],
   "source": [
    "extract_results(grid_search_rf)"
   ]
  },
  {
   "cell_type": "code",
   "execution_count": 159,
   "metadata": {},
   "outputs": [
    {
     "name": "stdout",
     "output_type": "stream",
     "text": [
      "Mejores parámetros: {'min_samples_split': 60, 'n_estimators': 100, 'subsample': 0.6}\n",
      "Mejor resultado: -0.076\n"
     ]
    }
   ],
   "source": [
    "print(f\"Mejores parámetros: {grid_search_rf.best_params_}\")\n",
    "print(f\"Mejor resultado: {grid_search_rf.best_score_:.3f}\")"
   ]
  },
  {
   "cell_type": "markdown",
   "metadata": {},
   "source": [
    "### Evaluación final del Random Forest"
   ]
  },
  {
   "cell_type": "code",
   "execution_count": 242,
   "metadata": {},
   "outputs": [],
   "source": [
    "from sklearn.pipeline import Pipeline\n",
    "from sklearn.metrics import log_loss\n",
    "\n",
    "pipeline = Pipeline([\n",
    "    (\"variance\", vt_feature_selector),\n",
    "  (\"colinear\", cl_feature_selector),\n",
    "  (\"rfe\", rfe_feature_selector),\n",
    "  (\"estimator\", grid_search)                      \n",
    "])"
   ]
  },
  {
   "cell_type": "code",
   "execution_count": 241,
   "metadata": {},
   "outputs": [
    {
     "name": "stdout",
     "output_type": "stream",
     "text": [
      "Log loss test: 0.258\n"
     ]
    }
   ],
   "source": [
    "ygb_test_pred = pipeline.predict_proba(Xrf_test)\n",
    "print(f\"Log loss test: {log_loss(yrf_test, yrf_test_pred):.3f}\")"
   ]
  }
 ],
 "metadata": {
  "kernelspec": {
   "display_name": "Python 3",
   "language": "python",
   "name": "python3"
  },
  "language_info": {
   "codemirror_mode": {
    "name": "ipython",
    "version": 3
   },
   "file_extension": ".py",
   "mimetype": "text/x-python",
   "name": "python",
   "nbconvert_exporter": "python",
   "pygments_lexer": "ipython3",
   "version": "3.7.4"
  }
 },
 "nbformat": 4,
 "nbformat_minor": 2
}
